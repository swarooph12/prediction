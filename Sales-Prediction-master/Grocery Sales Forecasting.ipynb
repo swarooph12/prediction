{
 "cells": [
  {
   "cell_type": "markdown",
   "metadata": {},
   "source": [
    "#  <h1><center>Grocery Sales Forcesting for Supermarket</center></h1>\n",
    "\n",
    "<img src=\"header.png\">\n",
    "\n",
    "Img Source: Kaggle.com\n",
    "\n",
    "## Table of Contents\n",
    "\n",
    "1. Abstract\n",
    "\n",
    "2. Introduction\n",
    "\n",
    "3. Data Sources\n",
    "\n",
    "   3.a. Data Loading\n",
    "   \n",
    "   3.b. Anamoly Detection\n",
    "   \n",
    "   3.c. Data Preparation and Data Cleaning\n",
    "   \n",
    "4. Analyzing Impact of Oil on the Sales\n",
    "\n",
    "5. Data Blending\n",
    "\n",
    "6. Product Purchase Trend\n",
    "\n",
    "   6.a Fetching N most purchased products\n",
    "\n",
    "7. Exploratory Data Analysis\n",
    "\n",
    "8. Data Transformation\n",
    "\n",
    "   8.a. One Hot Encoding\n",
    "   \n",
    "9. Regression Techniques\n",
    "   9.a Linear Regression\n",
    "   \n",
    "   9.b Decision Tree Regressors\n",
    "   \n",
    "   9.c Extra Tree Regressors\n",
    "   \n",
    "   9.d Random Forest Regressors\n",
    "   \n",
    "   9.e Gradient Boosting Regressors\n",
    "   \n",
    "   9.f XGBoost\n",
    "   \n",
    "10. Light Gradient Boosting Method (LGBM)\n",
    "\n",
    "11. Creating Neural Network\n",
    "\n",
    "12. Conclusion\n",
    "\n",
    "13. References and Attributions\n",
    "\n"
   ]
  },
  {
   "cell_type": "markdown",
   "metadata": {},
   "source": [
    "# 1. Abstract\n",
    "\n",
    "<img src=\"Forecast.jpg\">\n",
    "\n",
    "Product sales forecasting is a major aspect of purchasing management. Forecasts are crucial in\n",
    "determining inventory stock levels, and accurately estimating future demand for goods has been an\n",
    "ongoing challenge, especially in the Supermarkets and Grocery Stores industry. If goods are not readily\n",
    "available or goods availability is more than demand overall profit can be compromised. As a result, sales\n",
    "forecasting for goods can be significant to ensure loss is minimized. Additionally, the problem becomes\n",
    "more complex as retailers add new locations with unique needs, new products, ever transitioning\n",
    "seasonal tastes, and unpredictable product marketing. In this analysis, a forecasting model is developed\n",
    "using machine learning algorithms to improve the accurately forecasts product sales. The proposed\n",
    "model is especially targeted to support the future purchase and more accurate forecasts product sales\n",
    "and is not intended to change current subjective forecasting methods. A model based on a real grocery\n",
    "store's data is developed in order to validate the use of the various machine learning algorithms. In the\n",
    "case study, multiple regression methods are compared. The methods impact on forecast product\n",
    "availability in store to ensure they have just enough products at right time.\n",
    "\n",
    "## The aim of this project is to forecast more accurate product sales for the Ecuadorian supermarket chain based on certain features.\n"
   ]
  },
  {
   "cell_type": "markdown",
   "metadata": {},
   "source": [
    "# 2. Introduction\n",
    "\n",
    "In this project, we are trying to forecasts product sales based on the items, stores, transaction and other\n",
    "dependent variables like holidays and oil prices.\n",
    "\n",
    "This is a Kaggle Competition called \"Corporación Favorita Grocery Sales Forecasting\" where the task is to\n",
    "predict stocking of products to better ensure grocery stores please customers by having just enough of\n",
    "the right products at the right time.\n",
    "\n",
    "For this particular problem, we have analyzed the data as a supervised learning problem. In order to\n",
    "forecasts the sales we have compared different regression models like Linear Regression, Decision Tree,\n",
    "ExtraTreeRegressor, Gradient Boosting, Random Forest and XgBoost. Further to optimize the results we\n",
    "have used multilayer perception (MLP: a class of feed forward artificial neural network) and LightGBM (\n",
    "gradient boosting framework that uses tree based learning algorithms).\n",
    "\n",
    "The data comes in the shape of multiple files. First, the training data (train.csv) essentially contains the sales by date, store, and item. The test data (test.csv) contains the same features without the sales information, which we are tasked to predict. The train vs test split is based on the date. In addition, some test items are not included in the train data.\n",
    "\n",
    "<img src=\"background.jpg\">"
   ]
  },
  {
   "cell_type": "code",
   "execution_count": 2,
   "metadata": {},
   "outputs": [
    {
     "name": "stdout",
     "output_type": "stream",
     "text": [
      "Collecting lightgbm\n",
      "  Downloading https://files.pythonhosted.org/packages/1f/cb/a8ec24334c35a7d0c87b4e4e056bd2137573c7c1bd81c760b79a2f370254/lightgbm-2.3.1-py2.py3-none-win_amd64.whl (544kB)\n",
      "Requirement already satisfied: numpy in c:\\users\\user\\appdata\\local\\programs\\python\\python37\\lib\\site-packages (from lightgbm) (1.17.3)\n",
      "Requirement already satisfied: scikit-learn in c:\\users\\user\\appdata\\local\\programs\\python\\python37\\lib\\site-packages (from lightgbm) (0.22)\n",
      "Requirement already satisfied: scipy in c:\\users\\user\\appdata\\local\\programs\\python\\python37\\lib\\site-packages (from lightgbm) (1.4.1)\n",
      "Requirement already satisfied: joblib>=0.11 in c:\\users\\user\\appdata\\local\\programs\\python\\python37\\lib\\site-packages (from scikit-learn->lightgbm) (0.14.1)\n",
      "Installing collected packages: lightgbm\n",
      "Successfully installed lightgbm-2.3.1\n",
      "Note: you may need to restart the kernel to use updated packages.\n"
     ]
    }
   ],
   "source": [
    "pip install lightgbm"
   ]
  },
  {
   "cell_type": "code",
   "execution_count": 3,
   "metadata": {},
   "outputs": [],
   "source": [
    "#Loading all the relevant libraries\n",
    "import pandas as pd\n",
    "import numpy as np\n",
    "import matplotlib.pyplot as plt\n",
    "import seaborn as sns\n",
    "from scipy import stats\n",
    "from sklearn.preprocessing import LabelEncoder,minmax_scale,PolynomialFeatures,StandardScaler,Normalizer\n",
    "from sklearn.model_selection import KFold,GridSearchCV,train_test_split\n",
    "import matplotlib.pyplot as plt\n",
    "from scipy.stats import itemfreq\n",
    "import seaborn as sns\n",
    "from sklearn import linear_model\n",
    "from sklearn.model_selection import cross_val_score\n",
    "from sklearn.linear_model import Lasso\n",
    "from sklearn.preprocessing import StandardScaler\n",
    "from sklearn.linear_model import LinearRegression, Ridge, LassoCV, ElasticNetCV\n",
    "from sklearn.metrics import mean_squared_error, make_scorer\n",
    "#from sklearn.model_selection import train_test_split\n",
    "%matplotlib inline\n",
    "import datetime\n",
    "from datetime import date, timedelta\n",
    "from sklearn.tree import DecisionTreeRegressor\n",
    "from sklearn.metrics import r2_score\n",
    "from sklearn.metrics import mean_squared_error\n",
    "from sklearn.ensemble import ExtraTreesRegressor\n",
    "from sklearn.ensemble import RandomForestRegressor\n",
    "from sklearn.model_selection import GridSearchCV\n",
    "from sklearn.ensemble import GradientBoostingRegressor\n",
    "from xgboost import XGBRegressor\n",
    "import keras\n",
    "import sys\n",
    "from keras.layers.core import Dense, Dropout, Activation\n",
    "from keras.models import Sequential\n",
    "from keras.layers.core import Dense, Dropout, Activation\n",
    "import lightgbm as lgb"
   ]
  },
  {
   "cell_type": "markdown",
   "metadata": {},
   "source": [
    "# 3. Data Sources\n",
    "There are 5 additional data files that provide the following information:\n",
    "\n",
    "-- stores.csv : Details about the stores, such as location and type.\n",
    "\n",
    "-- items.csv: Item metadata, such as class and whether they are perishable. Note, that perishable items have a higher scoring weight than others.\n",
    "\n",
    "-- transactions.csv: Count of sales transactions for the training data\n",
    "\n",
    "-- oil.csv: Daily oil price. This is relevant, because “Ecuador is an oil-dependent country and its economical health is highly vulnerable to shocks in oil prices.” (source)\n",
    "\n",
    "-- holidays_events.csv: Holidays in Ecuador. Some holidays can be transferred to another day (possibly from weekend to weekday).\n",
    "\n",
    "\n",
    "<img src=\"Capture1.jpg\">\n",
    "\n",
    "\n",
    "The text in the document by Source Kaggle is licensed under CC BY 3.0 https://creativecommons.org/licenses/by/3.0/us/\n"
   ]
  },
  {
   "cell_type": "markdown",
   "metadata": {},
   "source": [
    "# 3.a. Data Loading"
   ]
  },
  {
   "cell_type": "code",
   "execution_count": 15,
   "metadata": {},
   "outputs": [],
   "source": [
    "#Loading the data\n",
    "dtypes = {'store_nbr': np.dtype('int64'),\n",
    "          'item_nbr': np.dtype('int64'),\n",
    "          'unit_sales': np.dtype('float64'),\n",
    "          'onpromotion': np.dtype('O')}\n",
    "\n",
    "Sales = pd.read_csv('train.csv', dtype=dtypes)\n",
    "test = pd.read_csv('test.csv', dtype=dtypes)\n",
    "stores = pd.read_csv('stores.csv')\n",
    "items = pd.read_csv('items.csv')\n",
    "trans = pd.read_csv('transactions.csv')\n",
    "#oil = pd.read_csv('../input/oil.csv') #we upload this database later\n",
    "holidays = pd.read_csv('holidays_events.csv')"
   ]
  },
  {
   "cell_type": "code",
   "execution_count": 16,
   "metadata": {},
   "outputs": [
    {
     "data": {
      "text/plain": [
       "3359566"
      ]
     },
     "execution_count": 16,
     "metadata": {},
     "output_type": "execute_result"
    }
   ],
   "source": [
    "#sampling the data, since the data is too huge to carry put any operations\n",
    "date_mask = (Sales['date'] >= '2017-07-15') & (Sales['date'] <= '2017-08-15')\n",
    "\n",
    "Salesdf = Sales[date_mask]\n",
    "\n",
    "#Print the size\n",
    "len(Salesdf)"
   ]
  },
  {
   "cell_type": "markdown",
   "metadata": {},
   "source": [
    "# 3.b. Anamoly Detection"
   ]
  },
  {
   "cell_type": "code",
   "execution_count": 18,
   "metadata": {},
   "outputs": [],
   "source": [
    "#Load the data\n",
    "oil = pd.read_csv('oil.csv')\n",
    "\n",
    "#add missing date\n",
    "min_oil_date = min(Salesdf.date)\n",
    "max_oil_date = max(Salesdf.date)\n",
    "\n",
    "calendar = []\n",
    "\n",
    "d1 = datetime.datetime.strptime(min_oil_date, '%Y-%m-%d')  # start date\n",
    "d2 = datetime.datetime.strptime(max_oil_date, '%Y-%m-%d')  # end date\n",
    "\n",
    "delta = d2 - d1         # timedelta\n",
    "\n",
    "for i in range(delta.days + 1):\n",
    "    calendar.append(datetime.date.strftime(d1 + timedelta(days=i), '%Y-%m-%d'))\n",
    "\n",
    "calendar = pd.DataFrame({'date':calendar})\n",
    "\n",
    "oil = calendar.merge(oil, left_on='date', right_on='date', how='left')"
   ]
  },
  {
   "cell_type": "code",
   "execution_count": 19,
   "metadata": {},
   "outputs": [
    {
     "data": {
      "text/html": [
       "<div>\n",
       "<style scoped>\n",
       "    .dataframe tbody tr th:only-of-type {\n",
       "        vertical-align: middle;\n",
       "    }\n",
       "\n",
       "    .dataframe tbody tr th {\n",
       "        vertical-align: top;\n",
       "    }\n",
       "\n",
       "    .dataframe thead th {\n",
       "        text-align: right;\n",
       "    }\n",
       "</style>\n",
       "<table border=\"1\" class=\"dataframe\">\n",
       "  <thead>\n",
       "    <tr style=\"text-align: right;\">\n",
       "      <th></th>\n",
       "      <th>date</th>\n",
       "      <th>dcoilwtico</th>\n",
       "    </tr>\n",
       "  </thead>\n",
       "  <tbody>\n",
       "    <tr>\n",
       "      <th>0</th>\n",
       "      <td>2017-07-15</td>\n",
       "      <td>NaN</td>\n",
       "    </tr>\n",
       "    <tr>\n",
       "      <th>1</th>\n",
       "      <td>2017-07-16</td>\n",
       "      <td>NaN</td>\n",
       "    </tr>\n",
       "    <tr>\n",
       "      <th>2</th>\n",
       "      <td>2017-07-17</td>\n",
       "      <td>46.02</td>\n",
       "    </tr>\n",
       "    <tr>\n",
       "      <th>3</th>\n",
       "      <td>2017-07-18</td>\n",
       "      <td>46.40</td>\n",
       "    </tr>\n",
       "    <tr>\n",
       "      <th>4</th>\n",
       "      <td>2017-07-19</td>\n",
       "      <td>47.10</td>\n",
       "    </tr>\n",
       "  </tbody>\n",
       "</table>\n",
       "</div>"
      ],
      "text/plain": [
       "         date  dcoilwtico\n",
       "0  2017-07-15         NaN\n",
       "1  2017-07-16         NaN\n",
       "2  2017-07-17       46.02\n",
       "3  2017-07-18       46.40\n",
       "4  2017-07-19       47.10"
      ]
     },
     "execution_count": 19,
     "metadata": {},
     "output_type": "execute_result"
    }
   ],
   "source": [
    "oil.head()"
   ]
  },
  {
   "cell_type": "markdown",
   "metadata": {},
   "source": [
    "# 3.c Data Preparation and Data Cleaning"
   ]
  },
  {
   "cell_type": "code",
   "execution_count": 23,
   "metadata": {},
   "outputs": [
    {
     "name": "stdout",
     "output_type": "stream",
     "text": [
      "date          0\n",
      "dcoilwtico    0\n",
      "dtype: int64 \n",
      "\n",
      "Type :  \n",
      " date           object\n",
      "dcoilwtico    float64\n",
      "dtype: object\n"
     ]
    },
    {
     "data": {
      "text/html": [
       "<div>\n",
       "<style scoped>\n",
       "    .dataframe tbody tr th:only-of-type {\n",
       "        vertical-align: middle;\n",
       "    }\n",
       "\n",
       "    .dataframe tbody tr th {\n",
       "        vertical-align: top;\n",
       "    }\n",
       "\n",
       "    .dataframe thead th {\n",
       "        text-align: right;\n",
       "    }\n",
       "</style>\n",
       "<table border=\"1\" class=\"dataframe\">\n",
       "  <thead>\n",
       "    <tr style=\"text-align: right;\">\n",
       "      <th></th>\n",
       "      <th>date</th>\n",
       "      <th>dcoilwtico</th>\n",
       "    </tr>\n",
       "  </thead>\n",
       "  <tbody>\n",
       "    <tr>\n",
       "      <th>0</th>\n",
       "      <td>2017-07-15</td>\n",
       "      <td>46.02</td>\n",
       "    </tr>\n",
       "    <tr>\n",
       "      <th>1</th>\n",
       "      <td>2017-07-16</td>\n",
       "      <td>46.02</td>\n",
       "    </tr>\n",
       "    <tr>\n",
       "      <th>2</th>\n",
       "      <td>2017-07-17</td>\n",
       "      <td>46.02</td>\n",
       "    </tr>\n",
       "    <tr>\n",
       "      <th>3</th>\n",
       "      <td>2017-07-18</td>\n",
       "      <td>46.40</td>\n",
       "    </tr>\n",
       "    <tr>\n",
       "      <th>4</th>\n",
       "      <td>2017-07-19</td>\n",
       "      <td>47.10</td>\n",
       "    </tr>\n",
       "  </tbody>\n",
       "</table>\n",
       "</div>"
      ],
      "text/plain": [
       "         date  dcoilwtico\n",
       "0  2017-07-15       46.02\n",
       "1  2017-07-16       46.02\n",
       "2  2017-07-17       46.02\n",
       "3  2017-07-18       46.40\n",
       "4  2017-07-19       47.10"
      ]
     },
     "execution_count": 23,
     "metadata": {},
     "output_type": "execute_result"
    }
   ],
   "source": [
    "#Check how many NA\n",
    "print(oil.isnull().sum(), '\\n')\n",
    "\n",
    "#Type\n",
    "\n",
    "\n",
    "print('Type : ', '\\n', oil.dtypes)\n",
    "\n",
    "#Print the 3 first line\n",
    "oil.head(5)"
   ]
  },
  {
   "cell_type": "markdown",
   "metadata": {},
   "source": [
    "# 4. Analyzing Impact of Oil on the sales of other products"
   ]
  },
  {
   "cell_type": "code",
   "execution_count": 24,
   "metadata": {},
   "outputs": [],
   "source": [
    "#Check index to apply the formula\n",
    "na_index_oil = oil[oil['dcoilwtico'].isnull() == True].index.values\n",
    "\n",
    "#Define the index to use to apply the formala\n",
    "na_index_oil_plus = na_index_oil.copy()\n",
    "na_index_oil_minus = np.maximum(0, na_index_oil-1)\n",
    "\n",
    "for i in range(len(na_index_oil)):\n",
    "    k = 1\n",
    "    while (na_index_oil[min(i+k,len(na_index_oil)-1)] == na_index_oil[i]+k):\n",
    "        k += 1\n",
    "    na_index_oil_plus[i] = min(len(oil)-1, na_index_oil_plus[i] + k )\n",
    "\n",
    "#Apply the formula\n",
    "for i in range(len(na_index_oil)):\n",
    "    if (na_index_oil[i] == 0):\n",
    "        oil.loc[na_index_oil[i], 'dcoilwtico'] = oil.loc[na_index_oil_plus[i], 'dcoilwtico']\n",
    "    elif (na_index_oil[i] == len(oil)):\n",
    "        oil.loc[na_index_oil[i], 'dcoilwtico'] = oil.loc[na_index_oil_minus[i], 'dcoilwtico']\n",
    "    else:\n",
    "        oil.loc[na_index_oil[i], 'dcoilwtico'] = (oil.loc[na_index_oil_plus[i], 'dcoilwtico'] + oil.loc[na_index_oil_minus[i], 'dcoilwtico'])/ 2   "
   ]
  },
  {
   "cell_type": "code",
   "execution_count": 25,
   "metadata": {},
   "outputs": [
    {
     "data": {
      "text/plain": [
       "date          0\n",
       "dcoilwtico    0\n",
       "dtype: int64"
      ]
     },
     "execution_count": 25,
     "metadata": {},
     "output_type": "execute_result"
    }
   ],
   "source": [
    "oil.isnull().sum()"
   ]
  },
  {
   "cell_type": "code",
   "execution_count": 26,
   "metadata": {},
   "outputs": [
    {
     "data": {
      "image/png": "[encoded data removed]",
      "text/plain": [
       "<Figure size 432x288 with 1 Axes>"
      ]
     },
     "metadata": {
      "needs_background": "light"
     },
     "output_type": "display_data"
    }
   ],
   "source": [
    "#Plot the oil values\n",
    "oil_plot = oil['dcoilwtico'].copy()\n",
    "oil_plot.index = oil['date'].copy()\n",
    "oil_plot.plot()\n",
    "plt.show()"
   ]
  },
  {
   "cell_type": "markdown",
   "metadata": {},
   "source": [
    "# By the end of the analysis it is evident that the sale of oil as an important commodity has a significant impact on the unit sales of other products."
   ]
  },
  {
   "cell_type": "markdown",
   "metadata": {},
   "source": [
    "The text in the document by Source Wikipedia is licensed under CC BY 3.0 https://creativecommons.org/licenses/by/3.0/us/\n",
    "\n",
    "The text in the document by Analytics Vidhya is licensed under CC BY 3.0 https://creativecommons.org/licenses/by/3.0/us/\n",
    "\n",
    "The code in the document by Source Kaggle is licensed under the MIT License https://opensource.org/licenses/MIT"
   ]
  },
  {
   "cell_type": "markdown",
   "metadata": {},
   "source": [
    "# 5. Data Blending"
   ]
  },
  {
   "cell_type": "code",
   "execution_count": 27,
   "metadata": {},
   "outputs": [],
   "source": [
    "#Merge train\n",
    "Salesdf = Salesdf.drop('id', axis = 1)\n",
    "Salesdf = Salesdf.merge(stores, left_on='store_nbr', right_on='store_nbr', how='left')\n",
    "Salesdf = Salesdf.merge(items, left_on='item_nbr', right_on='item_nbr', how='left')\n",
    "Salesdf = Salesdf.merge(holidays, left_on='date', right_on='date', how='left')\n",
    "Salesdf = Salesdf.merge(oil, left_on='date', right_on='date', how='left')\n",
    "Salesdf = Salesdf.drop(['description', 'state', 'locale_name', 'class'], axis = 1)"
   ]
  },
  {
   "cell_type": "code",
   "execution_count": 28,
   "metadata": {},
   "outputs": [
    {
     "name": "stdout",
     "output_type": "stream",
     "text": [
      "<class 'pandas.core.frame.DataFrame'>\n",
      "Int64Index: 3359566 entries, 0 to 3359565\n",
      "Data columns (total 14 columns):\n",
      "date           object\n",
      "store_nbr      int64\n",
      "item_nbr       int64\n",
      "unit_sales     float64\n",
      "onpromotion    object\n",
      "city           object\n",
      "type_x         object\n",
      "cluster        int64\n",
      "family         object\n",
      "perishable     int64\n",
      "type_y         object\n",
      "locale         object\n",
      "transferred    object\n",
      "dcoilwtico     float64\n",
      "dtypes: float64(2), int64(4), object(8)\n",
      "memory usage: 384.5+ MB\n"
     ]
    }
   ],
   "source": [
    "Salesdf.info()"
   ]
  },
  {
   "cell_type": "code",
   "execution_count": 29,
   "metadata": {},
   "outputs": [
    {
     "data": {
      "text/plain": [
       "transferred    2626056\n",
       "locale         2626056\n",
       "type_y         2626056\n",
       "dcoilwtico           0\n",
       "perishable           0\n",
       "family               0\n",
       "cluster              0\n",
       "type_x               0\n",
       "city                 0\n",
       "onpromotion          0\n",
       "unit_sales           0\n",
       "item_nbr             0\n",
       "store_nbr            0\n",
       "date                 0\n",
       "dtype: int64"
      ]
     },
     "execution_count": 29,
     "metadata": {},
     "output_type": "execute_result"
    }
   ],
   "source": [
    "Salesdf.isnull().sum().sort_values(ascending=False)"
   ]
  },
  {
   "cell_type": "code",
   "execution_count": 30,
   "metadata": {},
   "outputs": [
    {
     "name": "stdout",
     "output_type": "stream",
     "text": [
      "Shape :  (3359566, 14) \n",
      "\n",
      "Type :  \n",
      " date            object\n",
      "store_nbr        int64\n",
      "item_nbr         int64\n",
      "unit_sales     float64\n",
      "onpromotion     object\n",
      "city            object\n",
      "type_x          object\n",
      "cluster          int64\n",
      "family          object\n",
      "perishable       int64\n",
      "type_y          object\n",
      "locale          object\n",
      "transferred     object\n",
      "dcoilwtico     float64\n",
      "dtype: object\n"
     ]
    },
    {
     "data": {
      "text/html": [
       "<div>\n",
       "<style scoped>\n",
       "    .dataframe tbody tr th:only-of-type {\n",
       "        vertical-align: middle;\n",
       "    }\n",
       "\n",
       "    .dataframe tbody tr th {\n",
       "        vertical-align: top;\n",
       "    }\n",
       "\n",
       "    .dataframe thead th {\n",
       "        text-align: right;\n",
       "    }\n",
       "</style>\n",
       "<table border=\"1\" class=\"dataframe\">\n",
       "  <thead>\n",
       "    <tr style=\"text-align: right;\">\n",
       "      <th></th>\n",
       "      <th>store_nbr</th>\n",
       "      <th>item_nbr</th>\n",
       "      <th>unit_sales</th>\n",
       "      <th>cluster</th>\n",
       "      <th>perishable</th>\n",
       "      <th>dcoilwtico</th>\n",
       "    </tr>\n",
       "  </thead>\n",
       "  <tbody>\n",
       "    <tr>\n",
       "      <th>count</th>\n",
       "      <td>3.359566e+06</td>\n",
       "      <td>3.359566e+06</td>\n",
       "      <td>3.359566e+06</td>\n",
       "      <td>3.359566e+06</td>\n",
       "      <td>3.359566e+06</td>\n",
       "      <td>3.359566e+06</td>\n",
       "    </tr>\n",
       "    <tr>\n",
       "      <th>mean</th>\n",
       "      <td>2.831059e+01</td>\n",
       "      <td>1.171591e+06</td>\n",
       "      <td>8.053185e+00</td>\n",
       "      <td>8.703191e+00</td>\n",
       "      <td>2.580432e-01</td>\n",
       "      <td>4.814635e+01</td>\n",
       "    </tr>\n",
       "    <tr>\n",
       "      <th>std</th>\n",
       "      <td>1.630974e+01</td>\n",
       "      <td>5.871905e+05</td>\n",
       "      <td>2.371664e+01</td>\n",
       "      <td>4.566465e+00</td>\n",
       "      <td>4.375579e-01</td>\n",
       "      <td>1.468388e+00</td>\n",
       "    </tr>\n",
       "    <tr>\n",
       "      <th>min</th>\n",
       "      <td>1.000000e+00</td>\n",
       "      <td>9.699500e+04</td>\n",
       "      <td>-2.410000e+02</td>\n",
       "      <td>1.000000e+00</td>\n",
       "      <td>0.000000e+00</td>\n",
       "      <td>4.578000e+01</td>\n",
       "    </tr>\n",
       "    <tr>\n",
       "      <th>25%</th>\n",
       "      <td>1.300000e+01</td>\n",
       "      <td>6.925310e+05</td>\n",
       "      <td>2.000000e+00</td>\n",
       "      <td>5.000000e+00</td>\n",
       "      <td>0.000000e+00</td>\n",
       "      <td>4.640000e+01</td>\n",
       "    </tr>\n",
       "    <tr>\n",
       "      <th>50%</th>\n",
       "      <td>2.900000e+01</td>\n",
       "      <td>1.212452e+06</td>\n",
       "      <td>4.000000e+00</td>\n",
       "      <td>9.000000e+00</td>\n",
       "      <td>0.000000e+00</td>\n",
       "      <td>4.858000e+01</td>\n",
       "    </tr>\n",
       "    <tr>\n",
       "      <th>75%</th>\n",
       "      <td>4.400000e+01</td>\n",
       "      <td>1.583407e+06</td>\n",
       "      <td>8.000000e+00</td>\n",
       "      <td>1.300000e+01</td>\n",
       "      <td>1.000000e+00</td>\n",
       "      <td>4.947000e+01</td>\n",
       "    </tr>\n",
       "    <tr>\n",
       "      <th>max</th>\n",
       "      <td>5.400000e+01</td>\n",
       "      <td>2.127114e+06</td>\n",
       "      <td>5.901000e+03</td>\n",
       "      <td>1.700000e+01</td>\n",
       "      <td>1.000000e+00</td>\n",
       "      <td>5.021000e+01</td>\n",
       "    </tr>\n",
       "  </tbody>\n",
       "</table>\n",
       "</div>"
      ],
      "text/plain": [
       "          store_nbr      item_nbr    unit_sales       cluster    perishable  \\\n",
       "count  3.359566e+06  3.359566e+06  3.359566e+06  3.359566e+06  3.359566e+06   \n",
       "mean   2.831059e+01  1.171591e+06  8.053185e+00  8.703191e+00  2.580432e-01   \n",
       "std    1.630974e+01  5.871905e+05  2.371664e+01  4.566465e+00  4.375579e-01   \n",
       "min    1.000000e+00  9.699500e+04 -2.410000e+02  1.000000e+00  0.000000e+00   \n",
       "25%    1.300000e+01  6.925310e+05  2.000000e+00  5.000000e+00  0.000000e+00   \n",
       "50%    2.900000e+01  1.212452e+06  4.000000e+00  9.000000e+00  0.000000e+00   \n",
       "75%    4.400000e+01  1.583407e+06  8.000000e+00  1.300000e+01  1.000000e+00   \n",
       "max    5.400000e+01  2.127114e+06  5.901000e+03  1.700000e+01  1.000000e+00   \n",
       "\n",
       "         dcoilwtico  \n",
       "count  3.359566e+06  \n",
       "mean   4.814635e+01  \n",
       "std    1.468388e+00  \n",
       "min    4.578000e+01  \n",
       "25%    4.640000e+01  \n",
       "50%    4.858000e+01  \n",
       "75%    4.947000e+01  \n",
       "max    5.021000e+01  "
      ]
     },
     "execution_count": 30,
     "metadata": {},
     "output_type": "execute_result"
    }
   ],
   "source": [
    "#Shape\n",
    "print('Shape : ', Salesdf.shape, '\\n')\n",
    "\n",
    "#Type\n",
    "print('Type : ', '\\n', Salesdf.dtypes)\n",
    "\n",
    "#Summary\n",
    "Salesdf.describe()"
   ]
  },
  {
   "cell_type": "code",
   "execution_count": 31,
   "metadata": {},
   "outputs": [
    {
     "data": {
      "text/html": [
       "<div>\n",
       "<style scoped>\n",
       "    .dataframe tbody tr th:only-of-type {\n",
       "        vertical-align: middle;\n",
       "    }\n",
       "\n",
       "    .dataframe tbody tr th {\n",
       "        vertical-align: top;\n",
       "    }\n",
       "\n",
       "    .dataframe thead th {\n",
       "        text-align: right;\n",
       "    }\n",
       "</style>\n",
       "<table border=\"1\" class=\"dataframe\">\n",
       "  <thead>\n",
       "    <tr style=\"text-align: right;\">\n",
       "      <th></th>\n",
       "      <th>date</th>\n",
       "      <th>store_nbr</th>\n",
       "      <th>item_nbr</th>\n",
       "      <th>unit_sales</th>\n",
       "      <th>onpromotion</th>\n",
       "      <th>city</th>\n",
       "      <th>type_x</th>\n",
       "      <th>cluster</th>\n",
       "      <th>family</th>\n",
       "      <th>perishable</th>\n",
       "      <th>type_y</th>\n",
       "      <th>locale</th>\n",
       "      <th>transferred</th>\n",
       "      <th>dcoilwtico</th>\n",
       "    </tr>\n",
       "  </thead>\n",
       "  <tbody>\n",
       "    <tr>\n",
       "      <th>1458580</th>\n",
       "      <td>2017-07-28</td>\n",
       "      <td>54</td>\n",
       "      <td>946671</td>\n",
       "      <td>2.0</td>\n",
       "      <td>True</td>\n",
       "      <td>El Carmen</td>\n",
       "      <td>C</td>\n",
       "      <td>3</td>\n",
       "      <td>DELI</td>\n",
       "      <td>1</td>\n",
       "      <td>NaN</td>\n",
       "      <td>NaN</td>\n",
       "      <td>NaN</td>\n",
       "      <td>49.72</td>\n",
       "    </tr>\n",
       "    <tr>\n",
       "      <th>83994</th>\n",
       "      <td>2017-07-15</td>\n",
       "      <td>44</td>\n",
       "      <td>864510</td>\n",
       "      <td>15.0</td>\n",
       "      <td>False</td>\n",
       "      <td>Quito</td>\n",
       "      <td>A</td>\n",
       "      <td>5</td>\n",
       "      <td>GROCERY I</td>\n",
       "      <td>0</td>\n",
       "      <td>NaN</td>\n",
       "      <td>NaN</td>\n",
       "      <td>NaN</td>\n",
       "      <td>46.02</td>\n",
       "    </tr>\n",
       "    <tr>\n",
       "      <th>2495467</th>\n",
       "      <td>2017-08-07</td>\n",
       "      <td>35</td>\n",
       "      <td>2010989</td>\n",
       "      <td>1.0</td>\n",
       "      <td>False</td>\n",
       "      <td>Playas</td>\n",
       "      <td>C</td>\n",
       "      <td>3</td>\n",
       "      <td>GROCERY I</td>\n",
       "      <td>0</td>\n",
       "      <td>NaN</td>\n",
       "      <td>NaN</td>\n",
       "      <td>NaN</td>\n",
       "      <td>49.37</td>\n",
       "    </tr>\n",
       "    <tr>\n",
       "      <th>117996</th>\n",
       "      <td>2017-07-16</td>\n",
       "      <td>4</td>\n",
       "      <td>517615</td>\n",
       "      <td>10.0</td>\n",
       "      <td>False</td>\n",
       "      <td>Quito</td>\n",
       "      <td>D</td>\n",
       "      <td>9</td>\n",
       "      <td>GROCERY I</td>\n",
       "      <td>0</td>\n",
       "      <td>NaN</td>\n",
       "      <td>NaN</td>\n",
       "      <td>NaN</td>\n",
       "      <td>46.02</td>\n",
       "    </tr>\n",
       "    <tr>\n",
       "      <th>2358714</th>\n",
       "      <td>2017-08-06</td>\n",
       "      <td>19</td>\n",
       "      <td>949243</td>\n",
       "      <td>9.0</td>\n",
       "      <td>False</td>\n",
       "      <td>Guaranda</td>\n",
       "      <td>C</td>\n",
       "      <td>15</td>\n",
       "      <td>PERSONAL CARE</td>\n",
       "      <td>0</td>\n",
       "      <td>NaN</td>\n",
       "      <td>NaN</td>\n",
       "      <td>NaN</td>\n",
       "      <td>49.42</td>\n",
       "    </tr>\n",
       "    <tr>\n",
       "      <th>2970338</th>\n",
       "      <td>2017-08-12</td>\n",
       "      <td>15</td>\n",
       "      <td>268446</td>\n",
       "      <td>8.0</td>\n",
       "      <td>False</td>\n",
       "      <td>Ibarra</td>\n",
       "      <td>C</td>\n",
       "      <td>15</td>\n",
       "      <td>CLEANING</td>\n",
       "      <td>0</td>\n",
       "      <td>NaN</td>\n",
       "      <td>NaN</td>\n",
       "      <td>NaN</td>\n",
       "      <td>48.20</td>\n",
       "    </tr>\n",
       "    <tr>\n",
       "      <th>3274261</th>\n",
       "      <td>2017-08-15</td>\n",
       "      <td>8</td>\n",
       "      <td>2054580</td>\n",
       "      <td>9.0</td>\n",
       "      <td>False</td>\n",
       "      <td>Quito</td>\n",
       "      <td>D</td>\n",
       "      <td>8</td>\n",
       "      <td>BEVERAGES</td>\n",
       "      <td>0</td>\n",
       "      <td>Holiday</td>\n",
       "      <td>Local</td>\n",
       "      <td>False</td>\n",
       "      <td>47.57</td>\n",
       "    </tr>\n",
       "    <tr>\n",
       "      <th>1271603</th>\n",
       "      <td>2017-07-27</td>\n",
       "      <td>7</td>\n",
       "      <td>269084</td>\n",
       "      <td>2.0</td>\n",
       "      <td>False</td>\n",
       "      <td>Quito</td>\n",
       "      <td>D</td>\n",
       "      <td>8</td>\n",
       "      <td>BREAD/BAKERY</td>\n",
       "      <td>1</td>\n",
       "      <td>NaN</td>\n",
       "      <td>NaN</td>\n",
       "      <td>NaN</td>\n",
       "      <td>49.05</td>\n",
       "    </tr>\n",
       "    <tr>\n",
       "      <th>2402448</th>\n",
       "      <td>2017-08-06</td>\n",
       "      <td>42</td>\n",
       "      <td>1463770</td>\n",
       "      <td>2.0</td>\n",
       "      <td>False</td>\n",
       "      <td>Cuenca</td>\n",
       "      <td>D</td>\n",
       "      <td>2</td>\n",
       "      <td>BEVERAGES</td>\n",
       "      <td>0</td>\n",
       "      <td>NaN</td>\n",
       "      <td>NaN</td>\n",
       "      <td>NaN</td>\n",
       "      <td>49.42</td>\n",
       "    </tr>\n",
       "    <tr>\n",
       "      <th>2380369</th>\n",
       "      <td>2017-08-06</td>\n",
       "      <td>30</td>\n",
       "      <td>1154749</td>\n",
       "      <td>1.0</td>\n",
       "      <td>False</td>\n",
       "      <td>Guayaquil</td>\n",
       "      <td>C</td>\n",
       "      <td>3</td>\n",
       "      <td>GROCERY I</td>\n",
       "      <td>0</td>\n",
       "      <td>NaN</td>\n",
       "      <td>NaN</td>\n",
       "      <td>NaN</td>\n",
       "      <td>49.42</td>\n",
       "    </tr>\n",
       "  </tbody>\n",
       "</table>\n",
       "</div>"
      ],
      "text/plain": [
       "               date  store_nbr  item_nbr  unit_sales onpromotion       city  \\\n",
       "1458580  2017-07-28         54    946671         2.0        True  El Carmen   \n",
       "83994    2017-07-15         44    864510        15.0       False      Quito   \n",
       "2495467  2017-08-07         35   2010989         1.0       False     Playas   \n",
       "117996   2017-07-16          4    517615        10.0       False      Quito   \n",
       "2358714  2017-08-06         19    949243         9.0       False   Guaranda   \n",
       "2970338  2017-08-12         15    268446         8.0       False     Ibarra   \n",
       "3274261  2017-08-15          8   2054580         9.0       False      Quito   \n",
       "1271603  2017-07-27          7    269084         2.0       False      Quito   \n",
       "2402448  2017-08-06         42   1463770         2.0       False     Cuenca   \n",
       "2380369  2017-08-06         30   1154749         1.0       False  Guayaquil   \n",
       "\n",
       "        type_x  cluster         family  perishable   type_y locale  \\\n",
       "1458580      C        3           DELI           1      NaN    NaN   \n",
       "83994        A        5      GROCERY I           0      NaN    NaN   \n",
       "2495467      C        3      GROCERY I           0      NaN    NaN   \n",
       "117996       D        9      GROCERY I           0      NaN    NaN   \n",
       "2358714      C       15  PERSONAL CARE           0      NaN    NaN   \n",
       "2970338      C       15       CLEANING           0      NaN    NaN   \n",
       "3274261      D        8      BEVERAGES           0  Holiday  Local   \n",
       "1271603      D        8   BREAD/BAKERY           1      NaN    NaN   \n",
       "2402448      D        2      BEVERAGES           0      NaN    NaN   \n",
       "2380369      C        3      GROCERY I           0      NaN    NaN   \n",
       "\n",
       "        transferred  dcoilwtico  \n",
       "1458580         NaN       49.72  \n",
       "83994           NaN       46.02  \n",
       "2495467         NaN       49.37  \n",
       "117996          NaN       46.02  \n",
       "2358714         NaN       49.42  \n",
       "2970338         NaN       48.20  \n",
       "3274261       False       47.57  \n",
       "1271603         NaN       49.05  \n",
       "2402448         NaN       49.42  \n",
       "2380369         NaN       49.42  "
      ]
     },
     "execution_count": 31,
     "metadata": {},
     "output_type": "execute_result"
    }
   ],
   "source": [
    "#5 random lines\n",
    "Salesdf.sample(10)"
   ]
  },
  {
   "cell_type": "code",
   "execution_count": 32,
   "metadata": {},
   "outputs": [
    {
     "data": {
      "image/png": "[encoded data removed]",
      "text/plain": [
       "<Figure size 432x288 with 1 Axes>"
      ]
     },
     "metadata": {
      "needs_background": "light"
     },
     "output_type": "display_data"
    }
   ],
   "source": [
    "sns.countplot(x='store_nbr', data=Salesdf);"
   ]
  },
  {
   "cell_type": "markdown",
   "metadata": {},
   "source": [
    "# The the above plot shows the number of stores according to each store type."
   ]
  },
  {
   "cell_type": "code",
   "execution_count": 33,
   "metadata": {
    "scrolled": true
   },
   "outputs": [
    {
     "data": {
      "text/plain": [
       "<bound method Series.unique of 0            99197\n",
       "1           103520\n",
       "2           105574\n",
       "3           105575\n",
       "4           105737\n",
       "            ...   \n",
       "3359561    2089339\n",
       "3359562    2106464\n",
       "3359563    2110456\n",
       "3359564    2113914\n",
       "3359565    2116416\n",
       "Name: item_nbr, Length: 3359566, dtype: int64>"
      ]
     },
     "execution_count": 33,
     "metadata": {},
     "output_type": "execute_result"
    }
   ],
   "source": [
    "Salesdf.item_nbr.unique"
   ]
  },
  {
   "cell_type": "code",
   "execution_count": 34,
   "metadata": {},
   "outputs": [
    {
     "name": "stderr",
     "output_type": "stream",
     "text": [
      "c:\\users\\user\\appdata\\local\\programs\\python\\python37\\lib\\site-packages\\ipykernel_launcher.py:1: DeprecationWarning: `itemfreq` is deprecated!\n",
      "`itemfreq` is deprecated and will be removed in a future version. Use instead `np.unique(..., return_counts=True)`\n",
      "  \"\"\"Entry point for launching an IPython kernel.\n"
     ]
    },
    {
     "data": {
      "text/plain": [
       "array([[2042947,    1726],\n",
       "       [ 502331,    1724],\n",
       "       [ 314384,    1723],\n",
       "       ...,\n",
       "       [1981370,       1],\n",
       "       [1418842,       1],\n",
       "       [1066900,       1]], dtype=int64)"
      ]
     },
     "execution_count": 34,
     "metadata": {},
     "output_type": "execute_result"
    }
   ],
   "source": [
    "x=itemfreq(Salesdf.item_nbr)\n",
    "x=x[x[:,1].argsort()[::-1]]\n",
    "x"
   ]
  },
  {
   "cell_type": "code",
   "execution_count": 35,
   "metadata": {},
   "outputs": [
    {
     "data": {
      "text/plain": [
       "array([2042947,  502331,  314384,  323013,  364606,  222879, 2042941,\n",
       "        414750, 1162382, 1418845], dtype=int64)"
      ]
     },
     "execution_count": 35,
     "metadata": {},
     "output_type": "execute_result"
    }
   ],
   "source": [
    "x[:,0][0:10]"
   ]
  },
  {
   "cell_type": "code",
   "execution_count": 36,
   "metadata": {},
   "outputs": [
    {
     "name": "stderr",
     "output_type": "stream",
     "text": [
      "c:\\users\\user\\appdata\\local\\programs\\python\\python37\\lib\\site-packages\\ipykernel_launcher.py:1: FutureWarning: Method .as_matrix will be removed in a future version. Use .values instead.\n",
      "  \"\"\"Entry point for launching an IPython kernel.\n"
     ]
    },
    {
     "data": {
      "text/plain": [
       "array([  99197,  103520,  105574, ..., 2110456, 2113914, 2116416],\n",
       "      dtype=int64)"
      ]
     },
     "execution_count": 36,
     "metadata": {},
     "output_type": "execute_result"
    }
   ],
   "source": [
    "s=Salesdf.item_nbr.as_matrix()\n",
    "s"
   ]
  },
  {
   "cell_type": "code",
   "execution_count": 37,
   "metadata": {},
   "outputs": [
    {
     "data": {
      "text/plain": [
       "array([[  99197],\n",
       "       [ 103520],\n",
       "       [ 105574],\n",
       "       ...,\n",
       "       [2110456],\n",
       "       [2113914],\n",
       "       [2116416]], dtype=int64)"
      ]
     },
     "execution_count": 37,
     "metadata": {},
     "output_type": "execute_result"
    }
   ],
   "source": [
    "t=s.reshape(s.shape[0],1)\n",
    "t"
   ]
  },
  {
   "cell_type": "code",
   "execution_count": 38,
   "metadata": {},
   "outputs": [
    {
     "name": "stderr",
     "output_type": "stream",
     "text": [
      "c:\\users\\user\\appdata\\local\\programs\\python\\python37\\lib\\site-packages\\ipykernel_launcher.py:1: DeprecationWarning: elementwise comparison failed; this will raise an error in the future.\n",
      "  \"\"\"Entry point for launching an IPython kernel.\n"
     ]
    },
    {
     "data": {
      "text/plain": [
       "(array([], dtype=int64),)"
      ]
     },
     "execution_count": 38,
     "metadata": {},
     "output_type": "execute_result"
    }
   ],
   "source": [
    "t1=np.where(t==x)\n",
    "t1"
   ]
  },
  {
   "cell_type": "markdown",
   "metadata": {},
   "source": [
    "# 6. Product Purchase Trend"
   ]
  },
  {
   "cell_type": "markdown",
   "metadata": {},
   "source": [
    "##  6.a. Fetching the N most purchased products"
   ]
  },
  {
   "cell_type": "code",
   "execution_count": 148,
   "metadata": {
    "scrolled": true
   },
   "outputs": [
    {
     "name": "stderr",
     "output_type": "stream",
     "text": [
      "c:\\users\\user\\appdata\\local\\programs\\python\\python37\\lib\\site-packages\\ipykernel_launcher.py:3: DeprecationWarning: `itemfreq` is deprecated!\n",
      "`itemfreq` is deprecated and will be removed in a future version. Use instead `np.unique(..., return_counts=True)`\n",
      "  This is separate from the ipykernel package so we can avoid doing imports until\n",
      "c:\\users\\user\\appdata\\local\\programs\\python\\python37\\lib\\site-packages\\ipykernel_launcher.py:11: FutureWarning: Method .as_matrix will be removed in a future version. Use .values instead.\n",
      "  # This is added back by InteractiveShellApp.init_path()\n"
     ]
    },
    {
     "name": "stdout",
     "output_type": "stream",
     "text": [
      "labels_filtered_index[0].shape =  (34207,)\n"
     ]
    }
   ],
   "source": [
    "#Fetching the N most purchased products#\n",
    "def N_most_labels(data, variable , N , all='TRUE'):\n",
    "    labels_freq_pd = itemfreq(data[variable])\n",
    "    labels_freq_pd = labels_freq_pd[labels_freq_pd[:, 1].argsort()[::-1]] #[::-1] ==> to sort in descending order\n",
    "    \n",
    "    if all == 'FALSE':\n",
    "        main_labels = labels_freq_pd[:,0][0:N]\n",
    "    else: \n",
    "        main_labels = labels_freq_pd[:,0][:]\n",
    "        \n",
    "    labels_raw_np = data[variable].as_matrix() #transform in numpy\n",
    "    labels_raw_np = labels_raw_np.reshape(labels_raw_np.shape[0],1)\n",
    "\n",
    "    labels_filtered_index = np.where(labels_raw_np == main_labels)\n",
    "    \n",
    "    return labels_freq_pd, labels_filtered_index\n",
    "\n",
    "label_freq, labels_filtered_index = N_most_labels(data = Salesdf, variable = \"item_nbr\", N = 20, all='FALSE')\n",
    "print(\"labels_filtered_index[0].shape = \", labels_filtered_index[0].shape)\n",
    "\n",
    "Salesdf_filtered = Salesdf.loc[labels_filtered_index[0],:]\n"
   ]
  },
  {
   "cell_type": "markdown",
   "metadata": {},
   "source": [
    "The number of most purchased products gives us the idea of looking for the sales for those products."
   ]
  },
  {
   "cell_type": "markdown",
   "metadata": {},
   "source": [
    "The code in the document by Source Kaggle is licensed under the MIT License https://opensource.org/licenses/MIT"
   ]
  },
  {
   "cell_type": "code",
   "execution_count": 149,
   "metadata": {
    "scrolled": true
   },
   "outputs": [
    {
     "data": {
      "text/plain": [
       "array([[2042947,    1726],\n",
       "       [ 502331,    1724],\n",
       "       [ 314384,    1723],\n",
       "       [ 323013,    1722],\n",
       "       [ 364606,    1722],\n",
       "       [ 222879,    1720],\n",
       "       [2042941,    1719],\n",
       "       [ 414750,    1716],\n",
       "       [1162382,    1715],\n",
       "       [1418845,    1715]], dtype=int64)"
      ]
     },
     "execution_count": 149,
     "metadata": {},
     "output_type": "execute_result"
    }
   ],
   "source": [
    "label_freq[0:10]"
   ]
  },
  {
   "cell_type": "code",
   "execution_count": 150,
   "metadata": {},
   "outputs": [
    {
     "data": {
      "text/html": [
       "<div>\n",
       "<style scoped>\n",
       "    .dataframe tbody tr th:only-of-type {\n",
       "        vertical-align: middle;\n",
       "    }\n",
       "\n",
       "    .dataframe tbody tr th {\n",
       "        vertical-align: top;\n",
       "    }\n",
       "\n",
       "    .dataframe thead th {\n",
       "        text-align: right;\n",
       "    }\n",
       "</style>\n",
       "<table border=\"1\" class=\"dataframe\">\n",
       "  <thead>\n",
       "    <tr style=\"text-align: right;\">\n",
       "      <th></th>\n",
       "      <th>date</th>\n",
       "      <th>store_nbr</th>\n",
       "      <th>item_nbr</th>\n",
       "      <th>unit_sales</th>\n",
       "      <th>onpromotion</th>\n",
       "      <th>city</th>\n",
       "      <th>type_x</th>\n",
       "      <th>cluster</th>\n",
       "      <th>family</th>\n",
       "      <th>perishable</th>\n",
       "      <th>type_y</th>\n",
       "      <th>locale</th>\n",
       "      <th>transferred</th>\n",
       "      <th>dcoilwtico</th>\n",
       "    </tr>\n",
       "  </thead>\n",
       "  <tbody>\n",
       "    <tr>\n",
       "      <th>1170515</th>\n",
       "      <td>2017-07-26</td>\n",
       "      <td>6</td>\n",
       "      <td>1052563</td>\n",
       "      <td>13.0</td>\n",
       "      <td>False</td>\n",
       "      <td>Quito</td>\n",
       "      <td>D</td>\n",
       "      <td>13</td>\n",
       "      <td>GROCERY I</td>\n",
       "      <td>0</td>\n",
       "      <td>NaN</td>\n",
       "      <td>NaN</td>\n",
       "      <td>NaN</td>\n",
       "      <td>48.580</td>\n",
       "    </tr>\n",
       "    <tr>\n",
       "      <th>1569646</th>\n",
       "      <td>2017-07-29</td>\n",
       "      <td>54</td>\n",
       "      <td>581078</td>\n",
       "      <td>9.0</td>\n",
       "      <td>True</td>\n",
       "      <td>El Carmen</td>\n",
       "      <td>C</td>\n",
       "      <td>3</td>\n",
       "      <td>CLEANING</td>\n",
       "      <td>0</td>\n",
       "      <td>NaN</td>\n",
       "      <td>NaN</td>\n",
       "      <td>NaN</td>\n",
       "      <td>49.965</td>\n",
       "    </tr>\n",
       "    <tr>\n",
       "      <th>2166976</th>\n",
       "      <td>2017-08-04</td>\n",
       "      <td>34</td>\n",
       "      <td>314384</td>\n",
       "      <td>16.0</td>\n",
       "      <td>True</td>\n",
       "      <td>Guayaquil</td>\n",
       "      <td>B</td>\n",
       "      <td>6</td>\n",
       "      <td>GROCERY I</td>\n",
       "      <td>0</td>\n",
       "      <td>NaN</td>\n",
       "      <td>NaN</td>\n",
       "      <td>NaN</td>\n",
       "      <td>49.570</td>\n",
       "    </tr>\n",
       "  </tbody>\n",
       "</table>\n",
       "</div>"
      ],
      "text/plain": [
       "               date  store_nbr  item_nbr  unit_sales onpromotion       city  \\\n",
       "1170515  2017-07-26          6   1052563        13.0       False      Quito   \n",
       "1569646  2017-07-29         54    581078         9.0        True  El Carmen   \n",
       "2166976  2017-08-04         34    314384        16.0        True  Guayaquil   \n",
       "\n",
       "        type_x  cluster     family  perishable type_y locale transferred  \\\n",
       "1170515      D       13  GROCERY I           0    NaN    NaN         NaN   \n",
       "1569646      C        3   CLEANING           0    NaN    NaN         NaN   \n",
       "2166976      B        6  GROCERY I           0    NaN    NaN         NaN   \n",
       "\n",
       "         dcoilwtico  \n",
       "1170515      48.580  \n",
       "1569646      49.965  \n",
       "2166976      49.570  "
      ]
     },
     "execution_count": 150,
     "metadata": {},
     "output_type": "execute_result"
    }
   ],
   "source": [
    "Salesdf_filtered.sample(3)"
   ]
  },
  {
   "cell_type": "code",
   "execution_count": 151,
   "metadata": {},
   "outputs": [
    {
     "name": "stdout",
     "output_type": "stream",
     "text": [
      "Size of na_index_Salesdf :  26729 \n",
      "\n"
     ]
    },
    {
     "data": {
      "text/plain": [
       "date           0\n",
       "store_nbr      0\n",
       "item_nbr       0\n",
       "unit_sales     0\n",
       "onpromotion    0\n",
       "city           0\n",
       "type_x         0\n",
       "cluster        0\n",
       "family         0\n",
       "perishable     0\n",
       "type_y         0\n",
       "locale         0\n",
       "transferred    0\n",
       "dcoilwtico     0\n",
       "dtype: int64"
      ]
     },
     "execution_count": 151,
     "metadata": {},
     "output_type": "execute_result"
    }
   ],
   "source": [
    "#Fill in cells if there is no holiday by the value : \"no_holyday\"\n",
    "na_index_Salesdf = Salesdf_filtered[Salesdf_filtered['type_y'].isnull() == True].index.values\n",
    "print(\"Size of na_index_Salesdf : \", len(na_index_Salesdf), '\\n')\n",
    "\n",
    "Salesdf_filtered.loc[Salesdf_filtered['type_y'].isnull(), 'type_y'] = \"no_holyday\"\n",
    "Salesdf_filtered.loc[Salesdf_filtered['locale'].isnull(), 'locale'] = \"no_locale\"\n",
    "Salesdf_filtered.loc[Salesdf_filtered['transferred'].isnull(), 'transferred'] = \"no_holyday\"\n",
    "    \n",
    "#check is there is NA\n",
    "Salesdf_filtered.isnull().sum()"
   ]
  },
  {
   "cell_type": "code",
   "execution_count": 152,
   "metadata": {},
   "outputs": [],
   "source": [
    "def get_month_year(df):\n",
    "    df['month'] = df.date.apply(lambda x: x.split('-')[1])\n",
    "    df['year'] = df.date.apply(lambda x: x.split('-')[0])\n",
    "    \n",
    "    return df\n",
    "\n",
    "get_month_year(Salesdf_filtered);"
   ]
  },
  {
   "cell_type": "code",
   "execution_count": 153,
   "metadata": {},
   "outputs": [],
   "source": [
    "Salesdf_filtered['date'] = pd.to_datetime(Salesdf_filtered['date'])\n",
    "Salesdf_filtered['day'] = Salesdf_filtered['date'].dt.weekday_name\n",
    "Salesdf_filtered = Salesdf_filtered.drop('date', axis=1)"
   ]
  },
  {
   "cell_type": "code",
   "execution_count": 154,
   "metadata": {},
   "outputs": [
    {
     "data": {
      "text/html": [
       "<div>\n",
       "<style scoped>\n",
       "    .dataframe tbody tr th:only-of-type {\n",
       "        vertical-align: middle;\n",
       "    }\n",
       "\n",
       "    .dataframe tbody tr th {\n",
       "        vertical-align: top;\n",
       "    }\n",
       "\n",
       "    .dataframe thead th {\n",
       "        text-align: right;\n",
       "    }\n",
       "</style>\n",
       "<table border=\"1\" class=\"dataframe\">\n",
       "  <thead>\n",
       "    <tr style=\"text-align: right;\">\n",
       "      <th></th>\n",
       "      <th>store_nbr</th>\n",
       "      <th>item_nbr</th>\n",
       "      <th>unit_sales</th>\n",
       "      <th>onpromotion</th>\n",
       "      <th>city</th>\n",
       "      <th>type_x</th>\n",
       "      <th>cluster</th>\n",
       "      <th>family</th>\n",
       "      <th>perishable</th>\n",
       "      <th>type_y</th>\n",
       "      <th>locale</th>\n",
       "      <th>transferred</th>\n",
       "      <th>dcoilwtico</th>\n",
       "      <th>month</th>\n",
       "      <th>year</th>\n",
       "      <th>day</th>\n",
       "    </tr>\n",
       "  </thead>\n",
       "  <tbody>\n",
       "    <tr>\n",
       "      <th>1929686</th>\n",
       "      <td>16</td>\n",
       "      <td>2081064</td>\n",
       "      <td>13.0</td>\n",
       "      <td>False</td>\n",
       "      <td>Santo Domingo</td>\n",
       "      <td>C</td>\n",
       "      <td>3</td>\n",
       "      <td>PREPARED FOODS</td>\n",
       "      <td>1</td>\n",
       "      <td>no_holyday</td>\n",
       "      <td>no_locale</td>\n",
       "      <td>no_holyday</td>\n",
       "      <td>49.6000</td>\n",
       "      <td>08</td>\n",
       "      <td>2017</td>\n",
       "      <td>Wednesday</td>\n",
       "    </tr>\n",
       "    <tr>\n",
       "      <th>648779</th>\n",
       "      <td>9</td>\n",
       "      <td>502331</td>\n",
       "      <td>17.0</td>\n",
       "      <td>False</td>\n",
       "      <td>Quito</td>\n",
       "      <td>B</td>\n",
       "      <td>6</td>\n",
       "      <td>BREAD/BAKERY</td>\n",
       "      <td>1</td>\n",
       "      <td>no_holyday</td>\n",
       "      <td>no_locale</td>\n",
       "      <td>no_holyday</td>\n",
       "      <td>45.7800</td>\n",
       "      <td>07</td>\n",
       "      <td>2017</td>\n",
       "      <td>Friday</td>\n",
       "    </tr>\n",
       "    <tr>\n",
       "      <th>2721464</th>\n",
       "      <td>46</td>\n",
       "      <td>2042947</td>\n",
       "      <td>46.0</td>\n",
       "      <td>False</td>\n",
       "      <td>Quito</td>\n",
       "      <td>A</td>\n",
       "      <td>14</td>\n",
       "      <td>BEVERAGES</td>\n",
       "      <td>0</td>\n",
       "      <td>no_holyday</td>\n",
       "      <td>no_locale</td>\n",
       "      <td>no_holyday</td>\n",
       "      <td>49.5900</td>\n",
       "      <td>08</td>\n",
       "      <td>2017</td>\n",
       "      <td>Wednesday</td>\n",
       "    </tr>\n",
       "    <tr>\n",
       "      <th>372968</th>\n",
       "      <td>26</td>\n",
       "      <td>314384</td>\n",
       "      <td>4.0</td>\n",
       "      <td>False</td>\n",
       "      <td>Guayaquil</td>\n",
       "      <td>D</td>\n",
       "      <td>10</td>\n",
       "      <td>GROCERY I</td>\n",
       "      <td>0</td>\n",
       "      <td>no_holyday</td>\n",
       "      <td>no_locale</td>\n",
       "      <td>no_holyday</td>\n",
       "      <td>46.4000</td>\n",
       "      <td>07</td>\n",
       "      <td>2017</td>\n",
       "      <td>Tuesday</td>\n",
       "    </tr>\n",
       "    <tr>\n",
       "      <th>1789999</th>\n",
       "      <td>1</td>\n",
       "      <td>1463860</td>\n",
       "      <td>5.0</td>\n",
       "      <td>False</td>\n",
       "      <td>Quito</td>\n",
       "      <td>D</td>\n",
       "      <td>13</td>\n",
       "      <td>BEVERAGES</td>\n",
       "      <td>0</td>\n",
       "      <td>no_holyday</td>\n",
       "      <td>no_locale</td>\n",
       "      <td>no_holyday</td>\n",
       "      <td>49.1900</td>\n",
       "      <td>08</td>\n",
       "      <td>2017</td>\n",
       "      <td>Tuesday</td>\n",
       "    </tr>\n",
       "    <tr>\n",
       "      <th>2181142</th>\n",
       "      <td>42</td>\n",
       "      <td>222879</td>\n",
       "      <td>9.0</td>\n",
       "      <td>False</td>\n",
       "      <td>Cuenca</td>\n",
       "      <td>D</td>\n",
       "      <td>2</td>\n",
       "      <td>GROCERY I</td>\n",
       "      <td>0</td>\n",
       "      <td>no_holyday</td>\n",
       "      <td>no_locale</td>\n",
       "      <td>no_holyday</td>\n",
       "      <td>49.5700</td>\n",
       "      <td>08</td>\n",
       "      <td>2017</td>\n",
       "      <td>Friday</td>\n",
       "    </tr>\n",
       "    <tr>\n",
       "      <th>3161794</th>\n",
       "      <td>4</td>\n",
       "      <td>1157564</td>\n",
       "      <td>13.0</td>\n",
       "      <td>False</td>\n",
       "      <td>Quito</td>\n",
       "      <td>D</td>\n",
       "      <td>9</td>\n",
       "      <td>GROCERY I</td>\n",
       "      <td>0</td>\n",
       "      <td>no_holyday</td>\n",
       "      <td>no_locale</td>\n",
       "      <td>no_holyday</td>\n",
       "      <td>47.5900</td>\n",
       "      <td>08</td>\n",
       "      <td>2017</td>\n",
       "      <td>Monday</td>\n",
       "    </tr>\n",
       "    <tr>\n",
       "      <th>571233</th>\n",
       "      <td>23</td>\n",
       "      <td>2010511</td>\n",
       "      <td>4.0</td>\n",
       "      <td>False</td>\n",
       "      <td>Ambato</td>\n",
       "      <td>D</td>\n",
       "      <td>9</td>\n",
       "      <td>GROCERY I</td>\n",
       "      <td>0</td>\n",
       "      <td>no_holyday</td>\n",
       "      <td>no_locale</td>\n",
       "      <td>no_holyday</td>\n",
       "      <td>46.7300</td>\n",
       "      <td>07</td>\n",
       "      <td>2017</td>\n",
       "      <td>Thursday</td>\n",
       "    </tr>\n",
       "    <tr>\n",
       "      <th>1514677</th>\n",
       "      <td>29</td>\n",
       "      <td>314384</td>\n",
       "      <td>16.0</td>\n",
       "      <td>False</td>\n",
       "      <td>Guayaquil</td>\n",
       "      <td>E</td>\n",
       "      <td>10</td>\n",
       "      <td>GROCERY I</td>\n",
       "      <td>0</td>\n",
       "      <td>no_holyday</td>\n",
       "      <td>no_locale</td>\n",
       "      <td>no_holyday</td>\n",
       "      <td>49.9650</td>\n",
       "      <td>07</td>\n",
       "      <td>2017</td>\n",
       "      <td>Saturday</td>\n",
       "    </tr>\n",
       "    <tr>\n",
       "      <th>899927</th>\n",
       "      <td>31</td>\n",
       "      <td>261052</td>\n",
       "      <td>24.0</td>\n",
       "      <td>False</td>\n",
       "      <td>Babahoyo</td>\n",
       "      <td>B</td>\n",
       "      <td>10</td>\n",
       "      <td>GROCERY I</td>\n",
       "      <td>0</td>\n",
       "      <td>Holiday</td>\n",
       "      <td>Local</td>\n",
       "      <td>False</td>\n",
       "      <td>46.1025</td>\n",
       "      <td>07</td>\n",
       "      <td>2017</td>\n",
       "      <td>Sunday</td>\n",
       "    </tr>\n",
       "  </tbody>\n",
       "</table>\n",
       "</div>"
      ],
      "text/plain": [
       "         store_nbr  item_nbr  unit_sales onpromotion           city type_x  \\\n",
       "1929686         16   2081064        13.0       False  Santo Domingo      C   \n",
       "648779           9    502331        17.0       False          Quito      B   \n",
       "2721464         46   2042947        46.0       False          Quito      A   \n",
       "372968          26    314384         4.0       False      Guayaquil      D   \n",
       "1789999          1   1463860         5.0       False          Quito      D   \n",
       "2181142         42    222879         9.0       False         Cuenca      D   \n",
       "3161794          4   1157564        13.0       False          Quito      D   \n",
       "571233          23   2010511         4.0       False         Ambato      D   \n",
       "1514677         29    314384        16.0       False      Guayaquil      E   \n",
       "899927          31    261052        24.0       False       Babahoyo      B   \n",
       "\n",
       "         cluster          family  perishable      type_y     locale  \\\n",
       "1929686        3  PREPARED FOODS           1  no_holyday  no_locale   \n",
       "648779         6    BREAD/BAKERY           1  no_holyday  no_locale   \n",
       "2721464       14       BEVERAGES           0  no_holyday  no_locale   \n",
       "372968        10       GROCERY I           0  no_holyday  no_locale   \n",
       "1789999       13       BEVERAGES           0  no_holyday  no_locale   \n",
       "2181142        2       GROCERY I           0  no_holyday  no_locale   \n",
       "3161794        9       GROCERY I           0  no_holyday  no_locale   \n",
       "571233         9       GROCERY I           0  no_holyday  no_locale   \n",
       "1514677       10       GROCERY I           0  no_holyday  no_locale   \n",
       "899927        10       GROCERY I           0     Holiday      Local   \n",
       "\n",
       "        transferred  dcoilwtico month  year        day  \n",
       "1929686  no_holyday     49.6000    08  2017  Wednesday  \n",
       "648779   no_holyday     45.7800    07  2017     Friday  \n",
       "2721464  no_holyday     49.5900    08  2017  Wednesday  \n",
       "372968   no_holyday     46.4000    07  2017    Tuesday  \n",
       "1789999  no_holyday     49.1900    08  2017    Tuesday  \n",
       "2181142  no_holyday     49.5700    08  2017     Friday  \n",
       "3161794  no_holyday     47.5900    08  2017     Monday  \n",
       "571233   no_holyday     46.7300    07  2017   Thursday  \n",
       "1514677  no_holyday     49.9650    07  2017   Saturday  \n",
       "899927        False     46.1025    07  2017     Sunday  "
      ]
     },
     "execution_count": 154,
     "metadata": {},
     "output_type": "execute_result"
    }
   ],
   "source": [
    "Salesdf_filtered.sample(10)"
   ]
  },
  {
   "cell_type": "code",
   "execution_count": 155,
   "metadata": {},
   "outputs": [],
   "source": [
    "strain = Salesdf.sample(frac=0.01,replace=True)"
   ]
  },
  {
   "cell_type": "markdown",
   "metadata": {},
   "source": [
    "# 7. Exploratory Data Analysis"
   ]
  },
  {
   "cell_type": "code",
   "execution_count": 156,
   "metadata": {
    "collapsed": true
   },
   "outputs": [
    {
     "data": {
      "text/plain": [
       "<matplotlib.axes._subplots.AxesSubplot at 0x24d899b7588>"
      ]
     },
     "execution_count": 156,
     "metadata": {},
     "output_type": "execute_result"
    },
    {
     "data": {
      "image/png": "[encoded data removed]",
      "text/plain": [
       "<Figure size 2160x288 with 1 Axes>"
      ]
     },
     "metadata": {},
     "output_type": "display_data"
    }
   ],
   "source": [
    "# Plotting Sales per Item Family\n",
    "fig, (axis1) = plt.subplots(1,1,figsize=(30,4))\n",
    "sns.barplot(x='family', y='unit_sales', data=strain, ax=axis1)"
   ]
  },
  {
   "cell_type": "markdown",
   "metadata": {},
   "source": [
    "# The above plot shows the sales of products per Item family. The average unit_sales ranges somewhere between 0 to 20 with the maximum for the Food and Beverages item family."
   ]
  },
  {
   "cell_type": "code",
   "execution_count": 157,
   "metadata": {
    "scrolled": true
   },
   "outputs": [
    {
     "data": {
      "text/plain": [
       "<matplotlib.axes._subplots.AxesSubplot at 0x24d88ed9288>"
      ]
     },
     "execution_count": 157,
     "metadata": {},
     "output_type": "execute_result"
    },
    {
     "data": {
      "image/png": "[encoded data removed]",
      "text/plain": [
       "<Figure size 1080x288 with 1 Axes>"
      ]
     },
     "metadata": {},
     "output_type": "display_data"
    }
   ],
   "source": [
    "# Plotting Sales per Store Type\n",
    "fig, (axis1) = plt.subplots(1,1,figsize=(15,4))\n",
    "sns.barplot(x='type_x', y='unit_sales', data=strain, ax=axis1)"
   ]
  },
  {
   "cell_type": "markdown",
   "metadata": {},
   "source": [
    "# The bar plot of Total Sales per store type shows that Store type B has the maximum sales over other store types."
   ]
  },
  {
   "cell_type": "code",
   "execution_count": 158,
   "metadata": {},
   "outputs": [
    {
     "data": {
      "text/plain": [
       "<matplotlib.axes._subplots.AxesSubplot at 0x24f5da33e48>"
      ]
     },
     "execution_count": 158,
     "metadata": {},
     "output_type": "execute_result"
    },
    {
     "data": {
      "image/png": "[encoded data removed]",
      "text/plain": [
       "<Figure size 2160x288 with 1 Axes>"
      ]
     },
     "metadata": {},
     "output_type": "display_data"
    }
   ],
   "source": [
    "# Plotting Stores in Cities\n",
    "fig, (axis1) = plt.subplots(1,1,figsize=(30,4))\n",
    "sns.countplot(x=stores['city'], data=stores, ax=axis1)"
   ]
  },
  {
   "cell_type": "markdown",
   "metadata": {},
   "source": [
    "# The City of Quito has the most number of Stores and the second being the city of Guayaquil."
   ]
  },
  {
   "cell_type": "code",
   "execution_count": 51,
   "metadata": {},
   "outputs": [
    {
     "data": {
      "text/plain": [
       "<matplotlib.axes._subplots.AxesSubplot at 0x24d8917bd48>"
      ]
     },
     "execution_count": 51,
     "metadata": {},
     "output_type": "execute_result"
    },
    {
     "data": {
      "image/png": "[encoded data removed]",
      "text/plain": [
       "<Figure size 2160x288 with 1 Axes>"
      ]
     },
     "metadata": {
      "needs_background": "light"
     },
     "output_type": "display_data"
    }
   ],
   "source": [
    "# Plotting Stores in States\n",
    "fig, (axis1) = plt.subplots(1,1,figsize=(30,4))\n",
    "sns.countplot(x=stores['state'], data=stores, ax=axis1)"
   ]
  },
  {
   "cell_type": "markdown",
   "metadata": {},
   "source": [
    "# The States of Pichincha Santo and the state of Guayas has the most number of Stores."
   ]
  },
  {
   "cell_type": "code",
   "execution_count": 52,
   "metadata": {},
   "outputs": [
    {
     "data": {
      "image/png": "[encoded data removed]",
      "text/plain": [
       "<Figure size 936x792 with 1 Axes>"
      ]
     },
     "metadata": {},
     "output_type": "display_data"
    }
   ],
   "source": [
    "# Stacked Barplots of Types against clusters\n",
    "plt.style.use('seaborn-white')\n",
    "#plt.style.use('dark_background')\n",
    "type_cluster = stores.groupby(['type','cluster']).size()\n",
    "type_cluster.unstack().plot(kind='bar',stacked=True, colormap= 'PuBu', figsize=(13,11),  grid=False)\n",
    "plt.title('Stacked Barplot of Store types and their cluster distribution', fontsize=18)\n",
    "plt.ylabel('Count of clusters in a particular store type', fontsize=16)\n",
    "plt.xlabel('Store type', fontsize=16)\n",
    "plt.show()"
   ]
  },
  {
   "cell_type": "markdown",
   "metadata": {},
   "source": [
    "# The above bar plot shows the cluster distribution across the store types."
   ]
  },
  {
   "cell_type": "code",
   "execution_count": 53,
   "metadata": {},
   "outputs": [
    {
     "data": {
      "image/png": "[encoded data removed]",
      "text/plain": [
       "<Figure size 936x792 with 1 Axes>"
      ]
     },
     "metadata": {},
     "output_type": "display_data"
    }
   ],
   "source": [
    "# Stacked barplot of types of stores across the different cities\n",
    "plt.style.use('seaborn-white')\n",
    "city_cluster = stores.groupby(['city','type']).store_nbr.size()\n",
    "city_cluster.unstack().plot(kind='bar',stacked=True, colormap= 'viridis', figsize=(13,11),  grid=False)\n",
    "plt.title('Stacked Barplot of Store types opened for each city')\n",
    "plt.ylabel('Count of stores for a particular city')\n",
    "plt.show()"
   ]
  },
  {
   "cell_type": "code",
   "execution_count": 54,
   "metadata": {},
   "outputs": [
    {
     "data": {
      "image/png": "[encoded data removed]",
      "text/plain": [
       "<Figure size 864x720 with 1 Axes>"
      ]
     },
     "metadata": {},
     "output_type": "display_data"
    }
   ],
   "source": [
    "# Holiday Events data\n",
    "plt.style.use('seaborn-white')\n",
    "# plt.style.use('dark_background')\n",
    "holiday_local_type = holidays.groupby(['locale_name', 'type']).size()\n",
    "holiday_local_type.unstack().plot(kind='bar',stacked=True, colormap= 'magma_r', figsize=(12,10),  grid=False)\n",
    "plt.title('Stacked Barplot of locale name against event type')\n",
    "plt.ylabel('Count of entries')\n",
    "plt.show()"
   ]
  },
  {
   "cell_type": "markdown",
   "metadata": {},
   "source": [
    "# 8. Data Transformation Techniques"
   ]
  },
  {
   "cell_type": "markdown",
   "metadata": {},
   "source": [
    "# 8.a One hot Encoding"
   ]
  },
  {
   "cell_type": "markdown",
   "metadata": {},
   "source": [
    "## What is One Hot Encoding?\n",
    "A one hot encoding is a representation of categorical variables as binary vectors.\n",
    "This first requires that the categorical values be mapped to integer values.\n",
    "Then, each integer value is represented as a binary vector that is all zero values except the index of the integer, which is marked with a 1.\n",
    "\n",
    "## Why Use a One Hot Encoding?\n",
    "A one hot encoding allows the representation of categorical data to be more expressive.\n",
    "Many machine learning algorithms cannot work with categorical data directly. The categories must be converted into numbers. This is required for both input and output variables that are categorical.\n",
    "\n",
    "\n",
    "## The text in the document by Source Wikipedia is licensed under CC BY 3.0 https://creativecommons.org/licenses/by/3.0/us/\n"
   ]
  },
  {
   "cell_type": "code",
   "execution_count": 55,
   "metadata": {},
   "outputs": [],
   "source": [
    "## One hot encoding using get_dummies on pandas dataframe.\n",
    "dummy_variables = ['onpromotion','city','type_x','cluster','store_nbr','item_nbr',\n",
    "                'family','perishable','type_y', 'locale', 'transferred', 'month', 'day']\n",
    "\n",
    "for var in dummy_variables:\n",
    "    dummy = pd.get_dummies(Salesdf_filtered[var], prefix = var, drop_first = False)\n",
    "    Salesdf_filtered = pd.concat([Salesdf_filtered, dummy], axis = 1)\n",
    "\n",
    "Salesdf_filtered = Salesdf_filtered.drop(dummy_variables, axis = 1)\n",
    "Salesdf_filtered = Salesdf_filtered.drop(['year'], axis = 1)"
   ]
  },
  {
   "cell_type": "code",
   "execution_count": 56,
   "metadata": {},
   "outputs": [
    {
     "name": "stdout",
     "output_type": "stream",
     "text": [
      "<class 'pandas.core.frame.DataFrame'>\n",
      "Int64Index: 34207 entries, 112 to 3359551\n",
      "Columns: 148 entries, unit_sales to day_Wednesday\n",
      "dtypes: float64(2), uint8(146)\n",
      "memory usage: 5.5 MB\n"
     ]
    }
   ],
   "source": [
    "Salesdf_filtered.info()\n",
    "#Salesdf_filtered.sample(10)"
   ]
  },
  {
   "cell_type": "code",
   "execution_count": 57,
   "metadata": {},
   "outputs": [
    {
     "data": {
      "text/html": [
       "<div>\n",
       "<style scoped>\n",
       "    .dataframe tbody tr th:only-of-type {\n",
       "        vertical-align: middle;\n",
       "    }\n",
       "\n",
       "    .dataframe tbody tr th {\n",
       "        vertical-align: top;\n",
       "    }\n",
       "\n",
       "    .dataframe thead th {\n",
       "        text-align: right;\n",
       "    }\n",
       "</style>\n",
       "<table border=\"1\" class=\"dataframe\">\n",
       "  <thead>\n",
       "    <tr style=\"text-align: right;\">\n",
       "      <th></th>\n",
       "      <th>unit_sales</th>\n",
       "      <th>dcoilwtico</th>\n",
       "      <th>onpromotion_False</th>\n",
       "      <th>onpromotion_True</th>\n",
       "      <th>city_Ambato</th>\n",
       "      <th>city_Babahoyo</th>\n",
       "      <th>city_Cayambe</th>\n",
       "      <th>city_Cuenca</th>\n",
       "      <th>city_Daule</th>\n",
       "      <th>city_El Carmen</th>\n",
       "      <th>...</th>\n",
       "      <th>transferred_no_holyday</th>\n",
       "      <th>month_07</th>\n",
       "      <th>month_08</th>\n",
       "      <th>day_Friday</th>\n",
       "      <th>day_Monday</th>\n",
       "      <th>day_Saturday</th>\n",
       "      <th>day_Sunday</th>\n",
       "      <th>day_Thursday</th>\n",
       "      <th>day_Tuesday</th>\n",
       "      <th>day_Wednesday</th>\n",
       "    </tr>\n",
       "  </thead>\n",
       "  <tbody>\n",
       "    <tr>\n",
       "      <th>112</th>\n",
       "      <td>4.0</td>\n",
       "      <td>46.02</td>\n",
       "      <td>1</td>\n",
       "      <td>0</td>\n",
       "      <td>0</td>\n",
       "      <td>0</td>\n",
       "      <td>0</td>\n",
       "      <td>0</td>\n",
       "      <td>0</td>\n",
       "      <td>0</td>\n",
       "      <td>...</td>\n",
       "      <td>1</td>\n",
       "      <td>1</td>\n",
       "      <td>0</td>\n",
       "      <td>0</td>\n",
       "      <td>0</td>\n",
       "      <td>1</td>\n",
       "      <td>0</td>\n",
       "      <td>0</td>\n",
       "      <td>0</td>\n",
       "      <td>0</td>\n",
       "    </tr>\n",
       "    <tr>\n",
       "      <th>131</th>\n",
       "      <td>6.0</td>\n",
       "      <td>46.02</td>\n",
       "      <td>1</td>\n",
       "      <td>0</td>\n",
       "      <td>0</td>\n",
       "      <td>0</td>\n",
       "      <td>0</td>\n",
       "      <td>0</td>\n",
       "      <td>0</td>\n",
       "      <td>0</td>\n",
       "      <td>...</td>\n",
       "      <td>1</td>\n",
       "      <td>1</td>\n",
       "      <td>0</td>\n",
       "      <td>0</td>\n",
       "      <td>0</td>\n",
       "      <td>1</td>\n",
       "      <td>0</td>\n",
       "      <td>0</td>\n",
       "      <td>0</td>\n",
       "      <td>0</td>\n",
       "    </tr>\n",
       "    <tr>\n",
       "      <th>147</th>\n",
       "      <td>26.0</td>\n",
       "      <td>46.02</td>\n",
       "      <td>1</td>\n",
       "      <td>0</td>\n",
       "      <td>0</td>\n",
       "      <td>0</td>\n",
       "      <td>0</td>\n",
       "      <td>0</td>\n",
       "      <td>0</td>\n",
       "      <td>0</td>\n",
       "      <td>...</td>\n",
       "      <td>1</td>\n",
       "      <td>1</td>\n",
       "      <td>0</td>\n",
       "      <td>0</td>\n",
       "      <td>0</td>\n",
       "      <td>1</td>\n",
       "      <td>0</td>\n",
       "      <td>0</td>\n",
       "      <td>0</td>\n",
       "      <td>0</td>\n",
       "    </tr>\n",
       "    <tr>\n",
       "      <th>180</th>\n",
       "      <td>35.0</td>\n",
       "      <td>46.02</td>\n",
       "      <td>1</td>\n",
       "      <td>0</td>\n",
       "      <td>0</td>\n",
       "      <td>0</td>\n",
       "      <td>0</td>\n",
       "      <td>0</td>\n",
       "      <td>0</td>\n",
       "      <td>0</td>\n",
       "      <td>...</td>\n",
       "      <td>1</td>\n",
       "      <td>1</td>\n",
       "      <td>0</td>\n",
       "      <td>0</td>\n",
       "      <td>0</td>\n",
       "      <td>1</td>\n",
       "      <td>0</td>\n",
       "      <td>0</td>\n",
       "      <td>0</td>\n",
       "      <td>0</td>\n",
       "    </tr>\n",
       "    <tr>\n",
       "      <th>204</th>\n",
       "      <td>6.0</td>\n",
       "      <td>46.02</td>\n",
       "      <td>0</td>\n",
       "      <td>1</td>\n",
       "      <td>0</td>\n",
       "      <td>0</td>\n",
       "      <td>0</td>\n",
       "      <td>0</td>\n",
       "      <td>0</td>\n",
       "      <td>0</td>\n",
       "      <td>...</td>\n",
       "      <td>1</td>\n",
       "      <td>1</td>\n",
       "      <td>0</td>\n",
       "      <td>0</td>\n",
       "      <td>0</td>\n",
       "      <td>1</td>\n",
       "      <td>0</td>\n",
       "      <td>0</td>\n",
       "      <td>0</td>\n",
       "      <td>0</td>\n",
       "    </tr>\n",
       "  </tbody>\n",
       "</table>\n",
       "<p>5 rows × 148 columns</p>\n",
       "</div>"
      ],
      "text/plain": [
       "     unit_sales  dcoilwtico  onpromotion_False  onpromotion_True  city_Ambato  \\\n",
       "112         4.0       46.02                  1                 0            0   \n",
       "131         6.0       46.02                  1                 0            0   \n",
       "147        26.0       46.02                  1                 0            0   \n",
       "180        35.0       46.02                  1                 0            0   \n",
       "204         6.0       46.02                  0                 1            0   \n",
       "\n",
       "     city_Babahoyo  city_Cayambe  city_Cuenca  city_Daule  city_El Carmen  \\\n",
       "112              0             0            0           0               0   \n",
       "131              0             0            0           0               0   \n",
       "147              0             0            0           0               0   \n",
       "180              0             0            0           0               0   \n",
       "204              0             0            0           0               0   \n",
       "\n",
       "     ...  transferred_no_holyday  month_07  month_08  day_Friday  day_Monday  \\\n",
       "112  ...                       1         1         0           0           0   \n",
       "131  ...                       1         1         0           0           0   \n",
       "147  ...                       1         1         0           0           0   \n",
       "180  ...                       1         1         0           0           0   \n",
       "204  ...                       1         1         0           0           0   \n",
       "\n",
       "     day_Saturday  day_Sunday  day_Thursday  day_Tuesday  day_Wednesday  \n",
       "112             1           0             0            0              0  \n",
       "131             1           0             0            0              0  \n",
       "147             1           0             0            0              0  \n",
       "180             1           0             0            0              0  \n",
       "204             1           0             0            0              0  \n",
       "\n",
       "[5 rows x 148 columns]"
      ]
     },
     "execution_count": 57,
     "metadata": {},
     "output_type": "execute_result"
    }
   ],
   "source": [
    "Salesdf_filtered.head()"
   ]
  },
  {
   "cell_type": "markdown",
   "metadata": {},
   "source": [
    "# The above dataframe contains data after the one hot encoding technique is applied to the data."
   ]
  },
  {
   "cell_type": "code",
   "execution_count": 58,
   "metadata": {},
   "outputs": [],
   "source": [
    "#Re-scale\n",
    "#We keep this value to re-scale the predicted unit_sales values in the following lines of code.\n",
    "min_train, max_train = Salesdf_filtered['unit_sales'].min(), Salesdf_filtered['unit_sales'].max()"
   ]
  },
  {
   "cell_type": "code",
   "execution_count": 59,
   "metadata": {},
   "outputs": [],
   "source": [
    "scalable_variables = ['unit_sales','dcoilwtico']\n",
    "\n",
    "for var in scalable_variables:\n",
    "    mini, maxi = Salesdf_filtered[var].min(), Salesdf_filtered[var].max()\n",
    "    Salesdf_filtered.loc[:,var] = (Salesdf_filtered[var] - mini) / (maxi - mini)"
   ]
  },
  {
   "cell_type": "code",
   "execution_count": 60,
   "metadata": {},
   "outputs": [
    {
     "name": "stdout",
     "output_type": "stream",
     "text": [
      "Shape :  (34207, 148)\n"
     ]
    },
    {
     "data": {
      "text/html": [
       "<div>\n",
       "<style scoped>\n",
       "    .dataframe tbody tr th:only-of-type {\n",
       "        vertical-align: middle;\n",
       "    }\n",
       "\n",
       "    .dataframe tbody tr th {\n",
       "        vertical-align: top;\n",
       "    }\n",
       "\n",
       "    .dataframe thead th {\n",
       "        text-align: right;\n",
       "    }\n",
       "</style>\n",
       "<table border=\"1\" class=\"dataframe\">\n",
       "  <thead>\n",
       "    <tr style=\"text-align: right;\">\n",
       "      <th></th>\n",
       "      <th>unit_sales</th>\n",
       "      <th>dcoilwtico</th>\n",
       "      <th>onpromotion_False</th>\n",
       "      <th>onpromotion_True</th>\n",
       "      <th>city_Ambato</th>\n",
       "      <th>city_Babahoyo</th>\n",
       "      <th>city_Cayambe</th>\n",
       "      <th>city_Cuenca</th>\n",
       "      <th>city_Daule</th>\n",
       "      <th>city_El Carmen</th>\n",
       "      <th>...</th>\n",
       "      <th>transferred_no_holyday</th>\n",
       "      <th>month_07</th>\n",
       "      <th>month_08</th>\n",
       "      <th>day_Friday</th>\n",
       "      <th>day_Monday</th>\n",
       "      <th>day_Saturday</th>\n",
       "      <th>day_Sunday</th>\n",
       "      <th>day_Thursday</th>\n",
       "      <th>day_Tuesday</th>\n",
       "      <th>day_Wednesday</th>\n",
       "    </tr>\n",
       "  </thead>\n",
       "  <tbody>\n",
       "    <tr>\n",
       "      <th>1953525</th>\n",
       "      <td>0.015167</td>\n",
       "      <td>0.862302</td>\n",
       "      <td>1</td>\n",
       "      <td>0</td>\n",
       "      <td>0</td>\n",
       "      <td>0</td>\n",
       "      <td>0</td>\n",
       "      <td>0</td>\n",
       "      <td>0</td>\n",
       "      <td>0</td>\n",
       "      <td>...</td>\n",
       "      <td>1</td>\n",
       "      <td>0</td>\n",
       "      <td>1</td>\n",
       "      <td>0</td>\n",
       "      <td>0</td>\n",
       "      <td>0</td>\n",
       "      <td>0</td>\n",
       "      <td>0</td>\n",
       "      <td>0</td>\n",
       "      <td>1</td>\n",
       "    </tr>\n",
       "    <tr>\n",
       "      <th>1217106</th>\n",
       "      <td>0.005753</td>\n",
       "      <td>0.632054</td>\n",
       "      <td>0</td>\n",
       "      <td>1</td>\n",
       "      <td>0</td>\n",
       "      <td>0</td>\n",
       "      <td>0</td>\n",
       "      <td>0</td>\n",
       "      <td>0</td>\n",
       "      <td>0</td>\n",
       "      <td>...</td>\n",
       "      <td>1</td>\n",
       "      <td>1</td>\n",
       "      <td>0</td>\n",
       "      <td>0</td>\n",
       "      <td>0</td>\n",
       "      <td>0</td>\n",
       "      <td>0</td>\n",
       "      <td>0</td>\n",
       "      <td>0</td>\n",
       "      <td>1</td>\n",
       "    </tr>\n",
       "    <tr>\n",
       "      <th>298208</th>\n",
       "      <td>0.015167</td>\n",
       "      <td>0.054176</td>\n",
       "      <td>0</td>\n",
       "      <td>1</td>\n",
       "      <td>0</td>\n",
       "      <td>0</td>\n",
       "      <td>0</td>\n",
       "      <td>1</td>\n",
       "      <td>0</td>\n",
       "      <td>0</td>\n",
       "      <td>...</td>\n",
       "      <td>1</td>\n",
       "      <td>1</td>\n",
       "      <td>0</td>\n",
       "      <td>0</td>\n",
       "      <td>1</td>\n",
       "      <td>0</td>\n",
       "      <td>0</td>\n",
       "      <td>0</td>\n",
       "      <td>0</td>\n",
       "      <td>0</td>\n",
       "    </tr>\n",
       "    <tr>\n",
       "      <th>2631177</th>\n",
       "      <td>0.010460</td>\n",
       "      <td>0.742664</td>\n",
       "      <td>1</td>\n",
       "      <td>0</td>\n",
       "      <td>0</td>\n",
       "      <td>0</td>\n",
       "      <td>0</td>\n",
       "      <td>0</td>\n",
       "      <td>0</td>\n",
       "      <td>0</td>\n",
       "      <td>...</td>\n",
       "      <td>1</td>\n",
       "      <td>0</td>\n",
       "      <td>1</td>\n",
       "      <td>0</td>\n",
       "      <td>0</td>\n",
       "      <td>0</td>\n",
       "      <td>0</td>\n",
       "      <td>0</td>\n",
       "      <td>1</td>\n",
       "      <td>0</td>\n",
       "    </tr>\n",
       "    <tr>\n",
       "      <th>1343632</th>\n",
       "      <td>0.017259</td>\n",
       "      <td>0.738149</td>\n",
       "      <td>1</td>\n",
       "      <td>0</td>\n",
       "      <td>0</td>\n",
       "      <td>0</td>\n",
       "      <td>0</td>\n",
       "      <td>0</td>\n",
       "      <td>0</td>\n",
       "      <td>0</td>\n",
       "      <td>...</td>\n",
       "      <td>1</td>\n",
       "      <td>1</td>\n",
       "      <td>0</td>\n",
       "      <td>0</td>\n",
       "      <td>0</td>\n",
       "      <td>0</td>\n",
       "      <td>0</td>\n",
       "      <td>1</td>\n",
       "      <td>0</td>\n",
       "      <td>0</td>\n",
       "    </tr>\n",
       "    <tr>\n",
       "      <th>2898878</th>\n",
       "      <td>0.010983</td>\n",
       "      <td>0.683973</td>\n",
       "      <td>1</td>\n",
       "      <td>0</td>\n",
       "      <td>0</td>\n",
       "      <td>0</td>\n",
       "      <td>0</td>\n",
       "      <td>0</td>\n",
       "      <td>0</td>\n",
       "      <td>0</td>\n",
       "      <td>...</td>\n",
       "      <td>0</td>\n",
       "      <td>0</td>\n",
       "      <td>1</td>\n",
       "      <td>1</td>\n",
       "      <td>0</td>\n",
       "      <td>0</td>\n",
       "      <td>0</td>\n",
       "      <td>0</td>\n",
       "      <td>0</td>\n",
       "      <td>0</td>\n",
       "    </tr>\n",
       "    <tr>\n",
       "      <th>1870312</th>\n",
       "      <td>0.014644</td>\n",
       "      <td>0.769752</td>\n",
       "      <td>1</td>\n",
       "      <td>0</td>\n",
       "      <td>0</td>\n",
       "      <td>0</td>\n",
       "      <td>0</td>\n",
       "      <td>0</td>\n",
       "      <td>0</td>\n",
       "      <td>0</td>\n",
       "      <td>...</td>\n",
       "      <td>1</td>\n",
       "      <td>0</td>\n",
       "      <td>1</td>\n",
       "      <td>0</td>\n",
       "      <td>0</td>\n",
       "      <td>0</td>\n",
       "      <td>0</td>\n",
       "      <td>0</td>\n",
       "      <td>1</td>\n",
       "      <td>0</td>\n",
       "    </tr>\n",
       "    <tr>\n",
       "      <th>480640</th>\n",
       "      <td>0.022490</td>\n",
       "      <td>0.297968</td>\n",
       "      <td>0</td>\n",
       "      <td>1</td>\n",
       "      <td>0</td>\n",
       "      <td>0</td>\n",
       "      <td>0</td>\n",
       "      <td>0</td>\n",
       "      <td>0</td>\n",
       "      <td>0</td>\n",
       "      <td>...</td>\n",
       "      <td>1</td>\n",
       "      <td>1</td>\n",
       "      <td>0</td>\n",
       "      <td>0</td>\n",
       "      <td>0</td>\n",
       "      <td>0</td>\n",
       "      <td>0</td>\n",
       "      <td>0</td>\n",
       "      <td>0</td>\n",
       "      <td>1</td>\n",
       "    </tr>\n",
       "    <tr>\n",
       "      <th>919943</th>\n",
       "      <td>0.014121</td>\n",
       "      <td>0.072799</td>\n",
       "      <td>1</td>\n",
       "      <td>0</td>\n",
       "      <td>0</td>\n",
       "      <td>0</td>\n",
       "      <td>0</td>\n",
       "      <td>0</td>\n",
       "      <td>0</td>\n",
       "      <td>0</td>\n",
       "      <td>...</td>\n",
       "      <td>0</td>\n",
       "      <td>1</td>\n",
       "      <td>0</td>\n",
       "      <td>0</td>\n",
       "      <td>0</td>\n",
       "      <td>0</td>\n",
       "      <td>1</td>\n",
       "      <td>0</td>\n",
       "      <td>0</td>\n",
       "      <td>0</td>\n",
       "    </tr>\n",
       "    <tr>\n",
       "      <th>1837502</th>\n",
       "      <td>0.007322</td>\n",
       "      <td>0.769752</td>\n",
       "      <td>1</td>\n",
       "      <td>0</td>\n",
       "      <td>0</td>\n",
       "      <td>0</td>\n",
       "      <td>0</td>\n",
       "      <td>0</td>\n",
       "      <td>0</td>\n",
       "      <td>0</td>\n",
       "      <td>...</td>\n",
       "      <td>1</td>\n",
       "      <td>0</td>\n",
       "      <td>1</td>\n",
       "      <td>0</td>\n",
       "      <td>0</td>\n",
       "      <td>0</td>\n",
       "      <td>0</td>\n",
       "      <td>0</td>\n",
       "      <td>1</td>\n",
       "      <td>0</td>\n",
       "    </tr>\n",
       "  </tbody>\n",
       "</table>\n",
       "<p>10 rows × 148 columns</p>\n",
       "</div>"
      ],
      "text/plain": [
       "         unit_sales  dcoilwtico  onpromotion_False  onpromotion_True  \\\n",
       "1953525    0.015167    0.862302                  1                 0   \n",
       "1217106    0.005753    0.632054                  0                 1   \n",
       "298208     0.015167    0.054176                  0                 1   \n",
       "2631177    0.010460    0.742664                  1                 0   \n",
       "1343632    0.017259    0.738149                  1                 0   \n",
       "2898878    0.010983    0.683973                  1                 0   \n",
       "1870312    0.014644    0.769752                  1                 0   \n",
       "480640     0.022490    0.297968                  0                 1   \n",
       "919943     0.014121    0.072799                  1                 0   \n",
       "1837502    0.007322    0.769752                  1                 0   \n",
       "\n",
       "         city_Ambato  city_Babahoyo  city_Cayambe  city_Cuenca  city_Daule  \\\n",
       "1953525            0              0             0            0           0   \n",
       "1217106            0              0             0            0           0   \n",
       "298208             0              0             0            1           0   \n",
       "2631177            0              0             0            0           0   \n",
       "1343632            0              0             0            0           0   \n",
       "2898878            0              0             0            0           0   \n",
       "1870312            0              0             0            0           0   \n",
       "480640             0              0             0            0           0   \n",
       "919943             0              0             0            0           0   \n",
       "1837502            0              0             0            0           0   \n",
       "\n",
       "         city_El Carmen  ...  transferred_no_holyday  month_07  month_08  \\\n",
       "1953525               0  ...                       1         0         1   \n",
       "1217106               0  ...                       1         1         0   \n",
       "298208                0  ...                       1         1         0   \n",
       "2631177               0  ...                       1         0         1   \n",
       "1343632               0  ...                       1         1         0   \n",
       "2898878               0  ...                       0         0         1   \n",
       "1870312               0  ...                       1         0         1   \n",
       "480640                0  ...                       1         1         0   \n",
       "919943                0  ...                       0         1         0   \n",
       "1837502               0  ...                       1         0         1   \n",
       "\n",
       "         day_Friday  day_Monday  day_Saturday  day_Sunday  day_Thursday  \\\n",
       "1953525           0           0             0           0             0   \n",
       "1217106           0           0             0           0             0   \n",
       "298208            0           1             0           0             0   \n",
       "2631177           0           0             0           0             0   \n",
       "1343632           0           0             0           0             1   \n",
       "2898878           1           0             0           0             0   \n",
       "1870312           0           0             0           0             0   \n",
       "480640            0           0             0           0             0   \n",
       "919943            0           0             0           1             0   \n",
       "1837502           0           0             0           0             0   \n",
       "\n",
       "         day_Tuesday  day_Wednesday  \n",
       "1953525            0              1  \n",
       "1217106            0              1  \n",
       "298208             0              0  \n",
       "2631177            1              0  \n",
       "1343632            0              0  \n",
       "2898878            0              0  \n",
       "1870312            1              0  \n",
       "480640             0              1  \n",
       "919943             0              0  \n",
       "1837502            1              0  \n",
       "\n",
       "[10 rows x 148 columns]"
      ]
     },
     "execution_count": 60,
     "metadata": {},
     "output_type": "execute_result"
    }
   ],
   "source": [
    "print('Shape : ', Salesdf_filtered.shape)\n",
    "Salesdf_filtered.sample(10)"
   ]
  },
  {
   "cell_type": "code",
   "execution_count": 61,
   "metadata": {},
   "outputs": [
    {
     "data": {
      "text/plain": [
       "unit_sales           0\n",
       "dcoilwtico           0\n",
       "onpromotion_False    0\n",
       "onpromotion_True     0\n",
       "city_Ambato          0\n",
       "                    ..\n",
       "day_Saturday         0\n",
       "day_Sunday           0\n",
       "day_Thursday         0\n",
       "day_Tuesday          0\n",
       "day_Wednesday        0\n",
       "Length: 148, dtype: int64"
      ]
     },
     "execution_count": 61,
     "metadata": {},
     "output_type": "execute_result"
    }
   ],
   "source": [
    "Salesdf_filtered.isnull().sum()\n"
   ]
  },
  {
   "cell_type": "code",
   "execution_count": 62,
   "metadata": {},
   "outputs": [
    {
     "name": "stdout",
     "output_type": "stream",
     "text": [
      "Shape X : (34207, 147)\n",
      "Shape y : (34207,)\n"
     ]
    }
   ],
   "source": [
    "#train database without unit_sales\n",
    "Salesdf_filtered = Salesdf_filtered.reset_index(drop=True)  #we reset the index\n",
    "y = Salesdf_filtered['unit_sales']\n",
    "X = Salesdf_filtered.drop(['unit_sales'], axis = 1)\n",
    "\n",
    "print('Shape X :', X.shape)\n",
    "print('Shape y :', y.shape)"
   ]
  },
  {
   "cell_type": "code",
   "execution_count": 63,
   "metadata": {},
   "outputs": [
    {
     "name": "stdout",
     "output_type": "stream",
     "text": [
      "X_train shape : (27365, 147)\n",
      "y_train shape : (27365,)\n",
      "X_test shape : (6842, 147)\n",
      "y_test shape : (6842,)\n"
     ]
    }
   ],
   "source": [
    "num_test = 0.20\n",
    "X_train, X_test, y_train, y_test = train_test_split(X, y, test_size=num_test, random_state=15)\n",
    "print('X_train shape :', X_train.shape)\n",
    "print('y_train shape :', y_train.shape)\n",
    "print('X_test shape :', X_test.shape)\n",
    "print('y_test shape :', y_test.shape)"
   ]
  },
  {
   "cell_type": "markdown",
   "metadata": {},
   "source": [
    "# 9. Regression Model fitting techniques."
   ]
  },
  {
   "cell_type": "markdown",
   "metadata": {},
   "source": [
    "# 9.a. Linear Regression"
   ]
  },
  {
   "cell_type": "markdown",
   "metadata": {},
   "source": [
    "## Linear Regression\n",
    "\n",
    "Linear Regression is a linear approach for modelling the relationship between a scalar dependent variable y and one or more explanatory variables (or independent variables) denoted X. The case of one explanatory variable is called simple linear regression. For more than one explanatory variable, the process is called multiple linear regression.\n",
    "\n",
    "Linear regression models are often fitted using the least squares approach, but they may also be fitted in other ways, such as by minimizing the \"lack of fit\" in some other norm (as with least absolute deviations regression), or by minimizing a penalized version of the least squares cost function as in ridge regression (L2-norm penalty) and lasso (L1-norm penalty). \n",
    "\n",
    "\n",
    "## The text in the document by Source Wikipedia is licensed under CC BY 3.0 https://creativecommons.org/licenses/by/3.0/us/"
   ]
  },
  {
   "cell_type": "code",
   "execution_count": 64,
   "metadata": {},
   "outputs": [
    {
     "name": "stdout",
     "output_type": "stream",
     "text": [
      "LinearRegression(copy_X=True, fit_intercept=True, n_jobs=None, normalize=False)\n"
     ]
    }
   ],
   "source": [
    "# Fit the linear model\n",
    "model = linear_model.LinearRegression()\n",
    "results = model.fit(X_train, y_train)\n",
    "print(results)"
   ]
  },
  {
   "cell_type": "code",
   "execution_count": 65,
   "metadata": {},
   "outputs": [
    {
     "name": "stdout",
     "output_type": "stream",
     "text": [
      "-710399723595.58 [ 7.10723568e-03 -5.86474547e+09 -5.86474547e+09  7.39039246e+09\n",
      " -3.69689845e+09 -1.42792188e+10 -8.78629983e+10  8.89765236e+10\n",
      " -8.19559665e+09  9.59401539e+09 -1.37822965e+10 -1.44282242e+10\n",
      "  2.39059359e+08 -6.51219412e+10 -3.00310445e+10 -1.12197068e+09\n",
      " -3.55413921e+09 -1.18275334e+10 -6.54792935e+10 -1.87068548e+11\n",
      " -2.78807153e+11  4.46856851e+10 -1.91292476e+09 -2.82125930e+09\n",
      " -5.20058081e+10  3.74920212e+10 -1.37539047e+11  3.71913623e+10\n",
      "  5.07953461e+10 -3.45603027e+10 -1.26636716e+11  9.08862932e+10\n",
      "  1.55636440e+10  1.37650244e+11 -6.28582038e+10  1.91171733e+11\n",
      "  3.95977166e+10 -9.34314107e+10 -2.95578062e+10  6.01187821e+10\n",
      "  9.21777577e+08 -4.81359796e+10 -5.46080865e+10 -2.93825237e+10\n",
      " -1.82541164e+09  5.17385981e+10  1.51302538e+09 -2.13053404e+10\n",
      " -2.13053404e+10  1.75179838e+10 -4.63556207e+10 -1.16872178e+11\n",
      " -2.13053404e+10  1.75179838e+10  1.75179838e+10 -7.87507664e+10\n",
      " -6.04840315e+10 -1.97858624e+10  4.93235948e+10  4.93235948e+10\n",
      " -5.53085499e+10 -1.60374057e+10  1.88184061e+10 -1.41734635e+10\n",
      "  6.06823684e+10 -2.01604983e+09 -7.87507664e+10  1.79407268e+10\n",
      "  1.29847073e+11 -9.06032807e+09  1.09837199e+11  9.82302339e+10\n",
      " -7.69182997e+10  6.43245096e+09  8.43734909e+09  8.43734909e+09\n",
      " -1.87591778e+10  1.00684768e+11 -1.87591778e+10  2.45619751e+11\n",
      " -1.96368570e+10  3.22918915e+10  2.40401693e+10 -3.42510367e+10\n",
      " -1.67756016e+11  5.37979170e+10 -2.96332628e+10 -1.65323847e+11\n",
      " -3.42510367e+10 -1.55848905e+10  2.48101844e+08 -6.35318796e+10\n",
      " -3.32275783e+10 -3.32275783e+10 -3.32275783e+10 -6.35318796e+10\n",
      "  4.06771434e+09 -5.00921804e+09 -7.01866108e+09  3.52078781e+10\n",
      " -2.49918053e+10 -1.10812938e+11 -1.10812938e+11 -1.10812938e+11\n",
      " -1.10812938e+11 -1.10812938e+11 -1.10812938e+11 -1.10812938e+11\n",
      "  5.92812949e+09  1.81640352e+10 -1.10812938e+11 -1.10812938e+11\n",
      " -1.10812938e+11 -1.10812938e+11 -1.10812938e+11 -1.61474641e+10\n",
      " -1.61474641e+10 -1.10812938e+11 -1.61474641e+10 -1.61474641e+10\n",
      "  3.41598468e+09  5.59870261e+10 -1.17883978e+09  2.16755268e+10\n",
      "  1.50652500e+11  1.33330503e+09 -2.25964723e+10  1.24937999e+10\n",
      "  1.95396948e+11  1.95396948e+11  1.71733985e+11  1.79249267e+11\n",
      "  3.05644499e+11  3.29307462e+11  1.87524179e+11  6.62022799e+10\n",
      "  4.25393170e+10  2.00470281e+11  2.39898323e+10  2.39898323e+10\n",
      "  8.82202159e+10  8.82202159e+10  8.82202159e+10  8.82202159e+10\n",
      "  8.82202159e+10  8.82202159e+10  8.82202159e+10]\n"
     ]
    }
   ],
   "source": [
    "# Print the coefficients\n",
    "print (results.intercept_, results.coef_)"
   ]
  },
  {
   "cell_type": "code",
   "execution_count": 67,
   "metadata": {
    "scrolled": true
   },
   "outputs": [
    {
     "data": {
      "text/html": [
       "<table class=\"simpletable\">\n",
       "<caption>OLS Regression Results</caption>\n",
       "<tr>\n",
       "  <th>Dep. Variable:</th>       <td>unit_sales</td>    <th>  R-squared:         </th>  <td>   0.365</td> \n",
       "</tr>\n",
       "<tr>\n",
       "  <th>Model:</th>                   <td>OLS</td>       <th>  Adj. R-squared:    </th>  <td>   0.363</td> \n",
       "</tr>\n",
       "<tr>\n",
       "  <th>Method:</th>             <td>Least Squares</td>  <th>  F-statistic:       </th>  <td>   184.9</td> \n",
       "</tr>\n",
       "<tr>\n",
       "  <th>Date:</th>             <td>Fri, 27 Dec 2019</td> <th>  Prob (F-statistic):</th>   <td>  0.00</td>  \n",
       "</tr>\n",
       "<tr>\n",
       "  <th>Time:</th>                 <td>17:28:57</td>     <th>  Log-Likelihood:    </th>  <td>  65919.</td> \n",
       "</tr>\n",
       "<tr>\n",
       "  <th>No. Observations:</th>      <td> 27365</td>      <th>  AIC:               </th> <td>-1.317e+05</td>\n",
       "</tr>\n",
       "<tr>\n",
       "  <th>Df Residuals:</th>          <td> 27279</td>      <th>  BIC:               </th> <td>-1.310e+05</td>\n",
       "</tr>\n",
       "<tr>\n",
       "  <th>Df Model:</th>              <td>    85</td>      <th>                     </th>      <td> </td>    \n",
       "</tr>\n",
       "<tr>\n",
       "  <th>Covariance Type:</th>      <td>nonrobust</td>    <th>                     </th>      <td> </td>    \n",
       "</tr>\n",
       "</table>\n",
       "<table class=\"simpletable\">\n",
       "<tr>\n",
       "             <td></td>               <th>coef</th>     <th>std err</th>      <th>t</th>      <th>P>|t|</th>  <th>[0.025</th>    <th>0.975]</th>  \n",
       "</tr>\n",
       "<tr>\n",
       "  <th>dcoilwtico</th>             <td>    0.0072</td> <td>    0.000</td> <td>   14.956</td> <td> 0.000</td> <td>    0.006</td> <td>    0.008</td>\n",
       "</tr>\n",
       "<tr>\n",
       "  <th>onpromotion_False</th>      <td>-6.473e+09</td> <td> 1.15e+10</td> <td>   -0.564</td> <td> 0.573</td> <td> -2.9e+10</td> <td>  1.6e+10</td>\n",
       "</tr>\n",
       "<tr>\n",
       "  <th>onpromotion_True</th>       <td>-6.473e+09</td> <td> 1.15e+10</td> <td>   -0.564</td> <td> 0.573</td> <td> -2.9e+10</td> <td>  1.6e+10</td>\n",
       "</tr>\n",
       "<tr>\n",
       "  <th>city_Ambato</th>            <td>-1.962e+10</td> <td> 1.87e+10</td> <td>   -1.048</td> <td> 0.295</td> <td>-5.63e+10</td> <td> 1.71e+10</td>\n",
       "</tr>\n",
       "<tr>\n",
       "  <th>city_Babahoyo</th>          <td>-9.445e+08</td> <td> 1.01e+09</td> <td>   -0.939</td> <td> 0.348</td> <td>-2.92e+09</td> <td> 1.03e+09</td>\n",
       "</tr>\n",
       "<tr>\n",
       "  <th>city_Cayambe</th>           <td>-1.482e+09</td> <td> 1.54e+09</td> <td>   -0.966</td> <td> 0.334</td> <td>-4.49e+09</td> <td> 1.53e+09</td>\n",
       "</tr>\n",
       "<tr>\n",
       "  <th>city_Cuenca</th>            <td>-2.351e+09</td> <td> 2.41e+09</td> <td>   -0.974</td> <td> 0.330</td> <td>-7.08e+09</td> <td> 2.38e+09</td>\n",
       "</tr>\n",
       "<tr>\n",
       "  <th>city_Daule</th>             <td>-8.772e+08</td> <td> 8.79e+08</td> <td>   -0.998</td> <td> 0.318</td> <td> -2.6e+09</td> <td> 8.46e+08</td>\n",
       "</tr>\n",
       "<tr>\n",
       "  <th>city_El Carmen</th>         <td>-6.116e+08</td> <td> 6.09e+08</td> <td>   -1.005</td> <td> 0.315</td> <td> -1.8e+09</td> <td> 5.81e+08</td>\n",
       "</tr>\n",
       "<tr>\n",
       "  <th>city_Esmeraldas</th>        <td>-6.571e+08</td> <td> 7.49e+08</td> <td>   -0.877</td> <td> 0.380</td> <td>-2.13e+09</td> <td> 8.11e+08</td>\n",
       "</tr>\n",
       "<tr>\n",
       "  <th>city_Guaranda</th>          <td>-7.652e+08</td> <td> 8.08e+08</td> <td>   -0.947</td> <td> 0.344</td> <td>-2.35e+09</td> <td> 8.18e+08</td>\n",
       "</tr>\n",
       "<tr>\n",
       "  <th>city_Guayaquil</th>         <td>-1.566e+09</td> <td> 1.68e+09</td> <td>   -0.932</td> <td> 0.351</td> <td>-4.86e+09</td> <td> 1.73e+09</td>\n",
       "</tr>\n",
       "<tr>\n",
       "  <th>city_Ibarra</th>            <td>-7.711e+08</td> <td> 8.15e+08</td> <td>   -0.946</td> <td> 0.344</td> <td>-2.37e+09</td> <td> 8.27e+08</td>\n",
       "</tr>\n",
       "<tr>\n",
       "  <th>city_Latacunga</th>         <td>-8.919e+08</td> <td> 9.77e+08</td> <td>   -0.913</td> <td> 0.361</td> <td>-2.81e+09</td> <td> 1.02e+09</td>\n",
       "</tr>\n",
       "<tr>\n",
       "  <th>city_Libertad</th>          <td>-6.603e+08</td> <td> 7.66e+08</td> <td>   -0.862</td> <td> 0.389</td> <td>-2.16e+09</td> <td> 8.42e+08</td>\n",
       "</tr>\n",
       "<tr>\n",
       "  <th>city_Loja</th>              <td>-8.174e+08</td> <td> 8.95e+08</td> <td>   -0.914</td> <td> 0.361</td> <td>-2.57e+09</td> <td> 9.36e+08</td>\n",
       "</tr>\n",
       "<tr>\n",
       "  <th>city_Machala</th>           <td>-8.782e+08</td> <td> 9.54e+08</td> <td>   -0.921</td> <td> 0.357</td> <td>-2.75e+09</td> <td> 9.91e+08</td>\n",
       "</tr>\n",
       "<tr>\n",
       "  <th>city_Manta</th>             <td>-3.253e+09</td> <td> 3.27e+09</td> <td>   -0.996</td> <td> 0.319</td> <td>-9.65e+09</td> <td> 3.15e+09</td>\n",
       "</tr>\n",
       "<tr>\n",
       "  <th>city_Playas</th>            <td> -5.28e+08</td> <td> 5.82e+08</td> <td>   -0.908</td> <td> 0.364</td> <td>-1.67e+09</td> <td> 6.12e+08</td>\n",
       "</tr>\n",
       "<tr>\n",
       "  <th>city_Puyo</th>              <td>-4.657e+08</td> <td> 5.78e+08</td> <td>   -0.805</td> <td> 0.421</td> <td> -1.6e+09</td> <td> 6.68e+08</td>\n",
       "</tr>\n",
       "<tr>\n",
       "  <th>city_Quevedo</th>           <td>-6.087e+08</td> <td> 6.82e+08</td> <td>   -0.893</td> <td> 0.372</td> <td>-1.95e+09</td> <td> 7.28e+08</td>\n",
       "</tr>\n",
       "<tr>\n",
       "  <th>city_Quito</th>             <td>-4.168e+09</td> <td>  4.2e+09</td> <td>   -0.993</td> <td> 0.321</td> <td>-1.24e+10</td> <td> 4.06e+09</td>\n",
       "</tr>\n",
       "<tr>\n",
       "  <th>city_Riobamba</th>          <td>-3.461e+08</td> <td> 4.38e+08</td> <td>   -0.791</td> <td> 0.429</td> <td> -1.2e+09</td> <td> 5.12e+08</td>\n",
       "</tr>\n",
       "<tr>\n",
       "  <th>city_Salinas</th>           <td> -6.74e+08</td> <td> 7.34e+08</td> <td>   -0.919</td> <td> 0.358</td> <td>-2.11e+09</td> <td> 7.64e+08</td>\n",
       "</tr>\n",
       "<tr>\n",
       "  <th>city_Santo Domingo</th>     <td>-1.289e+09</td> <td> 1.37e+09</td> <td>   -0.943</td> <td> 0.346</td> <td>-3.97e+09</td> <td> 1.39e+09</td>\n",
       "</tr>\n",
       "<tr>\n",
       "  <th>type_x_A</th>               <td> 1.748e+09</td> <td>  1.5e+09</td> <td>    1.166</td> <td> 0.244</td> <td>-1.19e+09</td> <td> 4.69e+09</td>\n",
       "</tr>\n",
       "<tr>\n",
       "  <th>type_x_B</th>               <td> 4.271e+08</td> <td> 8.85e+08</td> <td>    0.483</td> <td> 0.629</td> <td>-1.31e+09</td> <td> 2.16e+09</td>\n",
       "</tr>\n",
       "<tr>\n",
       "  <th>type_x_C</th>               <td>-5.549e+08</td> <td>  1.6e+09</td> <td>   -0.347</td> <td> 0.729</td> <td>-3.69e+09</td> <td> 2.58e+09</td>\n",
       "</tr>\n",
       "<tr>\n",
       "  <th>type_x_D</th>               <td> 1.312e+09</td> <td> 1.29e+09</td> <td>    1.015</td> <td> 0.310</td> <td>-1.22e+09</td> <td> 3.84e+09</td>\n",
       "</tr>\n",
       "<tr>\n",
       "  <th>type_x_E</th>               <td> 1.368e+08</td> <td> 7.82e+08</td> <td>    0.175</td> <td> 0.861</td> <td> -1.4e+09</td> <td> 1.67e+09</td>\n",
       "</tr>\n",
       "<tr>\n",
       "  <th>cluster_1</th>              <td>-1.928e+09</td> <td> 2.01e+09</td> <td>   -0.957</td> <td> 0.338</td> <td>-5.88e+09</td> <td> 2.02e+09</td>\n",
       "</tr>\n",
       "<tr>\n",
       "  <th>cluster_2</th>              <td>-7.361e+08</td> <td> 8.36e+08</td> <td>   -0.881</td> <td> 0.378</td> <td>-2.37e+09</td> <td> 9.02e+08</td>\n",
       "</tr>\n",
       "<tr>\n",
       "  <th>cluster_3</th>              <td>-5.254e+08</td> <td>  6.9e+08</td> <td>   -0.762</td> <td> 0.446</td> <td>-1.88e+09</td> <td> 8.27e+08</td>\n",
       "</tr>\n",
       "<tr>\n",
       "  <th>cluster_4</th>              <td>-1.873e+09</td> <td> 1.93e+09</td> <td>   -0.971</td> <td> 0.332</td> <td>-5.66e+09</td> <td> 1.91e+09</td>\n",
       "</tr>\n",
       "<tr>\n",
       "  <th>cluster_5</th>              <td> 2.093e+08</td> <td> 1.97e+08</td> <td>    1.060</td> <td> 0.289</td> <td>-1.78e+08</td> <td> 5.96e+08</td>\n",
       "</tr>\n",
       "<tr>\n",
       "  <th>cluster_6</th>              <td>-5.197e+07</td> <td> 4.43e+08</td> <td>   -0.117</td> <td> 0.907</td> <td> -9.2e+08</td> <td> 8.16e+08</td>\n",
       "</tr>\n",
       "<tr>\n",
       "  <th>cluster_7</th>              <td> -7.85e+08</td> <td> 8.99e+08</td> <td>   -0.873</td> <td> 0.383</td> <td>-2.55e+09</td> <td> 9.77e+08</td>\n",
       "</tr>\n",
       "<tr>\n",
       "  <th>cluster_8</th>              <td> 5.409e+08</td> <td> 4.63e+08</td> <td>    1.168</td> <td> 0.243</td> <td>-3.67e+08</td> <td> 1.45e+09</td>\n",
       "</tr>\n",
       "<tr>\n",
       "  <th>cluster_9</th>              <td> 5.616e+09</td> <td> 5.24e+09</td> <td>    1.072</td> <td> 0.284</td> <td>-4.65e+09</td> <td> 1.59e+10</td>\n",
       "</tr>\n",
       "<tr>\n",
       "  <th>cluster_10</th>             <td>-1.172e+09</td> <td> 1.47e+09</td> <td>   -0.796</td> <td> 0.426</td> <td>-4.06e+09</td> <td> 1.71e+09</td>\n",
       "</tr>\n",
       "<tr>\n",
       "  <th>cluster_11</th>             <td>-5.543e+07</td> <td>    3e+08</td> <td>   -0.185</td> <td> 0.853</td> <td>-6.44e+08</td> <td> 5.33e+08</td>\n",
       "</tr>\n",
       "<tr>\n",
       "  <th>cluster_12</th>             <td> 1.321e+09</td> <td> 1.23e+09</td> <td>    1.076</td> <td> 0.282</td> <td>-1.09e+09</td> <td> 3.73e+09</td>\n",
       "</tr>\n",
       "<tr>\n",
       "  <th>cluster_13</th>             <td> 3.966e+08</td> <td> 3.36e+08</td> <td>    1.181</td> <td> 0.238</td> <td>-2.62e+08</td> <td> 1.05e+09</td>\n",
       "</tr>\n",
       "<tr>\n",
       "  <th>cluster_14</th>             <td> 3.376e+09</td> <td> 3.06e+09</td> <td>    1.105</td> <td> 0.269</td> <td>-2.61e+09</td> <td> 9.37e+09</td>\n",
       "</tr>\n",
       "<tr>\n",
       "  <th>cluster_15</th>             <td>-9.449e+07</td> <td> 3.33e+08</td> <td>   -0.284</td> <td> 0.776</td> <td>-7.46e+08</td> <td> 5.58e+08</td>\n",
       "</tr>\n",
       "<tr>\n",
       "  <th>cluster_16</th>             <td> 7.813e+08</td> <td> 6.79e+08</td> <td>    1.151</td> <td> 0.250</td> <td>-5.49e+08</td> <td> 2.11e+09</td>\n",
       "</tr>\n",
       "<tr>\n",
       "  <th>cluster_17</th>             <td>-1.141e+09</td> <td> 1.21e+09</td> <td>   -0.939</td> <td> 0.347</td> <td>-3.52e+09</td> <td> 1.24e+09</td>\n",
       "</tr>\n",
       "<tr>\n",
       "  <th>store_nbr_1</th>            <td> 3.161e+08</td> <td> 2.95e+08</td> <td>    1.071</td> <td> 0.284</td> <td>-2.62e+08</td> <td> 8.94e+08</td>\n",
       "</tr>\n",
       "<tr>\n",
       "  <th>store_nbr_2</th>            <td> 3.161e+08</td> <td> 2.95e+08</td> <td>    1.071</td> <td> 0.284</td> <td>-2.62e+08</td> <td> 8.94e+08</td>\n",
       "</tr>\n",
       "<tr>\n",
       "  <th>store_nbr_3</th>            <td> 1.717e+08</td> <td> 1.63e+08</td> <td>    1.054</td> <td> 0.292</td> <td>-1.48e+08</td> <td> 4.91e+08</td>\n",
       "</tr>\n",
       "<tr>\n",
       "  <th>store_nbr_4</th>            <td>-4.903e+09</td> <td> 4.63e+09</td> <td>   -1.059</td> <td> 0.290</td> <td> -1.4e+10</td> <td> 4.17e+09</td>\n",
       "</tr>\n",
       "<tr>\n",
       "  <th>store_nbr_5</th>            <td>-2.937e+08</td> <td> 3.22e+08</td> <td>   -0.913</td> <td> 0.361</td> <td>-9.24e+08</td> <td> 3.37e+08</td>\n",
       "</tr>\n",
       "<tr>\n",
       "  <th>store_nbr_6</th>            <td> 3.161e+08</td> <td> 2.95e+08</td> <td>    1.071</td> <td> 0.284</td> <td>-2.62e+08</td> <td> 8.94e+08</td>\n",
       "</tr>\n",
       "<tr>\n",
       "  <th>store_nbr_7</th>            <td> 1.717e+08</td> <td> 1.63e+08</td> <td>    1.054</td> <td> 0.292</td> <td>-1.48e+08</td> <td> 4.91e+08</td>\n",
       "</tr>\n",
       "<tr>\n",
       "  <th>store_nbr_8</th>            <td> 1.717e+08</td> <td> 1.63e+08</td> <td>    1.054</td> <td> 0.292</td> <td>-1.48e+08</td> <td> 4.91e+08</td>\n",
       "</tr>\n",
       "<tr>\n",
       "  <th>store_nbr_9</th>            <td> 1.649e+09</td> <td> 1.57e+09</td> <td>    1.047</td> <td> 0.295</td> <td>-1.44e+09</td> <td> 4.74e+09</td>\n",
       "</tr>\n",
       "<tr>\n",
       "  <th>store_nbr_10</th>           <td> 2.674e+09</td> <td> 2.62e+09</td> <td>    1.019</td> <td> 0.308</td> <td>-2.47e+09</td> <td> 7.82e+09</td>\n",
       "</tr>\n",
       "<tr>\n",
       "  <th>store_nbr_11</th>           <td>-1.037e+09</td> <td>  1.1e+09</td> <td>   -0.943</td> <td> 0.346</td> <td>-3.19e+09</td> <td> 1.12e+09</td>\n",
       "</tr>\n",
       "<tr>\n",
       "  <th>store_nbr_12</th>           <td>-6.026e+08</td> <td> 6.06e+08</td> <td>   -0.994</td> <td> 0.320</td> <td>-1.79e+09</td> <td> 5.85e+08</td>\n",
       "</tr>\n",
       "<tr>\n",
       "  <th>store_nbr_13</th>           <td>-6.026e+08</td> <td> 6.06e+08</td> <td>   -0.994</td> <td> 0.320</td> <td>-1.79e+09</td> <td> 5.85e+08</td>\n",
       "</tr>\n",
       "<tr>\n",
       "  <th>store_nbr_14</th>           <td>-4.578e+08</td> <td> 5.16e+08</td> <td>   -0.887</td> <td> 0.375</td> <td>-1.47e+09</td> <td> 5.53e+08</td>\n",
       "</tr>\n",
       "<tr>\n",
       "  <th>store_nbr_15</th>           <td>-7.234e+08</td> <td> 7.65e+08</td> <td>   -0.945</td> <td> 0.345</td> <td>-2.22e+09</td> <td> 7.77e+08</td>\n",
       "</tr>\n",
       "<tr>\n",
       "  <th>store_nbr_16</th>           <td> 2.252e+08</td> <td> 2.07e+08</td> <td>    1.091</td> <td> 0.275</td> <td> -1.8e+08</td> <td>  6.3e+08</td>\n",
       "</tr>\n",
       "<tr>\n",
       "  <th>store_nbr_17</th>           <td> 1.258e+09</td> <td> 1.17e+09</td> <td>    1.071</td> <td> 0.284</td> <td>-1.04e+09</td> <td> 3.56e+09</td>\n",
       "</tr>\n",
       "<tr>\n",
       "  <th>store_nbr_18</th>           <td> 8.158e+08</td> <td> 7.02e+08</td> <td>    1.162</td> <td> 0.245</td> <td> -5.6e+08</td> <td> 2.19e+09</td>\n",
       "</tr>\n",
       "<tr>\n",
       "  <th>store_nbr_19</th>           <td>-7.293e+08</td> <td> 7.73e+08</td> <td>   -0.944</td> <td> 0.345</td> <td>-2.24e+09</td> <td> 7.85e+08</td>\n",
       "</tr>\n",
       "<tr>\n",
       "  <th>store_nbr_20</th>           <td> 1.649e+09</td> <td> 1.57e+09</td> <td>    1.047</td> <td> 0.295</td> <td>-1.44e+09</td> <td> 4.74e+09</td>\n",
       "</tr>\n",
       "<tr>\n",
       "  <th>store_nbr_21</th>           <td> -1.23e+09</td> <td> 1.27e+09</td> <td>   -0.970</td> <td> 0.332</td> <td>-3.72e+09</td> <td> 1.25e+09</td>\n",
       "</tr>\n",
       "<tr>\n",
       "  <th>store_nbr_22</th>           <td>-3.382e+08</td> <td> 3.75e+08</td> <td>   -0.901</td> <td> 0.367</td> <td>-1.07e+09</td> <td> 3.97e+08</td>\n",
       "</tr>\n",
       "<tr>\n",
       "  <th>store_nbr_23</th>           <td> 1.055e+10</td> <td> 9.93e+09</td> <td>    1.063</td> <td> 0.288</td> <td>-8.91e+09</td> <td>    3e+10</td>\n",
       "</tr>\n",
       "<tr>\n",
       "  <th>store_nbr_24</th>           <td> 3.841e+07</td> <td> 9.02e+07</td> <td>    0.426</td> <td> 0.670</td> <td>-1.38e+08</td> <td> 2.15e+08</td>\n",
       "</tr>\n",
       "<tr>\n",
       "  <th>store_nbr_25</th>           <td>-8.531e+08</td> <td> 8.71e+08</td> <td>   -0.980</td> <td> 0.327</td> <td>-2.56e+09</td> <td> 8.53e+08</td>\n",
       "</tr>\n",
       "<tr>\n",
       "  <th>store_nbr_26</th>           <td>-7.181e+08</td> <td> 6.06e+08</td> <td>   -1.185</td> <td> 0.236</td> <td>-1.91e+09</td> <td>  4.7e+08</td>\n",
       "</tr>\n",
       "<tr>\n",
       "  <th>store_nbr_27</th>           <td>-6.499e+08</td> <td> 7.28e+08</td> <td>   -0.893</td> <td> 0.372</td> <td>-2.08e+09</td> <td> 7.76e+08</td>\n",
       "</tr>\n",
       "<tr>\n",
       "  <th>store_nbr_28</th>           <td> 4.568e+08</td> <td> 3.97e+08</td> <td>    1.149</td> <td> 0.250</td> <td>-3.22e+08</td> <td> 1.24e+09</td>\n",
       "</tr>\n",
       "<tr>\n",
       "  <th>store_nbr_29</th>           <td> 4.568e+08</td> <td> 3.97e+08</td> <td>    1.149</td> <td> 0.250</td> <td>-3.22e+08</td> <td> 1.24e+09</td>\n",
       "</tr>\n",
       "<tr>\n",
       "  <th>store_nbr_30</th>           <td>  5.02e+08</td> <td> 5.13e+08</td> <td>    0.978</td> <td> 0.328</td> <td>-5.04e+08</td> <td> 1.51e+09</td>\n",
       "</tr>\n",
       "<tr>\n",
       "  <th>store_nbr_31</th>           <td>-4.545e+08</td> <td> 4.81e+08</td> <td>   -0.944</td> <td> 0.345</td> <td> -1.4e+09</td> <td> 4.89e+08</td>\n",
       "</tr>\n",
       "<tr>\n",
       "  <th>store_nbr_32</th>           <td>  5.02e+08</td> <td> 5.13e+08</td> <td>    0.978</td> <td> 0.328</td> <td>-5.04e+08</td> <td> 1.51e+09</td>\n",
       "</tr>\n",
       "<tr>\n",
       "  <th>store_nbr_33</th>           <td>-4.549e+08</td> <td> 4.86e+08</td> <td>   -0.935</td> <td> 0.350</td> <td>-1.41e+09</td> <td> 4.98e+08</td>\n",
       "</tr>\n",
       "<tr>\n",
       "  <th>store_nbr_34</th>           <td>-9.535e+08</td> <td> 9.57e+08</td> <td>   -0.996</td> <td> 0.319</td> <td>-2.83e+09</td> <td> 9.23e+08</td>\n",
       "</tr>\n",
       "<tr>\n",
       "  <th>store_nbr_35</th>           <td>-5.355e+08</td> <td> 5.86e+08</td> <td>   -0.914</td> <td> 0.361</td> <td>-1.68e+09</td> <td> 6.13e+08</td>\n",
       "</tr>\n",
       "<tr>\n",
       "  <th>store_nbr_36</th>           <td>-4.484e+08</td> <td> 5.61e+08</td> <td>   -0.799</td> <td> 0.424</td> <td>-1.55e+09</td> <td> 6.51e+08</td>\n",
       "</tr>\n",
       "<tr>\n",
       "  <th>store_nbr_37</th>           <td>-3.681e+08</td> <td> 3.73e+08</td> <td>   -0.987</td> <td> 0.324</td> <td> -1.1e+09</td> <td> 3.63e+08</td>\n",
       "</tr>\n",
       "<tr>\n",
       "  <th>store_nbr_38</th>           <td> -7.65e+08</td> <td> 7.94e+08</td> <td>   -0.963</td> <td> 0.336</td> <td>-2.32e+09</td> <td> 7.92e+08</td>\n",
       "</tr>\n",
       "<tr>\n",
       "  <th>store_nbr_39</th>           <td>-1.677e+08</td> <td>  2.3e+08</td> <td>   -0.729</td> <td> 0.466</td> <td>-6.19e+08</td> <td> 2.83e+08</td>\n",
       "</tr>\n",
       "<tr>\n",
       "  <th>store_nbr_40</th>           <td>-1.853e+08</td> <td> 2.15e+08</td> <td>   -0.864</td> <td> 0.388</td> <td>-6.06e+08</td> <td> 2.35e+08</td>\n",
       "</tr>\n",
       "<tr>\n",
       "  <th>store_nbr_41</th>           <td>-7.042e+08</td> <td> 7.35e+08</td> <td>   -0.958</td> <td> 0.338</td> <td>-2.15e+09</td> <td> 7.37e+08</td>\n",
       "</tr>\n",
       "<tr>\n",
       "  <th>store_nbr_42</th>           <td>-3.681e+08</td> <td> 3.73e+08</td> <td>   -0.987</td> <td> 0.324</td> <td> -1.1e+09</td> <td> 3.63e+08</td>\n",
       "</tr>\n",
       "<tr>\n",
       "  <th>store_nbr_43</th>           <td>-4.516e+08</td> <td> 5.79e+08</td> <td>   -0.780</td> <td> 0.436</td> <td>-1.59e+09</td> <td> 6.84e+08</td>\n",
       "</tr>\n",
       "<tr>\n",
       "  <th>store_nbr_44</th>           <td> 6.708e+07</td> <td> 1.69e+08</td> <td>    0.396</td> <td> 0.692</td> <td>-2.65e+08</td> <td> 3.99e+08</td>\n",
       "</tr>\n",
       "<tr>\n",
       "  <th>store_nbr_45</th>           <td> 3.318e+08</td> <td> 2.84e+08</td> <td>    1.167</td> <td> 0.243</td> <td>-2.25e+08</td> <td> 8.89e+08</td>\n",
       "</tr>\n",
       "<tr>\n",
       "  <th>store_nbr_46</th>           <td>-3.099e+09</td> <td> 2.94e+09</td> <td>   -1.052</td> <td> 0.293</td> <td>-8.87e+09</td> <td> 2.67e+09</td>\n",
       "</tr>\n",
       "<tr>\n",
       "  <th>store_nbr_47</th>           <td>-3.099e+09</td> <td> 2.94e+09</td> <td>   -1.052</td> <td> 0.293</td> <td>-8.87e+09</td> <td> 2.67e+09</td>\n",
       "</tr>\n",
       "<tr>\n",
       "  <th>store_nbr_48</th>           <td>-3.099e+09</td> <td> 2.94e+09</td> <td>   -1.052</td> <td> 0.293</td> <td>-8.87e+09</td> <td> 2.67e+09</td>\n",
       "</tr>\n",
       "<tr>\n",
       "  <th>store_nbr_49</th>           <td> 3.318e+08</td> <td> 2.84e+08</td> <td>    1.167</td> <td> 0.243</td> <td>-2.25e+08</td> <td> 8.89e+08</td>\n",
       "</tr>\n",
       "<tr>\n",
       "  <th>store_nbr_50</th>           <td> 1.236e+10</td> <td> 1.16e+10</td> <td>    1.064</td> <td> 0.287</td> <td>-1.04e+10</td> <td> 3.51e+10</td>\n",
       "</tr>\n",
       "<tr>\n",
       "  <th>store_nbr_51</th>           <td>-1.185e+09</td> <td> 1.26e+09</td> <td>   -0.942</td> <td> 0.346</td> <td>-3.65e+09</td> <td> 1.28e+09</td>\n",
       "</tr>\n",
       "<tr>\n",
       "  <th>store_nbr_52</th>           <td>-5.832e+08</td> <td> 6.84e+08</td> <td>   -0.852</td> <td> 0.394</td> <td>-1.92e+09</td> <td> 7.58e+08</td>\n",
       "</tr>\n",
       "<tr>\n",
       "  <th>store_nbr_53</th>           <td>-5.989e+08</td> <td> 6.44e+08</td> <td>   -0.931</td> <td> 0.352</td> <td>-1.86e+09</td> <td> 6.62e+08</td>\n",
       "</tr>\n",
       "<tr>\n",
       "  <th>store_nbr_54</th>           <td>-4.519e+08</td> <td> 5.71e+08</td> <td>   -0.792</td> <td> 0.428</td> <td>-1.57e+09</td> <td> 6.67e+08</td>\n",
       "</tr>\n",
       "<tr>\n",
       "  <th>item_nbr_222879</th>        <td> 7.566e+07</td> <td> 8.12e+07</td> <td>    0.932</td> <td> 0.351</td> <td>-8.35e+07</td> <td> 2.35e+08</td>\n",
       "</tr>\n",
       "<tr>\n",
       "  <th>item_nbr_261052</th>        <td> 7.566e+07</td> <td> 8.12e+07</td> <td>    0.932</td> <td> 0.351</td> <td>-8.35e+07</td> <td> 2.35e+08</td>\n",
       "</tr>\n",
       "<tr>\n",
       "  <th>item_nbr_265559</th>        <td> 7.566e+07</td> <td> 8.12e+07</td> <td>    0.932</td> <td> 0.351</td> <td>-8.35e+07</td> <td> 2.35e+08</td>\n",
       "</tr>\n",
       "<tr>\n",
       "  <th>item_nbr_314384</th>        <td> 7.566e+07</td> <td> 8.12e+07</td> <td>    0.932</td> <td> 0.351</td> <td>-8.35e+07</td> <td> 2.35e+08</td>\n",
       "</tr>\n",
       "<tr>\n",
       "  <th>item_nbr_323013</th>        <td> 7.566e+07</td> <td> 8.12e+07</td> <td>    0.932</td> <td> 0.351</td> <td>-8.35e+07</td> <td> 2.35e+08</td>\n",
       "</tr>\n",
       "<tr>\n",
       "  <th>item_nbr_364606</th>        <td> 7.566e+07</td> <td> 8.12e+07</td> <td>    0.932</td> <td> 0.351</td> <td>-8.35e+07</td> <td> 2.35e+08</td>\n",
       "</tr>\n",
       "<tr>\n",
       "  <th>item_nbr_414750</th>        <td> 7.566e+07</td> <td> 8.12e+07</td> <td>    0.932</td> <td> 0.351</td> <td>-8.35e+07</td> <td> 2.35e+08</td>\n",
       "</tr>\n",
       "<tr>\n",
       "  <th>item_nbr_502331</th>        <td> 6.826e+08</td> <td> 8.18e+08</td> <td>    0.835</td> <td> 0.404</td> <td> -9.2e+08</td> <td> 2.29e+09</td>\n",
       "</tr>\n",
       "<tr>\n",
       "  <th>item_nbr_581078</th>        <td> 5.252e+08</td> <td>  5.6e+08</td> <td>    0.939</td> <td> 0.348</td> <td>-5.72e+08</td> <td> 1.62e+09</td>\n",
       "</tr>\n",
       "<tr>\n",
       "  <th>item_nbr_1036689</th>       <td> 7.566e+07</td> <td> 8.12e+07</td> <td>    0.932</td> <td> 0.351</td> <td>-8.35e+07</td> <td> 2.35e+08</td>\n",
       "</tr>\n",
       "<tr>\n",
       "  <th>item_nbr_1052563</th>       <td> 7.566e+07</td> <td> 8.12e+07</td> <td>    0.932</td> <td> 0.351</td> <td>-8.35e+07</td> <td> 2.35e+08</td>\n",
       "</tr>\n",
       "<tr>\n",
       "  <th>item_nbr_1157564</th>       <td> 7.566e+07</td> <td> 8.12e+07</td> <td>    0.932</td> <td> 0.351</td> <td>-8.35e+07</td> <td> 2.35e+08</td>\n",
       "</tr>\n",
       "<tr>\n",
       "  <th>item_nbr_1162382</th>       <td> 7.566e+07</td> <td> 8.12e+07</td> <td>    0.932</td> <td> 0.351</td> <td>-8.35e+07</td> <td> 2.35e+08</td>\n",
       "</tr>\n",
       "<tr>\n",
       "  <th>item_nbr_1418845</th>       <td> 7.566e+07</td> <td> 8.12e+07</td> <td>    0.932</td> <td> 0.351</td> <td>-8.35e+07</td> <td> 2.35e+08</td>\n",
       "</tr>\n",
       "<tr>\n",
       "  <th>item_nbr_1463860</th>       <td> 3.032e+08</td> <td> 2.73e+08</td> <td>    1.110</td> <td> 0.267</td> <td>-2.32e+08</td> <td> 8.39e+08</td>\n",
       "</tr>\n",
       "<tr>\n",
       "  <th>item_nbr_1958216</th>       <td> 3.032e+08</td> <td> 2.73e+08</td> <td>    1.110</td> <td> 0.267</td> <td>-2.32e+08</td> <td> 8.39e+08</td>\n",
       "</tr>\n",
       "<tr>\n",
       "  <th>item_nbr_2010511</th>       <td> 7.566e+07</td> <td> 8.12e+07</td> <td>    0.932</td> <td> 0.351</td> <td>-8.35e+07</td> <td> 2.35e+08</td>\n",
       "</tr>\n",
       "<tr>\n",
       "  <th>item_nbr_2042941</th>       <td> 3.032e+08</td> <td> 2.73e+08</td> <td>    1.110</td> <td> 0.267</td> <td>-2.32e+08</td> <td> 8.39e+08</td>\n",
       "</tr>\n",
       "<tr>\n",
       "  <th>item_nbr_2042947</th>       <td> 3.032e+08</td> <td> 2.73e+08</td> <td>    1.110</td> <td> 0.267</td> <td>-2.32e+08</td> <td> 8.39e+08</td>\n",
       "</tr>\n",
       "<tr>\n",
       "  <th>item_nbr_2081064</th>       <td> 6.494e+08</td> <td> 8.13e+08</td> <td>    0.799</td> <td> 0.424</td> <td>-9.44e+08</td> <td> 2.24e+09</td>\n",
       "</tr>\n",
       "<tr>\n",
       "  <th>family_BEVERAGES</th>       <td> 7.034e+08</td> <td> 8.36e+08</td> <td>    0.842</td> <td> 0.400</td> <td>-9.35e+08</td> <td> 2.34e+09</td>\n",
       "</tr>\n",
       "<tr>\n",
       "  <th>family_BREAD/BAKERY</th>    <td> 6.512e+08</td> <td> 7.96e+08</td> <td>    0.818</td> <td> 0.413</td> <td>-9.09e+08</td> <td> 2.21e+09</td>\n",
       "</tr>\n",
       "<tr>\n",
       "  <th>family_CLEANING</th>        <td> 4.814e+08</td> <td> 5.31e+08</td> <td>    0.906</td> <td> 0.365</td> <td> -5.6e+08</td> <td> 1.52e+09</td>\n",
       "</tr>\n",
       "<tr>\n",
       "  <th>family_GROCERY I</th>       <td> 9.309e+08</td> <td> 1.01e+09</td> <td>    0.922</td> <td> 0.356</td> <td>-1.05e+09</td> <td> 2.91e+09</td>\n",
       "</tr>\n",
       "<tr>\n",
       "  <th>family_PREPARED FOODS</th>  <td> 6.843e+08</td> <td> 8.02e+08</td> <td>    0.854</td> <td> 0.393</td> <td>-8.87e+08</td> <td> 2.26e+09</td>\n",
       "</tr>\n",
       "<tr>\n",
       "  <th>perishable_0</th>           <td> 1.837e+09</td> <td> 2.37e+09</td> <td>    0.776</td> <td> 0.438</td> <td> -2.8e+09</td> <td> 6.48e+09</td>\n",
       "</tr>\n",
       "<tr>\n",
       "  <th>perishable_1</th>           <td>  1.51e+09</td> <td> 1.83e+09</td> <td>    0.824</td> <td> 0.410</td> <td>-2.08e+09</td> <td>  5.1e+09</td>\n",
       "</tr>\n",
       "<tr>\n",
       "  <th>type_y_Additional</th>      <td> 9.006e+08</td> <td>  1.1e+09</td> <td>    0.821</td> <td> 0.411</td> <td>-1.25e+09</td> <td> 3.05e+09</td>\n",
       "</tr>\n",
       "<tr>\n",
       "  <th>type_y_Holiday</th>         <td> 9.006e+08</td> <td>  1.1e+09</td> <td>    0.821</td> <td> 0.411</td> <td>-1.25e+09</td> <td> 3.05e+09</td>\n",
       "</tr>\n",
       "<tr>\n",
       "  <th>type_y_Transfer</th>        <td>  2.91e+08</td> <td> 4.53e+08</td> <td>    0.643</td> <td> 0.520</td> <td>-5.97e+08</td> <td> 1.18e+09</td>\n",
       "</tr>\n",
       "<tr>\n",
       "  <th>type_y_no_holyday</th>      <td> 1.092e+09</td> <td> 1.33e+09</td> <td>    0.818</td> <td> 0.413</td> <td>-1.52e+09</td> <td> 3.71e+09</td>\n",
       "</tr>\n",
       "<tr>\n",
       "  <th>locale_Local</th>           <td> 7.547e+08</td> <td>    1e+09</td> <td>    0.753</td> <td> 0.451</td> <td>-1.21e+09</td> <td> 2.72e+09</td>\n",
       "</tr>\n",
       "<tr>\n",
       "  <th>locale_National</th>        <td> 1.364e+09</td> <td> 1.65e+09</td> <td>    0.826</td> <td> 0.409</td> <td>-1.87e+09</td> <td>  4.6e+09</td>\n",
       "</tr>\n",
       "<tr>\n",
       "  <th>locale_no_locale</th>       <td> 1.093e+09</td> <td> 1.33e+09</td> <td>    0.820</td> <td> 0.412</td> <td>-1.52e+09</td> <td> 3.71e+09</td>\n",
       "</tr>\n",
       "<tr>\n",
       "  <th>transferred_False</th>      <td>  1.68e+09</td> <td> 1.89e+09</td> <td>    0.890</td> <td> 0.373</td> <td>-2.02e+09</td> <td> 5.38e+09</td>\n",
       "</tr>\n",
       "<tr>\n",
       "  <th>transferred_True</th>       <td>  1.07e+09</td> <td> 1.23e+09</td> <td>    0.870</td> <td> 0.384</td> <td>-1.34e+09</td> <td> 3.48e+09</td>\n",
       "</tr>\n",
       "<tr>\n",
       "  <th>transferred_no_holyday</th> <td>  1.15e+09</td> <td> 1.31e+09</td> <td>    0.877</td> <td> 0.380</td> <td>-1.42e+09</td> <td> 3.72e+09</td>\n",
       "</tr>\n",
       "<tr>\n",
       "  <th>month_07</th>               <td>  1.88e+09</td> <td> 2.28e+09</td> <td>    0.823</td> <td> 0.410</td> <td> -2.6e+09</td> <td> 6.36e+09</td>\n",
       "</tr>\n",
       "<tr>\n",
       "  <th>month_08</th>               <td>  1.88e+09</td> <td> 2.28e+09</td> <td>    0.823</td> <td> 0.410</td> <td> -2.6e+09</td> <td> 6.36e+09</td>\n",
       "</tr>\n",
       "<tr>\n",
       "  <th>day_Friday</th>             <td>  5.58e+08</td> <td> 5.91e+08</td> <td>    0.945</td> <td> 0.345</td> <td>   -6e+08</td> <td> 1.72e+09</td>\n",
       "</tr>\n",
       "<tr>\n",
       "  <th>day_Monday</th>             <td>  5.58e+08</td> <td> 5.91e+08</td> <td>    0.945</td> <td> 0.345</td> <td>   -6e+08</td> <td> 1.72e+09</td>\n",
       "</tr>\n",
       "<tr>\n",
       "  <th>day_Saturday</th>           <td>  5.58e+08</td> <td> 5.91e+08</td> <td>    0.945</td> <td> 0.345</td> <td>   -6e+08</td> <td> 1.72e+09</td>\n",
       "</tr>\n",
       "<tr>\n",
       "  <th>day_Sunday</th>             <td>  5.58e+08</td> <td> 5.91e+08</td> <td>    0.945</td> <td> 0.345</td> <td>   -6e+08</td> <td> 1.72e+09</td>\n",
       "</tr>\n",
       "<tr>\n",
       "  <th>day_Thursday</th>           <td>  5.58e+08</td> <td> 5.91e+08</td> <td>    0.945</td> <td> 0.345</td> <td>   -6e+08</td> <td> 1.72e+09</td>\n",
       "</tr>\n",
       "<tr>\n",
       "  <th>day_Tuesday</th>            <td>  5.58e+08</td> <td> 5.91e+08</td> <td>    0.945</td> <td> 0.345</td> <td>   -6e+08</td> <td> 1.72e+09</td>\n",
       "</tr>\n",
       "<tr>\n",
       "  <th>day_Wednesday</th>          <td>  5.58e+08</td> <td> 5.91e+08</td> <td>    0.945</td> <td> 0.345</td> <td>   -6e+08</td> <td> 1.72e+09</td>\n",
       "</tr>\n",
       "</table>\n",
       "<table class=\"simpletable\">\n",
       "<tr>\n",
       "  <th>Omnibus:</th>       <td>43281.463</td> <th>  Durbin-Watson:     </th>   <td>   1.976</td>  \n",
       "</tr>\n",
       "<tr>\n",
       "  <th>Prob(Omnibus):</th>  <td> 0.000</td>   <th>  Jarque-Bera (JB):  </th> <td>63076681.351</td>\n",
       "</tr>\n",
       "<tr>\n",
       "  <th>Skew:</th>           <td> 9.873</td>   <th>  Prob(JB):          </th>   <td>    0.00</td>  \n",
       "</tr>\n",
       "<tr>\n",
       "  <th>Kurtosis:</th>       <td>237.372</td>  <th>  Cond. No.          </th>   <td>2.53e+16</td>  \n",
       "</tr>\n",
       "</table><br/><br/>Warnings:<br/>[1] Standard Errors assume that the covariance matrix of the errors is correctly specified.<br/>[2] The smallest eigenvalue is 2.42e-28. This might indicate that there are<br/>strong multicollinearity problems or that the design matrix is singular."
      ],
      "text/plain": [
       "<class 'statsmodels.iolib.summary.Summary'>\n",
       "\"\"\"\n",
       "                            OLS Regression Results                            \n",
       "==============================================================================\n",
       "Dep. Variable:             unit_sales   R-squared:                       0.365\n",
       "Model:                            OLS   Adj. R-squared:                  0.363\n",
       "Method:                 Least Squares   F-statistic:                     184.9\n",
       "Date:                Fri, 27 Dec 2019   Prob (F-statistic):               0.00\n",
       "Time:                        17:28:57   Log-Likelihood:                 65919.\n",
       "No. Observations:               27365   AIC:                        -1.317e+05\n",
       "Df Residuals:                   27279   BIC:                        -1.310e+05\n",
       "Df Model:                          85                                         \n",
       "Covariance Type:            nonrobust                                         \n",
       "==========================================================================================\n",
       "                             coef    std err          t      P>|t|      [0.025      0.975]\n",
       "------------------------------------------------------------------------------------------\n",
       "dcoilwtico                 0.0072      0.000     14.956      0.000       0.006       0.008\n",
       "onpromotion_False      -6.473e+09   1.15e+10     -0.564      0.573    -2.9e+10     1.6e+10\n",
       "onpromotion_True       -6.473e+09   1.15e+10     -0.564      0.573    -2.9e+10     1.6e+10\n",
       "city_Ambato            -1.962e+10   1.87e+10     -1.048      0.295   -5.63e+10    1.71e+10\n",
       "city_Babahoyo          -9.445e+08   1.01e+09     -0.939      0.348   -2.92e+09    1.03e+09\n",
       "city_Cayambe           -1.482e+09   1.54e+09     -0.966      0.334   -4.49e+09    1.53e+09\n",
       "city_Cuenca            -2.351e+09   2.41e+09     -0.974      0.330   -7.08e+09    2.38e+09\n",
       "city_Daule             -8.772e+08   8.79e+08     -0.998      0.318    -2.6e+09    8.46e+08\n",
       "city_El Carmen         -6.116e+08   6.09e+08     -1.005      0.315    -1.8e+09    5.81e+08\n",
       "city_Esmeraldas        -6.571e+08   7.49e+08     -0.877      0.380   -2.13e+09    8.11e+08\n",
       "city_Guaranda          -7.652e+08   8.08e+08     -0.947      0.344   -2.35e+09    8.18e+08\n",
       "city_Guayaquil         -1.566e+09   1.68e+09     -0.932      0.351   -4.86e+09    1.73e+09\n",
       "city_Ibarra            -7.711e+08   8.15e+08     -0.946      0.344   -2.37e+09    8.27e+08\n",
       "city_Latacunga         -8.919e+08   9.77e+08     -0.913      0.361   -2.81e+09    1.02e+09\n",
       "city_Libertad          -6.603e+08   7.66e+08     -0.862      0.389   -2.16e+09    8.42e+08\n",
       "city_Loja              -8.174e+08   8.95e+08     -0.914      0.361   -2.57e+09    9.36e+08\n",
       "city_Machala           -8.782e+08   9.54e+08     -0.921      0.357   -2.75e+09    9.91e+08\n",
       "city_Manta             -3.253e+09   3.27e+09     -0.996      0.319   -9.65e+09    3.15e+09\n",
       "city_Playas             -5.28e+08   5.82e+08     -0.908      0.364   -1.67e+09    6.12e+08\n",
       "city_Puyo              -4.657e+08   5.78e+08     -0.805      0.421    -1.6e+09    6.68e+08\n",
       "city_Quevedo           -6.087e+08   6.82e+08     -0.893      0.372   -1.95e+09    7.28e+08\n",
       "city_Quito             -4.168e+09    4.2e+09     -0.993      0.321   -1.24e+10    4.06e+09\n",
       "city_Riobamba          -3.461e+08   4.38e+08     -0.791      0.429    -1.2e+09    5.12e+08\n",
       "city_Salinas            -6.74e+08   7.34e+08     -0.919      0.358   -2.11e+09    7.64e+08\n",
       "city_Santo Domingo     -1.289e+09   1.37e+09     -0.943      0.346   -3.97e+09    1.39e+09\n",
       "type_x_A                1.748e+09    1.5e+09      1.166      0.244   -1.19e+09    4.69e+09\n",
       "type_x_B                4.271e+08   8.85e+08      0.483      0.629   -1.31e+09    2.16e+09\n",
       "type_x_C               -5.549e+08    1.6e+09     -0.347      0.729   -3.69e+09    2.58e+09\n",
       "type_x_D                1.312e+09   1.29e+09      1.015      0.310   -1.22e+09    3.84e+09\n",
       "type_x_E                1.368e+08   7.82e+08      0.175      0.861    -1.4e+09    1.67e+09\n",
       "cluster_1              -1.928e+09   2.01e+09     -0.957      0.338   -5.88e+09    2.02e+09\n",
       "cluster_2              -7.361e+08   8.36e+08     -0.881      0.378   -2.37e+09    9.02e+08\n",
       "cluster_3              -5.254e+08    6.9e+08     -0.762      0.446   -1.88e+09    8.27e+08\n",
       "cluster_4              -1.873e+09   1.93e+09     -0.971      0.332   -5.66e+09    1.91e+09\n",
       "cluster_5               2.093e+08   1.97e+08      1.060      0.289   -1.78e+08    5.96e+08\n",
       "cluster_6              -5.197e+07   4.43e+08     -0.117      0.907    -9.2e+08    8.16e+08\n",
       "cluster_7               -7.85e+08   8.99e+08     -0.873      0.383   -2.55e+09    9.77e+08\n",
       "cluster_8               5.409e+08   4.63e+08      1.168      0.243   -3.67e+08    1.45e+09\n",
       "cluster_9               5.616e+09   5.24e+09      1.072      0.284   -4.65e+09    1.59e+10\n",
       "cluster_10             -1.172e+09   1.47e+09     -0.796      0.426   -4.06e+09    1.71e+09\n",
       "cluster_11             -5.543e+07      3e+08     -0.185      0.853   -6.44e+08    5.33e+08\n",
       "cluster_12              1.321e+09   1.23e+09      1.076      0.282   -1.09e+09    3.73e+09\n",
       "cluster_13              3.966e+08   3.36e+08      1.181      0.238   -2.62e+08    1.05e+09\n",
       "cluster_14              3.376e+09   3.06e+09      1.105      0.269   -2.61e+09    9.37e+09\n",
       "cluster_15             -9.449e+07   3.33e+08     -0.284      0.776   -7.46e+08    5.58e+08\n",
       "cluster_16              7.813e+08   6.79e+08      1.151      0.250   -5.49e+08    2.11e+09\n",
       "cluster_17             -1.141e+09   1.21e+09     -0.939      0.347   -3.52e+09    1.24e+09\n",
       "store_nbr_1             3.161e+08   2.95e+08      1.071      0.284   -2.62e+08    8.94e+08\n",
       "store_nbr_2             3.161e+08   2.95e+08      1.071      0.284   -2.62e+08    8.94e+08\n",
       "store_nbr_3             1.717e+08   1.63e+08      1.054      0.292   -1.48e+08    4.91e+08\n",
       "store_nbr_4            -4.903e+09   4.63e+09     -1.059      0.290    -1.4e+10    4.17e+09\n",
       "store_nbr_5            -2.937e+08   3.22e+08     -0.913      0.361   -9.24e+08    3.37e+08\n",
       "store_nbr_6             3.161e+08   2.95e+08      1.071      0.284   -2.62e+08    8.94e+08\n",
       "store_nbr_7             1.717e+08   1.63e+08      1.054      0.292   -1.48e+08    4.91e+08\n",
       "store_nbr_8             1.717e+08   1.63e+08      1.054      0.292   -1.48e+08    4.91e+08\n",
       "store_nbr_9             1.649e+09   1.57e+09      1.047      0.295   -1.44e+09    4.74e+09\n",
       "store_nbr_10            2.674e+09   2.62e+09      1.019      0.308   -2.47e+09    7.82e+09\n",
       "store_nbr_11           -1.037e+09    1.1e+09     -0.943      0.346   -3.19e+09    1.12e+09\n",
       "store_nbr_12           -6.026e+08   6.06e+08     -0.994      0.320   -1.79e+09    5.85e+08\n",
       "store_nbr_13           -6.026e+08   6.06e+08     -0.994      0.320   -1.79e+09    5.85e+08\n",
       "store_nbr_14           -4.578e+08   5.16e+08     -0.887      0.375   -1.47e+09    5.53e+08\n",
       "store_nbr_15           -7.234e+08   7.65e+08     -0.945      0.345   -2.22e+09    7.77e+08\n",
       "store_nbr_16            2.252e+08   2.07e+08      1.091      0.275    -1.8e+08     6.3e+08\n",
       "store_nbr_17            1.258e+09   1.17e+09      1.071      0.284   -1.04e+09    3.56e+09\n",
       "store_nbr_18            8.158e+08   7.02e+08      1.162      0.245    -5.6e+08    2.19e+09\n",
       "store_nbr_19           -7.293e+08   7.73e+08     -0.944      0.345   -2.24e+09    7.85e+08\n",
       "store_nbr_20            1.649e+09   1.57e+09      1.047      0.295   -1.44e+09    4.74e+09\n",
       "store_nbr_21            -1.23e+09   1.27e+09     -0.970      0.332   -3.72e+09    1.25e+09\n",
       "store_nbr_22           -3.382e+08   3.75e+08     -0.901      0.367   -1.07e+09    3.97e+08\n",
       "store_nbr_23            1.055e+10   9.93e+09      1.063      0.288   -8.91e+09       3e+10\n",
       "store_nbr_24            3.841e+07   9.02e+07      0.426      0.670   -1.38e+08    2.15e+08\n",
       "store_nbr_25           -8.531e+08   8.71e+08     -0.980      0.327   -2.56e+09    8.53e+08\n",
       "store_nbr_26           -7.181e+08   6.06e+08     -1.185      0.236   -1.91e+09     4.7e+08\n",
       "store_nbr_27           -6.499e+08   7.28e+08     -0.893      0.372   -2.08e+09    7.76e+08\n",
       "store_nbr_28            4.568e+08   3.97e+08      1.149      0.250   -3.22e+08    1.24e+09\n",
       "store_nbr_29            4.568e+08   3.97e+08      1.149      0.250   -3.22e+08    1.24e+09\n",
       "store_nbr_30             5.02e+08   5.13e+08      0.978      0.328   -5.04e+08    1.51e+09\n",
       "store_nbr_31           -4.545e+08   4.81e+08     -0.944      0.345    -1.4e+09    4.89e+08\n",
       "store_nbr_32             5.02e+08   5.13e+08      0.978      0.328   -5.04e+08    1.51e+09\n",
       "store_nbr_33           -4.549e+08   4.86e+08     -0.935      0.350   -1.41e+09    4.98e+08\n",
       "store_nbr_34           -9.535e+08   9.57e+08     -0.996      0.319   -2.83e+09    9.23e+08\n",
       "store_nbr_35           -5.355e+08   5.86e+08     -0.914      0.361   -1.68e+09    6.13e+08\n",
       "store_nbr_36           -4.484e+08   5.61e+08     -0.799      0.424   -1.55e+09    6.51e+08\n",
       "store_nbr_37           -3.681e+08   3.73e+08     -0.987      0.324    -1.1e+09    3.63e+08\n",
       "store_nbr_38            -7.65e+08   7.94e+08     -0.963      0.336   -2.32e+09    7.92e+08\n",
       "store_nbr_39           -1.677e+08    2.3e+08     -0.729      0.466   -6.19e+08    2.83e+08\n",
       "store_nbr_40           -1.853e+08   2.15e+08     -0.864      0.388   -6.06e+08    2.35e+08\n",
       "store_nbr_41           -7.042e+08   7.35e+08     -0.958      0.338   -2.15e+09    7.37e+08\n",
       "store_nbr_42           -3.681e+08   3.73e+08     -0.987      0.324    -1.1e+09    3.63e+08\n",
       "store_nbr_43           -4.516e+08   5.79e+08     -0.780      0.436   -1.59e+09    6.84e+08\n",
       "store_nbr_44            6.708e+07   1.69e+08      0.396      0.692   -2.65e+08    3.99e+08\n",
       "store_nbr_45            3.318e+08   2.84e+08      1.167      0.243   -2.25e+08    8.89e+08\n",
       "store_nbr_46           -3.099e+09   2.94e+09     -1.052      0.293   -8.87e+09    2.67e+09\n",
       "store_nbr_47           -3.099e+09   2.94e+09     -1.052      0.293   -8.87e+09    2.67e+09\n",
       "store_nbr_48           -3.099e+09   2.94e+09     -1.052      0.293   -8.87e+09    2.67e+09\n",
       "store_nbr_49            3.318e+08   2.84e+08      1.167      0.243   -2.25e+08    8.89e+08\n",
       "store_nbr_50            1.236e+10   1.16e+10      1.064      0.287   -1.04e+10    3.51e+10\n",
       "store_nbr_51           -1.185e+09   1.26e+09     -0.942      0.346   -3.65e+09    1.28e+09\n",
       "store_nbr_52           -5.832e+08   6.84e+08     -0.852      0.394   -1.92e+09    7.58e+08\n",
       "store_nbr_53           -5.989e+08   6.44e+08     -0.931      0.352   -1.86e+09    6.62e+08\n",
       "store_nbr_54           -4.519e+08   5.71e+08     -0.792      0.428   -1.57e+09    6.67e+08\n",
       "item_nbr_222879         7.566e+07   8.12e+07      0.932      0.351   -8.35e+07    2.35e+08\n",
       "item_nbr_261052         7.566e+07   8.12e+07      0.932      0.351   -8.35e+07    2.35e+08\n",
       "item_nbr_265559         7.566e+07   8.12e+07      0.932      0.351   -8.35e+07    2.35e+08\n",
       "item_nbr_314384         7.566e+07   8.12e+07      0.932      0.351   -8.35e+07    2.35e+08\n",
       "item_nbr_323013         7.566e+07   8.12e+07      0.932      0.351   -8.35e+07    2.35e+08\n",
       "item_nbr_364606         7.566e+07   8.12e+07      0.932      0.351   -8.35e+07    2.35e+08\n",
       "item_nbr_414750         7.566e+07   8.12e+07      0.932      0.351   -8.35e+07    2.35e+08\n",
       "item_nbr_502331         6.826e+08   8.18e+08      0.835      0.404    -9.2e+08    2.29e+09\n",
       "item_nbr_581078         5.252e+08    5.6e+08      0.939      0.348   -5.72e+08    1.62e+09\n",
       "item_nbr_1036689        7.566e+07   8.12e+07      0.932      0.351   -8.35e+07    2.35e+08\n",
       "item_nbr_1052563        7.566e+07   8.12e+07      0.932      0.351   -8.35e+07    2.35e+08\n",
       "item_nbr_1157564        7.566e+07   8.12e+07      0.932      0.351   -8.35e+07    2.35e+08\n",
       "item_nbr_1162382        7.566e+07   8.12e+07      0.932      0.351   -8.35e+07    2.35e+08\n",
       "item_nbr_1418845        7.566e+07   8.12e+07      0.932      0.351   -8.35e+07    2.35e+08\n",
       "item_nbr_1463860        3.032e+08   2.73e+08      1.110      0.267   -2.32e+08    8.39e+08\n",
       "item_nbr_1958216        3.032e+08   2.73e+08      1.110      0.267   -2.32e+08    8.39e+08\n",
       "item_nbr_2010511        7.566e+07   8.12e+07      0.932      0.351   -8.35e+07    2.35e+08\n",
       "item_nbr_2042941        3.032e+08   2.73e+08      1.110      0.267   -2.32e+08    8.39e+08\n",
       "item_nbr_2042947        3.032e+08   2.73e+08      1.110      0.267   -2.32e+08    8.39e+08\n",
       "item_nbr_2081064        6.494e+08   8.13e+08      0.799      0.424   -9.44e+08    2.24e+09\n",
       "family_BEVERAGES        7.034e+08   8.36e+08      0.842      0.400   -9.35e+08    2.34e+09\n",
       "family_BREAD/BAKERY     6.512e+08   7.96e+08      0.818      0.413   -9.09e+08    2.21e+09\n",
       "family_CLEANING         4.814e+08   5.31e+08      0.906      0.365    -5.6e+08    1.52e+09\n",
       "family_GROCERY I        9.309e+08   1.01e+09      0.922      0.356   -1.05e+09    2.91e+09\n",
       "family_PREPARED FOODS   6.843e+08   8.02e+08      0.854      0.393   -8.87e+08    2.26e+09\n",
       "perishable_0            1.837e+09   2.37e+09      0.776      0.438    -2.8e+09    6.48e+09\n",
       "perishable_1             1.51e+09   1.83e+09      0.824      0.410   -2.08e+09     5.1e+09\n",
       "type_y_Additional       9.006e+08    1.1e+09      0.821      0.411   -1.25e+09    3.05e+09\n",
       "type_y_Holiday          9.006e+08    1.1e+09      0.821      0.411   -1.25e+09    3.05e+09\n",
       "type_y_Transfer          2.91e+08   4.53e+08      0.643      0.520   -5.97e+08    1.18e+09\n",
       "type_y_no_holyday       1.092e+09   1.33e+09      0.818      0.413   -1.52e+09    3.71e+09\n",
       "locale_Local            7.547e+08      1e+09      0.753      0.451   -1.21e+09    2.72e+09\n",
       "locale_National         1.364e+09   1.65e+09      0.826      0.409   -1.87e+09     4.6e+09\n",
       "locale_no_locale        1.093e+09   1.33e+09      0.820      0.412   -1.52e+09    3.71e+09\n",
       "transferred_False        1.68e+09   1.89e+09      0.890      0.373   -2.02e+09    5.38e+09\n",
       "transferred_True         1.07e+09   1.23e+09      0.870      0.384   -1.34e+09    3.48e+09\n",
       "transferred_no_holyday   1.15e+09   1.31e+09      0.877      0.380   -1.42e+09    3.72e+09\n",
       "month_07                 1.88e+09   2.28e+09      0.823      0.410    -2.6e+09    6.36e+09\n",
       "month_08                 1.88e+09   2.28e+09      0.823      0.410    -2.6e+09    6.36e+09\n",
       "day_Friday               5.58e+08   5.91e+08      0.945      0.345      -6e+08    1.72e+09\n",
       "day_Monday               5.58e+08   5.91e+08      0.945      0.345      -6e+08    1.72e+09\n",
       "day_Saturday             5.58e+08   5.91e+08      0.945      0.345      -6e+08    1.72e+09\n",
       "day_Sunday               5.58e+08   5.91e+08      0.945      0.345      -6e+08    1.72e+09\n",
       "day_Thursday             5.58e+08   5.91e+08      0.945      0.345      -6e+08    1.72e+09\n",
       "day_Tuesday              5.58e+08   5.91e+08      0.945      0.345      -6e+08    1.72e+09\n",
       "day_Wednesday            5.58e+08   5.91e+08      0.945      0.345      -6e+08    1.72e+09\n",
       "==============================================================================\n",
       "Omnibus:                    43281.463   Durbin-Watson:                   1.976\n",
       "Prob(Omnibus):                  0.000   Jarque-Bera (JB):         63076681.351\n",
       "Skew:                           9.873   Prob(JB):                         0.00\n",
       "Kurtosis:                     237.372   Cond. No.                     2.53e+16\n",
       "==============================================================================\n",
       "\n",
       "Warnings:\n",
       "[1] Standard Errors assume that the covariance matrix of the errors is correctly specified.\n",
       "[2] The smallest eigenvalue is 2.42e-28. This might indicate that there are\n",
       "strong multicollinearity problems or that the design matrix is singular.\n",
       "\"\"\""
      ]
     },
     "execution_count": 67,
     "metadata": {},
     "output_type": "execute_result"
    }
   ],
   "source": [
    "import statsmodels.api as sm\n",
    "import statsmodels.regression.linear_model as sm\n",
    "model = sm.OLS(y_train, X_train)\n",
    "results = model.fit()\n",
    "# Statsmodels gives R-like statistical output\n",
    "results.summary()\n",
    "# Here the Ordinalry Least Squares method has given us the r^2 value of 0.354 which is poor for model to be predicted on these variables."
   ]
  },
  {
   "cell_type": "markdown",
   "metadata": {},
   "source": [
    "# The Linear regression model gives a low R- square value of 0.354"
   ]
  },
  {
   "cell_type": "markdown",
   "metadata": {
    "collapsed": true
   },
   "source": [
    "## Checking for VIF for eliminating multicollinearity and overfitting"
   ]
  },
  {
   "cell_type": "code",
   "execution_count": 68,
   "metadata": {},
   "outputs": [],
   "source": [
    "#Implementing VIF (Variance Inflation Factor) to check whether the selected independent variables are correct for prediction \n",
    "# or not. Also, 'item_nbr', 'perishable' and 'dcoilwtico' had very close levels of co-relation with price which makes us to investigate whether all \n",
    "# three are important or not.\n",
    "indep=['dcoilwtico','perishable','item_nbr','store_nbr','cluster']\n",
    "X=Salesdf[indep]"
   ]
  },
  {
   "cell_type": "code",
   "execution_count": 69,
   "metadata": {
    "scrolled": true
   },
   "outputs": [
    {
     "name": "stdout",
     "output_type": "stream",
     "text": [
      "vif : [11.477700032259934, 1.3502134941660437, 4.9743199134182285, 4.008314266332862, 4.624524419190841]\n",
      "dcoilwtico\n",
      "Final variables:  ['perishable', 'item_nbr', 'store_nbr', 'cluster']\n"
     ]
    }
   ],
   "source": [
    "from statsmodels.stats.outliers_influence import variance_inflation_factor  \n",
    "thresh=10 #Setting a threshold of 10 as a sign of serious and sever multi-collinearity\n",
    "for i in np.arange(0,len(indep)):\n",
    "    vif=[variance_inflation_factor(X[indep].values,ix)\n",
    "    for ix in range(X[indep].shape[1])]\n",
    "    maxloc=vif.index(max(vif))\n",
    "    if max(vif) > thresh:\n",
    "        print (\"vif :\", vif)\n",
    "        print( X[indep].columns[maxloc] )\n",
    "        del indep[maxloc]\n",
    "    else:\n",
    "        break\n",
    "        \n",
    "    print ('Final variables: ', indep)"
   ]
  },
  {
   "cell_type": "code",
   "execution_count": 70,
   "metadata": {
    "scrolled": true
   },
   "outputs": [
    {
     "data": {
      "text/html": [
       "<div>\n",
       "<style scoped>\n",
       "    .dataframe tbody tr th:only-of-type {\n",
       "        vertical-align: middle;\n",
       "    }\n",
       "\n",
       "    .dataframe tbody tr th {\n",
       "        vertical-align: top;\n",
       "    }\n",
       "\n",
       "    .dataframe thead th {\n",
       "        text-align: right;\n",
       "    }\n",
       "</style>\n",
       "<table border=\"1\" class=\"dataframe\">\n",
       "  <thead>\n",
       "    <tr style=\"text-align: right;\">\n",
       "      <th></th>\n",
       "      <th>perishable</th>\n",
       "      <th>item_nbr</th>\n",
       "      <th>store_nbr</th>\n",
       "      <th>cluster</th>\n",
       "    </tr>\n",
       "  </thead>\n",
       "  <tbody>\n",
       "    <tr>\n",
       "      <th>0</th>\n",
       "      <td>0</td>\n",
       "      <td>99197</td>\n",
       "      <td>1</td>\n",
       "      <td>13</td>\n",
       "    </tr>\n",
       "    <tr>\n",
       "      <th>1</th>\n",
       "      <td>0</td>\n",
       "      <td>103520</td>\n",
       "      <td>1</td>\n",
       "      <td>13</td>\n",
       "    </tr>\n",
       "    <tr>\n",
       "      <th>2</th>\n",
       "      <td>0</td>\n",
       "      <td>105574</td>\n",
       "      <td>1</td>\n",
       "      <td>13</td>\n",
       "    </tr>\n",
       "    <tr>\n",
       "      <th>3</th>\n",
       "      <td>0</td>\n",
       "      <td>105575</td>\n",
       "      <td>1</td>\n",
       "      <td>13</td>\n",
       "    </tr>\n",
       "    <tr>\n",
       "      <th>4</th>\n",
       "      <td>0</td>\n",
       "      <td>105737</td>\n",
       "      <td>1</td>\n",
       "      <td>13</td>\n",
       "    </tr>\n",
       "  </tbody>\n",
       "</table>\n",
       "</div>"
      ],
      "text/plain": [
       "   perishable  item_nbr  store_nbr  cluster\n",
       "0           0     99197          1       13\n",
       "1           0    103520          1       13\n",
       "2           0    105574          1       13\n",
       "3           0    105575          1       13\n",
       "4           0    105737          1       13"
      ]
     },
     "execution_count": 70,
     "metadata": {},
     "output_type": "execute_result"
    }
   ],
   "source": [
    "X[indep].head(5)"
   ]
  },
  {
   "cell_type": "code",
   "execution_count": 71,
   "metadata": {},
   "outputs": [],
   "source": [
    "X=Salesdf[['perishable', 'item_nbr', 'store_nbr', 'cluster']]\n",
    "y=Salesdf[[\"unit_sales\"]]"
   ]
  },
  {
   "cell_type": "markdown",
   "metadata": {},
   "source": [
    "## Cross Validation using Scikit Learn\n",
    "\n",
    "R^2 value is basically dependant on the way the data is split. Hence, there may be times when the R^2 value may not be able to\n",
    "represent the model's ability to generalize. For this we perform cross validation."
   ]
  },
  {
   "cell_type": "code",
   "execution_count": 72,
   "metadata": {
    "scrolled": true
   },
   "outputs": [
    {
     "name": "stdout",
     "output_type": "stream",
     "text": [
      "[0.40801004 0.32014689 0.36808983 0.34935282 0.37056641]\n",
      "0.3632331987108618\n",
      "0.028745168252796847\n"
     ]
    }
   ],
   "source": [
    "reg=linear_model.LinearRegression()\n",
    "cv_results=cross_val_score(reg,X_train,y_train,cv=5)\n",
    "print(cv_results)\n",
    "print(np.mean(cv_results))\n",
    "print(np.std(cv_results))\n",
    "#Using cross validation of score 5"
   ]
  },
  {
   "cell_type": "markdown",
   "metadata": {},
   "source": [
    "## Regularization\n",
    "\n",
    "We perform regularization in order to alter the loss function to penalize it for having higher coefficients for each feature variable. And as we know, large coefficients leads to overfitting."
   ]
  },
  {
   "cell_type": "code",
   "execution_count": 73,
   "metadata": {},
   "outputs": [
    {
     "data": {
      "text/plain": [
       "0.31996853138885784"
      ]
     },
     "execution_count": 73,
     "metadata": {},
     "output_type": "execute_result"
    }
   ],
   "source": [
    "ridge = Ridge(alpha=0.1, normalize = True)\n",
    "ridge.fit(X_train,y_train)\n",
    "ridge_pred=ridge.predict(X_test)\n",
    "ridge.score(X_test,y_test)\n",
    "#The score is pretty much similar to the linear model built which ensures that the model has passed the Ridge regression test\n",
    "# for regularization\n",
    "#Ridge is used to penalize the loss function by adding the OLS loss function to the square of each coefficient multiplied by alpha."
   ]
  },
  {
   "cell_type": "markdown",
   "metadata": {},
   "source": [
    "## 9.b DecisionTree Regressor\n",
    "\n",
    "A decision tree is a decision support tool that uses a tree-like graph or model of decisions and their possible consequences, including chance event outcomes, resource costs, and utility. It is one way to display an algorithm that only contains conditional control statements.\n",
    "\n"
   ]
  },
  {
   "cell_type": "code",
   "execution_count": 74,
   "metadata": {},
   "outputs": [],
   "source": [
    "dtr=DecisionTreeRegressor(max_depth=10,min_samples_leaf=5,max_leaf_nodes=5)"
   ]
  },
  {
   "cell_type": "code",
   "execution_count": 75,
   "metadata": {},
   "outputs": [
    {
     "name": "stdout",
     "output_type": "stream",
     "text": [
      "R2 score =  0.34151505635144486 / 1.0\n",
      "MSE score =  0.0006105670432820245 / 0.0\n"
     ]
    }
   ],
   "source": [
    "dtr.fit(X_train,y_train)\n",
    "y_pred=dtr.predict(X_test)\n",
    "\n",
    "print('R2 score = ',r2_score(y_test, y_pred), '/ 1.0')\n",
    "print('MSE score = ',mean_squared_error(y_test, y_pred), '/ 0.0')\n",
    "\n",
    "##using a decision tree greatly improves the accurancy of model prediction."
   ]
  },
  {
   "cell_type": "markdown",
   "metadata": {},
   "source": [
    "## 9.c. ExtraTreesRegressor"
   ]
  },
  {
   "cell_type": "markdown",
   "metadata": {
    "collapsed": true
   },
   "source": [
    "Extra-trees differ from classic decision trees in the way they are built. When looking for the best split to separate the samples of a node into two groups, random splits are drawn for each of the max_features randomly selected features and the best split among those is chosen."
   ]
  },
  {
   "cell_type": "code",
   "execution_count": 76,
   "metadata": {},
   "outputs": [
    {
     "name": "stdout",
     "output_type": "stream",
     "text": [
      "Fitting 3 folds for each of 54 candidates, totalling 162 fits\n"
     ]
    },
    {
     "name": "stderr",
     "output_type": "stream",
     "text": [
      "[Parallel(n_jobs=-1)]: Using backend LokyBackend with 6 concurrent workers.\n",
      "[Parallel(n_jobs=-1)]: Done  38 tasks      | elapsed:   35.5s\n",
      "[Parallel(n_jobs=-1)]: Done 162 out of 162 | elapsed:  3.1min finished\n"
     ]
    },
    {
     "data": {
      "text/plain": [
       "ExtraTreesRegressor(bootstrap=False, ccp_alpha=0.0, criterion='mse',\n",
       "                    max_depth=15, max_features='auto', max_leaf_nodes=None,\n",
       "                    max_samples=None, min_impurity_decrease=0.0,\n",
       "                    min_impurity_split=None, min_samples_leaf=1,\n",
       "                    min_samples_split=5, min_weight_fraction_leaf=0.0,\n",
       "                    n_estimators=100, n_jobs=None, oob_score=False,\n",
       "                    random_state=None, verbose=0, warm_start=False)"
      ]
     },
     "execution_count": 76,
     "metadata": {},
     "output_type": "execute_result"
    }
   ],
   "source": [
    "etr = ExtraTreesRegressor()\n",
    "\n",
    "# Choose some parameter combinations to try\n",
    "\n",
    "parameters = {'n_estimators': [5,10,100],\n",
    "              'criterion': ['mse'],\n",
    "              'max_depth': [5,10,15], \n",
    "              'min_samples_split': [2,5,10],\n",
    "              'min_samples_leaf': [1,5]\n",
    "             }\n",
    "#We have to use RandomForestRegressor's own scorer (which is R^2 score)\n",
    "\n",
    "#Determines the cross-validation splitting strategy /to specify the number of folds in a (Stratified)KFold\n",
    "\n",
    "grid_obj = GridSearchCV(etr, parameters,\n",
    "                        cv=3, \n",
    "                        n_jobs=-1, #Number of jobs to run in parallel\n",
    "                        verbose=1)\n",
    "grid_obj = grid_obj.fit(X_train, y_train)\n",
    "\n",
    "# Set the clf to the best combination of parameters\n",
    "etr = grid_obj.best_estimator_\n",
    "\n",
    "# Fit the best algorithm to the data. \n",
    "etr.fit(X_train, y_train)"
   ]
  },
  {
   "cell_type": "code",
   "execution_count": 77,
   "metadata": {},
   "outputs": [
    {
     "name": "stdout",
     "output_type": "stream",
     "text": [
      "R2 score =  0.7562605772159008 / 1.0\n",
      "MSE score =  0.00022600252311916525 / 0.0\n"
     ]
    }
   ],
   "source": [
    "y_pred = etr.predict(X_test)\n",
    "\n",
    "print('R2 score = ',r2_score(y_test, y_pred), '/ 1.0')\n",
    "print('MSE score = ',mean_squared_error(y_test, y_pred), '/ 0.0')"
   ]
  },
  {
   "cell_type": "markdown",
   "metadata": {},
   "source": [
    "## 9.d Random Forest Regressor\n",
    "\n",
    "Random forests or random decision forests are an ensemble learning method for classification, regression and other tasks, that operate by constructing a multitude of decision trees at training time and outputting the class that is the mode of the classes (classification) or mean prediction (regression) of the individual trees.Random decision forests correct for decision trees' habit of overfitting to their training set."
   ]
  },
  {
   "cell_type": "code",
   "execution_count": 78,
   "metadata": {},
   "outputs": [
    {
     "name": "stdout",
     "output_type": "stream",
     "text": [
      "Fitting 5 folds for each of 6 candidates, totalling 30 fits\n"
     ]
    },
    {
     "name": "stderr",
     "output_type": "stream",
     "text": [
      "[Parallel(n_jobs=-1)]: Using backend LokyBackend with 6 concurrent workers.\n",
      "[Parallel(n_jobs=-1)]: Done  30 out of  30 | elapsed:  1.3min finished\n"
     ]
    },
    {
     "data": {
      "text/plain": [
       "RandomForestRegressor(bootstrap=True, ccp_alpha=0.0, criterion='mse',\n",
       "                      max_depth=None, max_features='auto', max_leaf_nodes=None,\n",
       "                      max_samples=None, min_impurity_decrease=0.0,\n",
       "                      min_impurity_split=None, min_samples_leaf=1,\n",
       "                      min_samples_split=2, min_weight_fraction_leaf=0.0,\n",
       "                      n_estimators=100, n_jobs=None, oob_score=False,\n",
       "                      random_state=None, verbose=0, warm_start=False)"
      ]
     },
     "execution_count": 78,
     "metadata": {},
     "output_type": "execute_result"
    }
   ],
   "source": [
    "# Choose the type of classifier. \n",
    "RFR = RandomForestRegressor()\n",
    "\n",
    "# Choose some parameter combinations to try\n",
    "parameters = {'n_estimators': [5, 10, 100],\n",
    "              'min_samples_leaf': [1,5]\n",
    "             }\n",
    "\n",
    "\n",
    "#We have to use RandomForestRegressor's own scorer (which is R^2 score)\n",
    "\n",
    "#Determines the cross-validation splitting strategy /to specify the number of folds in a (Stratified)KFold\n",
    "grid_obj = GridSearchCV(RFR, parameters,\n",
    "                        cv=5, \n",
    "                        n_jobs=-1, #Number of jobs to run in parallel\n",
    "                        verbose=1)\n",
    "grid_obj = grid_obj.fit(X_train, y_train)\n",
    "\n",
    "# Set the clf to the best combination of parameters\n",
    "RFR = grid_obj.best_estimator_\n",
    "\n",
    "# Fit the best algorithm to the data. \n",
    "RFR.fit(X_train, y_train)"
   ]
  },
  {
   "cell_type": "code",
   "execution_count": 79,
   "metadata": {},
   "outputs": [
    {
     "name": "stdout",
     "output_type": "stream",
     "text": [
      "R2 score =  0.8319284962693574 / 1.0\n",
      "MSE score =  0.00015584095290651276 / 0.0\n"
     ]
    }
   ],
   "source": [
    "y_pred = RFR.predict(X_test)\n",
    "\n",
    "print('R2 score = ',r2_score(y_test, y_pred), '/ 1.0')\n",
    "print('MSE score = ',mean_squared_error(y_test, y_pred), '/ 0.0')"
   ]
  },
  {
   "cell_type": "code",
   "execution_count": 80,
   "metadata": {},
   "outputs": [
    {
     "name": "stdout",
     "output_type": "stream",
     "text": [
      "Fitting 5 folds for each of 54 candidates, totalling 270 fits\n"
     ]
    },
    {
     "name": "stderr",
     "output_type": "stream",
     "text": [
      "[Parallel(n_jobs=-1)]: Using backend LokyBackend with 6 concurrent workers.\n",
      "[Parallel(n_jobs=-1)]: Done  38 tasks      | elapsed:   17.3s\n",
      "[Parallel(n_jobs=-1)]: Done 188 tasks      | elapsed:  2.5min\n",
      "[Parallel(n_jobs=-1)]: Done 270 out of 270 | elapsed:  4.9min finished\n"
     ]
    },
    {
     "data": {
      "text/plain": [
       "RandomForestRegressor(bootstrap=True, ccp_alpha=0.0, criterion='mse',\n",
       "                      max_depth=15, max_features='auto', max_leaf_nodes=None,\n",
       "                      max_samples=None, min_impurity_decrease=0.0,\n",
       "                      min_impurity_split=None, min_samples_leaf=1,\n",
       "                      min_samples_split=5, min_weight_fraction_leaf=0.0,\n",
       "                      n_estimators=100, n_jobs=None, oob_score=False,\n",
       "                      random_state=None, verbose=0, warm_start=False)"
      ]
     },
     "execution_count": 80,
     "metadata": {},
     "output_type": "execute_result"
    }
   ],
   "source": [
    "RFR = RandomForestRegressor()\n",
    "\n",
    "# Choose some parameter combinations to try\n",
    "parameters = {'n_estimators': [5,10,100],\n",
    "              'criterion': ['mse'],\n",
    "              'max_depth': [5,10,15], \n",
    "              'min_samples_split': [2,5,10],\n",
    "              'min_samples_leaf': [1,5]\n",
    "             }\n",
    "\n",
    "\n",
    "#We have to use RandomForestRegressor's own scorer (which is R^2 score)\n",
    "\n",
    "#Determines the cross-validation splitting strategy /to specify the number of folds in a (Stratified)KFold\n",
    "grid_obj = GridSearchCV(RFR, parameters,\n",
    "                        cv=5, \n",
    "                        n_jobs=-1, #Number of jobs to run in parallel\n",
    "                        verbose=1)\n",
    "grid_obj = grid_obj.fit(X_train, y_train)\n",
    "\n",
    "# Set the clf to the best combination of parameters\n",
    "RFR = grid_obj.best_estimator_\n",
    "\n",
    "# Fit the best algorithm to the data. \n",
    "RFR.fit(X_train, y_train)"
   ]
  },
  {
   "cell_type": "code",
   "execution_count": 81,
   "metadata": {},
   "outputs": [
    {
     "name": "stdout",
     "output_type": "stream",
     "text": [
      "R2 score =  0.8322038086381618 / 1.0\n",
      "MSE score =  0.0001555856749983066 / 0.0\n"
     ]
    }
   ],
   "source": [
    "y_pred = RFR.predict(X_test)\n",
    "\n",
    "print('R2 score = ',r2_score(y_test, y_pred), '/ 1.0')\n",
    "print('MSE score = ',mean_squared_error(y_test, y_pred), '/ 0.0')"
   ]
  },
  {
   "cell_type": "markdown",
   "metadata": {},
   "source": [
    "## 9.e. Gradient Boosting Regressor\n",
    "\n",
    "The idea of boosting came out of the idea of whether a weak learner can be modified to become better.\n",
    "A weak hypothesis or weak learner is defined as one whose performance is at least slightly better than random chance.\n",
    "Hypothesis boosting was the idea of filtering observations, leaving those observations that the weak learner can handle and focusing on developing new weak learns to handle the remaining difficult observations.\n",
    "\n",
    "## How Gradient Boosting Works\n",
    "\n",
    "Gradient boosting involves three elements:\n",
    "\n",
    "-- A loss function to be optimized.\n",
    "\n",
    "-- A weak learner to make predictions.\n",
    "\n",
    "-- An additive model to add weak learners to minimize the loss function."
   ]
  },
  {
   "cell_type": "code",
   "execution_count": 82,
   "metadata": {},
   "outputs": [
    {
     "name": "stdout",
     "output_type": "stream",
     "text": [
      "Fitting 5 folds for each of 16 candidates, totalling 80 fits\n"
     ]
    },
    {
     "name": "stderr",
     "output_type": "stream",
     "text": [
      "[Parallel(n_jobs=-1)]: Using backend LokyBackend with 6 concurrent workers.\n",
      "[Parallel(n_jobs=-1)]: Done  38 tasks      | elapsed:    6.6s\n",
      "[Parallel(n_jobs=-1)]: Done  80 out of  80 | elapsed:   21.8s finished\n"
     ]
    },
    {
     "data": {
      "text/plain": [
       "GradientBoostingRegressor(alpha=0.9, ccp_alpha=0.0, criterion='mse', init=None,\n",
       "                          learning_rate=0.1, loss='huber', max_depth=10,\n",
       "                          max_features=None, max_leaf_nodes=None,\n",
       "                          min_impurity_decrease=0.0, min_impurity_split=None,\n",
       "                          min_samples_leaf=1, min_samples_split=2,\n",
       "                          min_weight_fraction_leaf=0.0, n_estimators=10,\n",
       "                          n_iter_no_change=None, presort='deprecated',\n",
       "                          random_state=None, subsample=1.0, tol=0.0001,\n",
       "                          validation_fraction=0.1, verbose=0, warm_start=False)"
      ]
     },
     "execution_count": 82,
     "metadata": {},
     "output_type": "execute_result"
    }
   ],
   "source": [
    "#gbr = GradientBoostingRegressor(loss='huber',learning_rate=0.3,n_estimators=100,max_depth=5,min_samples_split=3)\n",
    "gbr=GradientBoostingRegressor()\n",
    "\n",
    "parameters = {'n_estimators': [5,10],\n",
    "              'loss':['huber'],\n",
    "              'criterion': ['mse'],\n",
    "              'max_depth': [5,10], \n",
    "              'min_samples_split': [2,5],\n",
    "              'min_samples_leaf': [1,5]\n",
    "             }\n",
    "\n",
    "#Determines the cross-validation splitting strategy /to specify the number of folds in a (Stratified)KFold\n",
    "grid_obj = GridSearchCV(gbr, parameters,\n",
    "                        cv=5, \n",
    "                        n_jobs=-1, #Number of jobs to run in parallel\n",
    "                        verbose=1)\n",
    "grid_obj = grid_obj.fit(X_train, y_train)\n",
    "\n",
    "# Set the clf to the best combination of parameters\n",
    "gbr = grid_obj.best_estimator_\n",
    "\n",
    "# Fit the best algorithm to the data. \n",
    "gbr.fit(X_train, y_train)"
   ]
  },
  {
   "cell_type": "code",
   "execution_count": 83,
   "metadata": {},
   "outputs": [
    {
     "name": "stdout",
     "output_type": "stream",
     "text": [
      "R2 score using Gradient Boosting=  0.4377292183809933 / 1.0\n",
      "MSE score using Gradient Boosting=  0.0005213543786662753 / 0.0\n"
     ]
    }
   ],
   "source": [
    "y_pred = gbr.predict(X_test)\n",
    "\n",
    "print('R2 score using Gradient Boosting= ',r2_score(y_test, y_pred), '/ 1.0')\n",
    "print('MSE score using Gradient Boosting= ',mean_squared_error(y_test, y_pred), '/ 0.0')"
   ]
  },
  {
   "cell_type": "code",
   "execution_count": 84,
   "metadata": {},
   "outputs": [
    {
     "name": "stdout",
     "output_type": "stream",
     "text": [
      "Fitting 5 folds for each of 48 candidates, totalling 240 fits\n"
     ]
    },
    {
     "name": "stderr",
     "output_type": "stream",
     "text": [
      "[Parallel(n_jobs=-1)]: Using backend LokyBackend with 6 concurrent workers.\n",
      "[Parallel(n_jobs=-1)]: Done  38 tasks      | elapsed:  1.2min\n",
      "[Parallel(n_jobs=-1)]: Done 188 tasks      | elapsed:  8.2min\n",
      "[Parallel(n_jobs=-1)]: Done 240 out of 240 | elapsed: 12.4min finished\n"
     ]
    },
    {
     "data": {
      "text/plain": [
       "GradientBoostingRegressor(alpha=0.9, ccp_alpha=0.0, criterion='mse', init=None,\n",
       "                          learning_rate=0.1, loss='huber', max_depth=15,\n",
       "                          max_features=None, max_leaf_nodes=None,\n",
       "                          min_impurity_decrease=0.0, min_impurity_split=None,\n",
       "                          min_samples_leaf=5, min_samples_split=2,\n",
       "                          min_weight_fraction_leaf=0.0, n_estimators=150,\n",
       "                          n_iter_no_change=None, presort='deprecated',\n",
       "                          random_state=None, subsample=1.0, tol=0.0001,\n",
       "                          validation_fraction=0.1, verbose=0, warm_start=False)"
      ]
     },
     "execution_count": 84,
     "metadata": {},
     "output_type": "execute_result"
    }
   ],
   "source": [
    "gbr = GradientBoostingRegressor(loss='ls',learning_rate=0.1,n_estimators=150,max_depth=10,min_samples_split=5)\n",
    "\n",
    "\n",
    "parameters = {'n_estimators': [5,15,150],\n",
    "              'loss':['ls','huber'],\n",
    "              'criterion': ['mse'],\n",
    "              'max_depth': [10,15], \n",
    "              'min_samples_split': [2,5],\n",
    "              'min_samples_leaf': [1,5]\n",
    "             }\n",
    "\n",
    "#Determines the cross-validation splitting strategy /to specify the number of folds in a (Stratified)KFold\n",
    "grid_obj = GridSearchCV(gbr, parameters,\n",
    "                        cv=5, \n",
    "                        n_jobs=-1, #Number of jobs to run in parallel\n",
    "                        verbose=1)\n",
    "grid_obj = grid_obj.fit(X_train, y_train)\n",
    "\n",
    "# Set the clf to the best combination of parameters\n",
    "gbr = grid_obj.best_estimator_\n",
    "\n",
    "# Fit the best algorithm to the data. \n",
    "gbr.fit(X_train, y_train)"
   ]
  },
  {
   "cell_type": "code",
   "execution_count": 85,
   "metadata": {},
   "outputs": [
    {
     "name": "stdout",
     "output_type": "stream",
     "text": [
      "R2 score using Gradient Boosting=  0.8322038086381618 / 1.0\n",
      "MSE score using Gradient Boosting=  0.0001555856749983066 / 0.0\n"
     ]
    }
   ],
   "source": [
    "y_pred = RFR.predict(X_test)\n",
    "\n",
    "print('R2 score using Gradient Boosting= ',r2_score(y_test, y_pred), '/ 1.0')\n",
    "print('MSE score using Gradient Boosting= ',mean_squared_error(y_test, y_pred), '/ 0.0')"
   ]
  },
  {
   "cell_type": "markdown",
   "metadata": {},
   "source": [
    "## 9.f. XGBOOST\n",
    "\n",
    "XGBoost (eXtreme Gradient Boosting) is a direct application of Gradient Boosting for decision trees\n",
    "\n",
    "Main advantages are as follows:\n",
    "1. Easy to use\n",
    "2. Computational efficiency\n",
    "3. Model Accuracy\n",
    "4. Feasibility — easy to tune parameters and modify objectives."
   ]
  },
  {
   "cell_type": "code",
   "execution_count": 86,
   "metadata": {},
   "outputs": [],
   "source": [
    "model=XGBRegressor(max_depth=5)"
   ]
  },
  {
   "cell_type": "code",
   "execution_count": 87,
   "metadata": {},
   "outputs": [
    {
     "name": "stderr",
     "output_type": "stream",
     "text": [
      "c:\\users\\user\\appdata\\local\\programs\\python\\python37\\lib\\site-packages\\xgboost\\core.py:587: FutureWarning: Series.base is deprecated and will be removed in a future version\n",
      "  if getattr(data, 'base', None) is not None and \\\n"
     ]
    },
    {
     "name": "stdout",
     "output_type": "stream",
     "text": [
      "[17:58:03] WARNING: C:/Jenkins/workspace/xgboost-win64_release_0.90/src/objective/regression_obj.cu:152: reg:linear is now deprecated in favor of reg:squarederror.\n"
     ]
    },
    {
     "data": {
      "text/plain": [
       "XGBRegressor(base_score=0.5, booster='gbtree', colsample_bylevel=1,\n",
       "             colsample_bynode=1, colsample_bytree=1, gamma=0,\n",
       "             importance_type='gain', learning_rate=0.1, max_delta_step=0,\n",
       "             max_depth=5, min_child_weight=1, missing=None, n_estimators=100,\n",
       "             n_jobs=1, nthread=None, objective='reg:linear', random_state=0,\n",
       "             reg_alpha=0, reg_lambda=1, scale_pos_weight=1, seed=None,\n",
       "             silent=None, subsample=1, verbosity=1)"
      ]
     },
     "execution_count": 87,
     "metadata": {},
     "output_type": "execute_result"
    }
   ],
   "source": [
    "model.fit(X_train,y_train)"
   ]
  },
  {
   "cell_type": "code",
   "execution_count": 88,
   "metadata": {},
   "outputs": [],
   "source": [
    "y_pred=model.predict(X_test)"
   ]
  },
  {
   "cell_type": "code",
   "execution_count": 89,
   "metadata": {},
   "outputs": [
    {
     "name": "stdout",
     "output_type": "stream",
     "text": [
      "R2 score using XG Boost=  0.8190880578462724 / 1.0\n",
      "MSE score using XG Boost=  0.00016774699358071266 / 0.0\n"
     ]
    }
   ],
   "source": [
    "print('R2 score using XG Boost= ',r2_score(y_test, y_pred), '/ 1.0')\n",
    "print('MSE score using XG Boost= ',mean_squared_error(y_test, y_pred), '/ 0.0')"
   ]
  },
  {
   "cell_type": "markdown",
   "metadata": {},
   "source": [
    "## 10. LGBM\n",
    "\n",
    "Light GBM is a fast, distributed, high-performance gradient boosting framework based on decision tree algorithm, used for ranking, classification and many other machine learning tasks.\n",
    "\n",
    "Since it is based on decision tree algorithms, it splits the tree leaf wise with the best fit whereas other boosting algorithms split the tree depth wise or level wise rather than leaf-wise. So when growing on the same leaf in Light GBM, the leaf-wise algorithm can reduce more loss than the level-wise algorithm and hence results in much better accuracy which can rarely be achieved by any of the existing boosting algorithms. "
   ]
  },
  {
   "cell_type": "code",
   "execution_count": 90,
   "metadata": {},
   "outputs": [
    {
     "data": {
      "text/plain": [
       "LGBMRegressor(boosting_type='gbdt', class_weight=None, colsample_bytree=1.0,\n",
       "              importance_type='split', learning_rate=0.1, max_depth=5,\n",
       "              min_child_samples=20, min_child_weight=0.001, min_split_gain=0.0,\n",
       "              n_estimators=100, n_jobs=-1, num_leaves=31, objective=None,\n",
       "              random_state=None, reg_alpha=0.0, reg_lambda=0.0, silent=True,\n",
       "              subsample=1.0, subsample_for_bin=200000, subsample_freq=0)"
      ]
     },
     "execution_count": 90,
     "metadata": {},
     "output_type": "execute_result"
    }
   ],
   "source": [
    "\n",
    "from lightgbm import LGBMRegressor\n",
    "lgbm=LGBMRegressor(max_depth=5)\n",
    "lgbm.fit(X_train,y_train)\n"
   ]
  },
  {
   "cell_type": "code",
   "execution_count": 91,
   "metadata": {},
   "outputs": [],
   "source": [
    "y_pred=lgbm.predict(X_test)"
   ]
  },
  {
   "cell_type": "code",
   "execution_count": 92,
   "metadata": {},
   "outputs": [
    {
     "name": "stdout",
     "output_type": "stream",
     "text": [
      "R2 score using LGBM =  0.765161514568798 / 1.0\n",
      "MSE score using LGBM =  0.0002177493063153235 / 0.0\n"
     ]
    }
   ],
   "source": [
    "print('R2 score using LGBM = ',r2_score(y_test, y_pred), '/ 1.0')\n",
    "print('MSE score using LGBM = ',mean_squared_error(y_test, y_pred), '/ 0.0')"
   ]
  },
  {
   "cell_type": "code",
   "execution_count": 93,
   "metadata": {},
   "outputs": [
    {
     "data": {
      "text/html": [
       "<div>\n",
       "<style scoped>\n",
       "    .dataframe tbody tr th:only-of-type {\n",
       "        vertical-align: middle;\n",
       "    }\n",
       "\n",
       "    .dataframe tbody tr th {\n",
       "        vertical-align: top;\n",
       "    }\n",
       "\n",
       "    .dataframe thead th {\n",
       "        text-align: right;\n",
       "    }\n",
       "</style>\n",
       "<table border=\"1\" class=\"dataframe\">\n",
       "  <thead>\n",
       "    <tr style=\"text-align: right;\">\n",
       "      <th></th>\n",
       "      <th>store_nbr</th>\n",
       "      <th>item_nbr</th>\n",
       "      <th>unit_sales</th>\n",
       "      <th>cluster</th>\n",
       "      <th>perishable</th>\n",
       "      <th>dcoilwtico</th>\n",
       "    </tr>\n",
       "  </thead>\n",
       "  <tbody>\n",
       "    <tr>\n",
       "      <th>store_nbr</th>\n",
       "      <td>1.000000</td>\n",
       "      <td>0.008584</td>\n",
       "      <td>0.049419</td>\n",
       "      <td>0.035167</td>\n",
       "      <td>0.004841</td>\n",
       "      <td>0.000081</td>\n",
       "    </tr>\n",
       "    <tr>\n",
       "      <th>item_nbr</th>\n",
       "      <td>0.008584</td>\n",
       "      <td>1.000000</td>\n",
       "      <td>0.024456</td>\n",
       "      <td>0.001199</td>\n",
       "      <td>0.044806</td>\n",
       "      <td>0.000774</td>\n",
       "    </tr>\n",
       "    <tr>\n",
       "      <th>unit_sales</th>\n",
       "      <td>0.049419</td>\n",
       "      <td>0.024456</td>\n",
       "      <td>1.000000</td>\n",
       "      <td>0.017562</td>\n",
       "      <td>0.051758</td>\n",
       "      <td>0.003918</td>\n",
       "    </tr>\n",
       "    <tr>\n",
       "      <th>cluster</th>\n",
       "      <td>0.035167</td>\n",
       "      <td>0.001199</td>\n",
       "      <td>0.017562</td>\n",
       "      <td>1.000000</td>\n",
       "      <td>-0.004240</td>\n",
       "      <td>0.001593</td>\n",
       "    </tr>\n",
       "    <tr>\n",
       "      <th>perishable</th>\n",
       "      <td>0.004841</td>\n",
       "      <td>0.044806</td>\n",
       "      <td>0.051758</td>\n",
       "      <td>-0.004240</td>\n",
       "      <td>1.000000</td>\n",
       "      <td>-0.000611</td>\n",
       "    </tr>\n",
       "    <tr>\n",
       "      <th>dcoilwtico</th>\n",
       "      <td>0.000081</td>\n",
       "      <td>0.000774</td>\n",
       "      <td>0.003918</td>\n",
       "      <td>0.001593</td>\n",
       "      <td>-0.000611</td>\n",
       "      <td>1.000000</td>\n",
       "    </tr>\n",
       "  </tbody>\n",
       "</table>\n",
       "</div>"
      ],
      "text/plain": [
       "            store_nbr  item_nbr  unit_sales   cluster  perishable  dcoilwtico\n",
       "store_nbr    1.000000  0.008584    0.049419  0.035167    0.004841    0.000081\n",
       "item_nbr     0.008584  1.000000    0.024456  0.001199    0.044806    0.000774\n",
       "unit_sales   0.049419  0.024456    1.000000  0.017562    0.051758    0.003918\n",
       "cluster      0.035167  0.001199    0.017562  1.000000   -0.004240    0.001593\n",
       "perishable   0.004841  0.044806    0.051758 -0.004240    1.000000   -0.000611\n",
       "dcoilwtico   0.000081  0.000774    0.003918  0.001593   -0.000611    1.000000"
      ]
     },
     "execution_count": 93,
     "metadata": {},
     "output_type": "execute_result"
    }
   ],
   "source": [
    "Salesdf.corr()\n"
   ]
  },
  {
   "cell_type": "markdown",
   "metadata": {},
   "source": [
    "## 11. Creating a neural network\n",
    "\n",
    "Multi-layer Perceptron (MLP) is a supervised learning algorithm that learns a function  by training on a dataset, where  is the number of dimensions for input and  is the number of dimensions for output.\n",
    "\n",
    "The advantages of Multi-layer Perceptron are:\n",
    "\n",
    "-- Capability to learn non-linear models.\n",
    "\n",
    "-- Capability to learn models in real-time (on-line learning) using partial_fit."
   ]
  },
  {
   "cell_type": "code",
   "execution_count": 94,
   "metadata": {},
   "outputs": [
    {
     "name": "stdout",
     "output_type": "stream",
     "text": [
      "[[0.62302483 1.         0.         ... 1.         0.         0.        ]\n",
      " [0.86004515 0.         1.         ... 0.         0.         1.        ]\n",
      " [0.13995485 1.         0.         ... 0.         1.         0.        ]\n",
      " ...\n",
      " [0.86004515 1.         0.         ... 0.         0.         1.        ]\n",
      " [0.74266366 1.         0.         ... 0.         1.         0.        ]\n",
      " [0.85553047 1.         0.         ... 0.         0.         0.        ]]\n",
      "[[0.02301255]\n",
      " [0.01046025]\n",
      " [0.00679916]\n",
      " [0.01202929]\n",
      " [0.0083682 ]\n",
      " [0.00889121]\n",
      " [0.02196653]\n",
      " [0.01464435]\n",
      " [0.00627615]\n",
      " [0.00941423]]\n"
     ]
    }
   ],
   "source": [
    "# Convert data as np.array\n",
    "features = np.array(X_train)\n",
    "#targets = np.array(y_train.reshape(y_train.shape[0],1))\n",
    "targets = np.array(y_train.values.reshape(y_train.shape[0],1))\n",
    "features_validation= np.array(X_test)\n",
    "#targets_validation = np.array(y_test.reshape(y_test.shape[0],1))\n",
    "targets_validation = np.array(y_test.values.reshape(y_test.shape[0],1))\n",
    "\n",
    "print(features[:10])\n",
    "print(targets[:10])"
   ]
  },
  {
   "cell_type": "code",
   "execution_count": 95,
   "metadata": {},
   "outputs": [
    {
     "name": "stdout",
     "output_type": "stream",
     "text": [
      "Model: \"sequential_1\"\n",
      "_________________________________________________________________\n",
      "Layer (type)                 Output Shape              Param #   \n",
      "=================================================================\n",
      "dense_1 (Dense)              (None, 32)                4736      \n",
      "_________________________________________________________________\n",
      "dropout_1 (Dropout)          (None, 32)                0         \n",
      "_________________________________________________________________\n",
      "dense_2 (Dense)              (None, 16)                528       \n",
      "_________________________________________________________________\n",
      "dropout_2 (Dropout)          (None, 16)                0         \n",
      "_________________________________________________________________\n",
      "dense_3 (Dense)              (None, 1)                 17        \n",
      "=================================================================\n",
      "Total params: 5,281\n",
      "Trainable params: 5,281\n",
      "Non-trainable params: 0\n",
      "_________________________________________________________________\n"
     ]
    }
   ],
   "source": [
    "# Building the model\n",
    "model = Sequential()\n",
    "model.add(Dense(32, activation='relu', input_shape=(X_train.shape[1],)))\n",
    "model.add(Dropout(.2))\n",
    "model.add(Dense(16, activation='relu'))\n",
    "model.add(Dropout(.1))\n",
    "model.add(Dense(1))\n",
    "\n",
    "# Compiling the model\n",
    "model.compile(loss = 'mse', optimizer='adam', metrics=['mse']) #mse: mean_square_error\n",
    "model.summary()"
   ]
  },
  {
   "cell_type": "code",
   "execution_count": 101,
   "metadata": {},
   "outputs": [
    {
     "name": "stdout",
     "output_type": "stream",
     "text": [
      "Step :  0 / 1000\n",
      "27365/27365 [==============================] - 0s 11us/step\n",
      "Training MSE: 6.466561171691865e-05\n",
      "6842/6842 [==============================] - 0s 11us/step\n",
      "Validation MSE: 0.00013960491924080998 \n",
      "\n",
      "Step :  250 / 1000\n",
      "27365/27365 [==============================] - 0s 10us/step\n",
      "Training MSE: 7.213683420559391e-05\n",
      "6842/6842 [==============================] - 0s 10us/step\n",
      "Validation MSE: 0.0001698127161944285 \n",
      "\n",
      "Step :  500 / 1000\n",
      "27365/27365 [==============================] - 0s 11us/step\n",
      "Training MSE: 7.03627010807395e-05\n",
      "6842/6842 [==============================] - 0s 11us/step\n",
      "Validation MSE: 0.0001417695893906057 \n",
      "\n",
      "Step :  750 / 1000\n",
      "27365/27365 [==============================] - 0s 11us/step\n",
      "Training MSE: 7.236996316350996e-05\n",
      "6842/6842 [==============================] - 0s 10us/step\n",
      "Validation MSE: 0.0001428297982783988 \n",
      "\n"
     ]
    },
    {
     "data": {
      "image/png": "[encoded data removed]",
      "text/plain": [
       "<Figure size 432x288 with 1 Axes>"
      ]
     },
     "metadata": {},
     "output_type": "display_data"
    }
   ],
   "source": [
    "# Training the model\n",
    "epochs_tot = 1000\n",
    "epochs_step = 250\n",
    "epochs_ratio = int(epochs_tot / epochs_step)\n",
    "hist =np.array([])\n",
    "\n",
    "for i in range(epochs_ratio):\n",
    "    history = model.fit(features, targets, epochs=epochs_step, batch_size=100, verbose=0)\n",
    "    \n",
    "    # Evaluating the model on the training and testing set\n",
    "    print(\"Step : \" , i * epochs_step, \"/\", epochs_tot)\n",
    "    score = model.evaluate(features, targets)\n",
    "    print(\"Training MSE:\", score[1])\n",
    "    score = model.evaluate(features_validation, targets_validation)\n",
    "    print(\"Validation MSE:\", score[1], \"\\n\")\n",
    "    hist = np.concatenate((hist, np.array(history.history['mse'])), axis = 0)#mse: mean_square_error\n",
    "    \n",
    "# plot metrics\n",
    "plt.plot(hist)\n",
    "plt.show()"
   ]
  },
  {
   "cell_type": "code",
   "execution_count": 102,
   "metadata": {},
   "outputs": [
    {
     "name": "stdout",
     "output_type": "stream",
     "text": [
      "R2 score =  0.845960790583688 / 1.0\n",
      "MSE score =  0.00014282978760561454 / 0.0\n"
     ]
    }
   ],
   "source": [
    "y_pred = model.predict(features_validation, verbose=0)\n",
    "\n",
    "print('R2 score = ',r2_score(y_test, y_pred), '/ 1.0')\n",
    "print('MSE score = ',mean_squared_error(y_test, y_pred), '/ 0.0')"
   ]
  },
  {
   "cell_type": "code",
   "execution_count": 103,
   "metadata": {},
   "outputs": [
    {
     "name": "stderr",
     "output_type": "stream",
     "text": [
      "c:\\users\\user\\appdata\\local\\programs\\python\\python37\\lib\\site-packages\\ipykernel_launcher.py:2: FutureWarning: Method .as_matrix will be removed in a future version. Use .values instead.\n",
      "  \n"
     ]
    },
    {
     "data": {
      "image/png": "[encoded data removed]",
      "text/plain": [
       "<Figure size 432x288 with 1 Axes>"
      ]
     },
     "metadata": {},
     "output_type": "display_data"
    }
   ],
   "source": [
    "#Lets plot the  first 50 predictions\n",
    "plt.plot(y_test.as_matrix()[0:50], '+', color ='blue', alpha=0.7)\n",
    "plt.plot(y_pred[0:50], 'ro', color ='red', alpha=0.5)\n",
    "plt.show()"
   ]
  },
  {
   "cell_type": "markdown",
   "metadata": {},
   "source": [
    "## Light GBM"
   ]
  },
  {
   "cell_type": "code",
   "execution_count": 104,
   "metadata": {},
   "outputs": [],
   "source": [
    "df_train = pd.read_csv(\n",
    "    'train.csv', usecols=[1, 2, 3, 4, 5],\n",
    "    dtype={'onpromotion': bool},\n",
    "    converters={'unit_sales': lambda u: np.log1p(\n",
    "        float(u)) if float(u) > 0 else 0},\n",
    "    parse_dates=[\"date\"],\n",
    "    skiprows=range(1, 66458909)  # 2016-01-01\n",
    ")"
   ]
  },
  {
   "cell_type": "code",
   "execution_count": 105,
   "metadata": {},
   "outputs": [
    {
     "data": {
      "text/html": [
       "<div>\n",
       "<style scoped>\n",
       "    .dataframe tbody tr th:only-of-type {\n",
       "        vertical-align: middle;\n",
       "    }\n",
       "\n",
       "    .dataframe tbody tr th {\n",
       "        vertical-align: top;\n",
       "    }\n",
       "\n",
       "    .dataframe thead th {\n",
       "        text-align: right;\n",
       "    }\n",
       "</style>\n",
       "<table border=\"1\" class=\"dataframe\">\n",
       "  <thead>\n",
       "    <tr style=\"text-align: right;\">\n",
       "      <th></th>\n",
       "      <th>date</th>\n",
       "      <th>store_nbr</th>\n",
       "      <th>item_nbr</th>\n",
       "      <th>unit_sales</th>\n",
       "      <th>onpromotion</th>\n",
       "    </tr>\n",
       "  </thead>\n",
       "  <tbody>\n",
       "    <tr>\n",
       "      <th>0</th>\n",
       "      <td>2016-01-01</td>\n",
       "      <td>25</td>\n",
       "      <td>105574</td>\n",
       "      <td>2.564949</td>\n",
       "      <td>False</td>\n",
       "    </tr>\n",
       "    <tr>\n",
       "      <th>1</th>\n",
       "      <td>2016-01-01</td>\n",
       "      <td>25</td>\n",
       "      <td>105575</td>\n",
       "      <td>2.302585</td>\n",
       "      <td>False</td>\n",
       "    </tr>\n",
       "    <tr>\n",
       "      <th>2</th>\n",
       "      <td>2016-01-01</td>\n",
       "      <td>25</td>\n",
       "      <td>105857</td>\n",
       "      <td>1.386294</td>\n",
       "      <td>False</td>\n",
       "    </tr>\n",
       "    <tr>\n",
       "      <th>3</th>\n",
       "      <td>2016-01-01</td>\n",
       "      <td>25</td>\n",
       "      <td>108634</td>\n",
       "      <td>1.386294</td>\n",
       "      <td>False</td>\n",
       "    </tr>\n",
       "    <tr>\n",
       "      <th>4</th>\n",
       "      <td>2016-01-01</td>\n",
       "      <td>25</td>\n",
       "      <td>108701</td>\n",
       "      <td>1.098612</td>\n",
       "      <td>True</td>\n",
       "    </tr>\n",
       "  </tbody>\n",
       "</table>\n",
       "</div>"
      ],
      "text/plain": [
       "        date  store_nbr  item_nbr  unit_sales  onpromotion\n",
       "0 2016-01-01         25    105574    2.564949        False\n",
       "1 2016-01-01         25    105575    2.302585        False\n",
       "2 2016-01-01         25    105857    1.386294        False\n",
       "3 2016-01-01         25    108634    1.386294        False\n",
       "4 2016-01-01         25    108701    1.098612         True"
      ]
     },
     "execution_count": 105,
     "metadata": {},
     "output_type": "execute_result"
    }
   ],
   "source": [
    "df_train.head()"
   ]
  },
  {
   "cell_type": "code",
   "execution_count": 106,
   "metadata": {},
   "outputs": [
    {
     "data": {
      "text/plain": [
       "(59038132, 5)"
      ]
     },
     "execution_count": 106,
     "metadata": {},
     "output_type": "execute_result"
    }
   ],
   "source": [
    "df_train.shape"
   ]
  },
  {
   "cell_type": "code",
   "execution_count": 107,
   "metadata": {},
   "outputs": [
    {
     "data": {
      "text/html": [
       "<div>\n",
       "<style scoped>\n",
       "    .dataframe tbody tr th:only-of-type {\n",
       "        vertical-align: middle;\n",
       "    }\n",
       "\n",
       "    .dataframe tbody tr th {\n",
       "        vertical-align: top;\n",
       "    }\n",
       "\n",
       "    .dataframe thead th {\n",
       "        text-align: right;\n",
       "    }\n",
       "</style>\n",
       "<table border=\"1\" class=\"dataframe\">\n",
       "  <thead>\n",
       "    <tr style=\"text-align: right;\">\n",
       "      <th></th>\n",
       "      <th>date</th>\n",
       "      <th>store_nbr</th>\n",
       "      <th>item_nbr</th>\n",
       "      <th>unit_sales</th>\n",
       "      <th>onpromotion</th>\n",
       "    </tr>\n",
       "  </thead>\n",
       "  <tbody>\n",
       "    <tr>\n",
       "      <th>59038127</th>\n",
       "      <td>2017-08-15</td>\n",
       "      <td>54</td>\n",
       "      <td>2089339</td>\n",
       "      <td>1.609438</td>\n",
       "      <td>False</td>\n",
       "    </tr>\n",
       "    <tr>\n",
       "      <th>59038128</th>\n",
       "      <td>2017-08-15</td>\n",
       "      <td>54</td>\n",
       "      <td>2106464</td>\n",
       "      <td>0.693147</td>\n",
       "      <td>True</td>\n",
       "    </tr>\n",
       "    <tr>\n",
       "      <th>59038129</th>\n",
       "      <td>2017-08-15</td>\n",
       "      <td>54</td>\n",
       "      <td>2110456</td>\n",
       "      <td>5.262690</td>\n",
       "      <td>False</td>\n",
       "    </tr>\n",
       "    <tr>\n",
       "      <th>59038130</th>\n",
       "      <td>2017-08-15</td>\n",
       "      <td>54</td>\n",
       "      <td>2113914</td>\n",
       "      <td>5.293305</td>\n",
       "      <td>True</td>\n",
       "    </tr>\n",
       "    <tr>\n",
       "      <th>59038131</th>\n",
       "      <td>2017-08-15</td>\n",
       "      <td>54</td>\n",
       "      <td>2116416</td>\n",
       "      <td>1.098612</td>\n",
       "      <td>False</td>\n",
       "    </tr>\n",
       "  </tbody>\n",
       "</table>\n",
       "</div>"
      ],
      "text/plain": [
       "               date  store_nbr  item_nbr  unit_sales  onpromotion\n",
       "59038127 2017-08-15         54   2089339    1.609438        False\n",
       "59038128 2017-08-15         54   2106464    0.693147         True\n",
       "59038129 2017-08-15         54   2110456    5.262690        False\n",
       "59038130 2017-08-15         54   2113914    5.293305         True\n",
       "59038131 2017-08-15         54   2116416    1.098612        False"
      ]
     },
     "execution_count": 107,
     "metadata": {},
     "output_type": "execute_result"
    }
   ],
   "source": [
    "df_train.tail()"
   ]
  },
  {
   "cell_type": "code",
   "execution_count": 108,
   "metadata": {},
   "outputs": [],
   "source": [
    "df_test = pd.read_csv(\n",
    "    \"test.csv\", usecols=[0, 1, 2, 3, 4],\n",
    "    dtype={'onpromotion': bool},\n",
    "    parse_dates=[\"date\"]  # , date_parser=parser\n",
    ").set_index(\n",
    "    ['store_nbr', 'item_nbr', 'date']\n",
    ")"
   ]
  },
  {
   "cell_type": "code",
   "execution_count": 109,
   "metadata": {},
   "outputs": [
    {
     "data": {
      "text/html": [
       "<div>\n",
       "<style scoped>\n",
       "    .dataframe tbody tr th:only-of-type {\n",
       "        vertical-align: middle;\n",
       "    }\n",
       "\n",
       "    .dataframe tbody tr th {\n",
       "        vertical-align: top;\n",
       "    }\n",
       "\n",
       "    .dataframe thead th {\n",
       "        text-align: right;\n",
       "    }\n",
       "</style>\n",
       "<table border=\"1\" class=\"dataframe\">\n",
       "  <thead>\n",
       "    <tr style=\"text-align: right;\">\n",
       "      <th></th>\n",
       "      <th></th>\n",
       "      <th></th>\n",
       "      <th>id</th>\n",
       "      <th>onpromotion</th>\n",
       "    </tr>\n",
       "    <tr>\n",
       "      <th>store_nbr</th>\n",
       "      <th>item_nbr</th>\n",
       "      <th>date</th>\n",
       "      <th></th>\n",
       "      <th></th>\n",
       "    </tr>\n",
       "  </thead>\n",
       "  <tbody>\n",
       "    <tr>\n",
       "      <th rowspan=\"5\" valign=\"top\">1</th>\n",
       "      <th>96995</th>\n",
       "      <th>2017-08-16</th>\n",
       "      <td>125497040</td>\n",
       "      <td>False</td>\n",
       "    </tr>\n",
       "    <tr>\n",
       "      <th>99197</th>\n",
       "      <th>2017-08-16</th>\n",
       "      <td>125497041</td>\n",
       "      <td>False</td>\n",
       "    </tr>\n",
       "    <tr>\n",
       "      <th>103501</th>\n",
       "      <th>2017-08-16</th>\n",
       "      <td>125497042</td>\n",
       "      <td>False</td>\n",
       "    </tr>\n",
       "    <tr>\n",
       "      <th>103520</th>\n",
       "      <th>2017-08-16</th>\n",
       "      <td>125497043</td>\n",
       "      <td>False</td>\n",
       "    </tr>\n",
       "    <tr>\n",
       "      <th>103665</th>\n",
       "      <th>2017-08-16</th>\n",
       "      <td>125497044</td>\n",
       "      <td>False</td>\n",
       "    </tr>\n",
       "  </tbody>\n",
       "</table>\n",
       "</div>"
      ],
      "text/plain": [
       "                                      id  onpromotion\n",
       "store_nbr item_nbr date                              \n",
       "1         96995    2017-08-16  125497040        False\n",
       "          99197    2017-08-16  125497041        False\n",
       "          103501   2017-08-16  125497042        False\n",
       "          103520   2017-08-16  125497043        False\n",
       "          103665   2017-08-16  125497044        False"
      ]
     },
     "execution_count": 109,
     "metadata": {},
     "output_type": "execute_result"
    }
   ],
   "source": [
    "#we want to predict unit sales for last 15 days of Aug 2017\n",
    "df_test.head()"
   ]
  },
  {
   "cell_type": "code",
   "execution_count": 110,
   "metadata": {},
   "outputs": [],
   "source": [
    "items = pd.read_csv(\n",
    "    \"items.csv\",\n",
    ").set_index(\"item_nbr\")"
   ]
  },
  {
   "cell_type": "code",
   "execution_count": 111,
   "metadata": {},
   "outputs": [
    {
     "data": {
      "text/plain": [
       "(4100, 3)"
      ]
     },
     "execution_count": 111,
     "metadata": {},
     "output_type": "execute_result"
    }
   ],
   "source": [
    "items.shape"
   ]
  },
  {
   "cell_type": "code",
   "execution_count": 112,
   "metadata": {},
   "outputs": [],
   "source": [
    "df_2017 = df_train[df_train.date.isin(\n",
    "    pd.date_range(\"2017-05-31\", periods=7 * 11))].copy()\n",
    "del df_train\n",
    "#dates range from May 31st to 15th Aug~ 77 days"
   ]
  },
  {
   "cell_type": "code",
   "execution_count": 113,
   "metadata": {},
   "outputs": [
    {
     "data": {
      "text/plain": [
       "(8125670, 5)"
      ]
     },
     "execution_count": 113,
     "metadata": {},
     "output_type": "execute_result"
    }
   ],
   "source": [
    "df_2017.shape"
   ]
  },
  {
   "cell_type": "code",
   "execution_count": 114,
   "metadata": {},
   "outputs": [
    {
     "data": {
      "text/html": [
       "<div>\n",
       "<style scoped>\n",
       "    .dataframe tbody tr th:only-of-type {\n",
       "        vertical-align: middle;\n",
       "    }\n",
       "\n",
       "    .dataframe tbody tr th {\n",
       "        vertical-align: top;\n",
       "    }\n",
       "\n",
       "    .dataframe thead th {\n",
       "        text-align: right;\n",
       "    }\n",
       "</style>\n",
       "<table border=\"1\" class=\"dataframe\">\n",
       "  <thead>\n",
       "    <tr style=\"text-align: right;\">\n",
       "      <th></th>\n",
       "      <th>date</th>\n",
       "      <th>store_nbr</th>\n",
       "      <th>item_nbr</th>\n",
       "      <th>unit_sales</th>\n",
       "      <th>onpromotion</th>\n",
       "    </tr>\n",
       "  </thead>\n",
       "  <tbody>\n",
       "    <tr>\n",
       "      <th>50912462</th>\n",
       "      <td>2017-05-31</td>\n",
       "      <td>1</td>\n",
       "      <td>96995</td>\n",
       "      <td>0.693147</td>\n",
       "      <td>False</td>\n",
       "    </tr>\n",
       "    <tr>\n",
       "      <th>50912463</th>\n",
       "      <td>2017-05-31</td>\n",
       "      <td>1</td>\n",
       "      <td>99197</td>\n",
       "      <td>0.693147</td>\n",
       "      <td>False</td>\n",
       "    </tr>\n",
       "    <tr>\n",
       "      <th>50912464</th>\n",
       "      <td>2017-05-31</td>\n",
       "      <td>1</td>\n",
       "      <td>103520</td>\n",
       "      <td>1.386294</td>\n",
       "      <td>False</td>\n",
       "    </tr>\n",
       "    <tr>\n",
       "      <th>50912465</th>\n",
       "      <td>2017-05-31</td>\n",
       "      <td>1</td>\n",
       "      <td>103665</td>\n",
       "      <td>2.197225</td>\n",
       "      <td>False</td>\n",
       "    </tr>\n",
       "    <tr>\n",
       "      <th>50912466</th>\n",
       "      <td>2017-05-31</td>\n",
       "      <td>1</td>\n",
       "      <td>105574</td>\n",
       "      <td>1.386294</td>\n",
       "      <td>False</td>\n",
       "    </tr>\n",
       "  </tbody>\n",
       "</table>\n",
       "</div>"
      ],
      "text/plain": [
       "               date  store_nbr  item_nbr  unit_sales  onpromotion\n",
       "50912462 2017-05-31          1     96995    0.693147        False\n",
       "50912463 2017-05-31          1     99197    0.693147        False\n",
       "50912464 2017-05-31          1    103520    1.386294        False\n",
       "50912465 2017-05-31          1    103665    2.197225        False\n",
       "50912466 2017-05-31          1    105574    1.386294        False"
      ]
     },
     "execution_count": 114,
     "metadata": {},
     "output_type": "execute_result"
    }
   ],
   "source": [
    "df_2017.head()"
   ]
  },
  {
   "cell_type": "code",
   "execution_count": 115,
   "metadata": {},
   "outputs": [
    {
     "data": {
      "text/plain": [
       "date           0\n",
       "store_nbr      0\n",
       "item_nbr       0\n",
       "unit_sales     0\n",
       "onpromotion    0\n",
       "dtype: int64"
      ]
     },
     "execution_count": 115,
     "metadata": {},
     "output_type": "execute_result"
    }
   ],
   "source": [
    "df_2017.isnull().sum()"
   ]
  },
  {
   "cell_type": "code",
   "execution_count": 116,
   "metadata": {},
   "outputs": [],
   "source": [
    "promo_2017_train = df_2017.set_index(\n",
    "    [\"store_nbr\", \"item_nbr\", \"date\"])[[\"onpromotion\"]].unstack(\n",
    "        level=-1).fillna(False)\n",
    "#pivots the table and we want last level of index which is date in our case"
   ]
  },
  {
   "cell_type": "code",
   "execution_count": 117,
   "metadata": {},
   "outputs": [
    {
     "data": {
      "text/html": [
       "<div>\n",
       "<style scoped>\n",
       "    .dataframe tbody tr th:only-of-type {\n",
       "        vertical-align: middle;\n",
       "    }\n",
       "\n",
       "    .dataframe tbody tr th {\n",
       "        vertical-align: top;\n",
       "    }\n",
       "\n",
       "    .dataframe thead tr th {\n",
       "        text-align: left;\n",
       "    }\n",
       "\n",
       "    .dataframe thead tr:last-of-type th {\n",
       "        text-align: right;\n",
       "    }\n",
       "</style>\n",
       "<table border=\"1\" class=\"dataframe\">\n",
       "  <thead>\n",
       "    <tr>\n",
       "      <th></th>\n",
       "      <th></th>\n",
       "      <th colspan=\"21\" halign=\"left\">onpromotion</th>\n",
       "    </tr>\n",
       "    <tr>\n",
       "      <th></th>\n",
       "      <th>date</th>\n",
       "      <th>2017-05-31</th>\n",
       "      <th>2017-06-01</th>\n",
       "      <th>2017-06-02</th>\n",
       "      <th>2017-06-03</th>\n",
       "      <th>2017-06-04</th>\n",
       "      <th>2017-06-05</th>\n",
       "      <th>2017-06-06</th>\n",
       "      <th>2017-06-07</th>\n",
       "      <th>2017-06-08</th>\n",
       "      <th>2017-06-09</th>\n",
       "      <th>...</th>\n",
       "      <th>2017-08-06</th>\n",
       "      <th>2017-08-07</th>\n",
       "      <th>2017-08-08</th>\n",
       "      <th>2017-08-09</th>\n",
       "      <th>2017-08-10</th>\n",
       "      <th>2017-08-11</th>\n",
       "      <th>2017-08-12</th>\n",
       "      <th>2017-08-13</th>\n",
       "      <th>2017-08-14</th>\n",
       "      <th>2017-08-15</th>\n",
       "    </tr>\n",
       "    <tr>\n",
       "      <th>store_nbr</th>\n",
       "      <th>item_nbr</th>\n",
       "      <th></th>\n",
       "      <th></th>\n",
       "      <th></th>\n",
       "      <th></th>\n",
       "      <th></th>\n",
       "      <th></th>\n",
       "      <th></th>\n",
       "      <th></th>\n",
       "      <th></th>\n",
       "      <th></th>\n",
       "      <th></th>\n",
       "      <th></th>\n",
       "      <th></th>\n",
       "      <th></th>\n",
       "      <th></th>\n",
       "      <th></th>\n",
       "      <th></th>\n",
       "      <th></th>\n",
       "      <th></th>\n",
       "      <th></th>\n",
       "      <th></th>\n",
       "    </tr>\n",
       "  </thead>\n",
       "  <tbody>\n",
       "    <tr>\n",
       "      <th rowspan=\"5\" valign=\"top\">1</th>\n",
       "      <th>96995</th>\n",
       "      <td>False</td>\n",
       "      <td>False</td>\n",
       "      <td>False</td>\n",
       "      <td>False</td>\n",
       "      <td>False</td>\n",
       "      <td>False</td>\n",
       "      <td>False</td>\n",
       "      <td>False</td>\n",
       "      <td>False</td>\n",
       "      <td>False</td>\n",
       "      <td>...</td>\n",
       "      <td>False</td>\n",
       "      <td>False</td>\n",
       "      <td>False</td>\n",
       "      <td>False</td>\n",
       "      <td>False</td>\n",
       "      <td>False</td>\n",
       "      <td>False</td>\n",
       "      <td>False</td>\n",
       "      <td>False</td>\n",
       "      <td>False</td>\n",
       "    </tr>\n",
       "    <tr>\n",
       "      <th>99197</th>\n",
       "      <td>False</td>\n",
       "      <td>False</td>\n",
       "      <td>False</td>\n",
       "      <td>False</td>\n",
       "      <td>False</td>\n",
       "      <td>False</td>\n",
       "      <td>False</td>\n",
       "      <td>False</td>\n",
       "      <td>False</td>\n",
       "      <td>False</td>\n",
       "      <td>...</td>\n",
       "      <td>False</td>\n",
       "      <td>False</td>\n",
       "      <td>False</td>\n",
       "      <td>False</td>\n",
       "      <td>False</td>\n",
       "      <td>False</td>\n",
       "      <td>False</td>\n",
       "      <td>False</td>\n",
       "      <td>False</td>\n",
       "      <td>False</td>\n",
       "    </tr>\n",
       "    <tr>\n",
       "      <th>103520</th>\n",
       "      <td>False</td>\n",
       "      <td>False</td>\n",
       "      <td>False</td>\n",
       "      <td>False</td>\n",
       "      <td>False</td>\n",
       "      <td>False</td>\n",
       "      <td>False</td>\n",
       "      <td>False</td>\n",
       "      <td>False</td>\n",
       "      <td>False</td>\n",
       "      <td>...</td>\n",
       "      <td>False</td>\n",
       "      <td>False</td>\n",
       "      <td>False</td>\n",
       "      <td>False</td>\n",
       "      <td>False</td>\n",
       "      <td>False</td>\n",
       "      <td>False</td>\n",
       "      <td>False</td>\n",
       "      <td>False</td>\n",
       "      <td>False</td>\n",
       "    </tr>\n",
       "    <tr>\n",
       "      <th>103665</th>\n",
       "      <td>False</td>\n",
       "      <td>False</td>\n",
       "      <td>False</td>\n",
       "      <td>False</td>\n",
       "      <td>False</td>\n",
       "      <td>False</td>\n",
       "      <td>False</td>\n",
       "      <td>False</td>\n",
       "      <td>False</td>\n",
       "      <td>False</td>\n",
       "      <td>...</td>\n",
       "      <td>False</td>\n",
       "      <td>False</td>\n",
       "      <td>False</td>\n",
       "      <td>False</td>\n",
       "      <td>False</td>\n",
       "      <td>False</td>\n",
       "      <td>False</td>\n",
       "      <td>False</td>\n",
       "      <td>False</td>\n",
       "      <td>False</td>\n",
       "    </tr>\n",
       "    <tr>\n",
       "      <th>105574</th>\n",
       "      <td>False</td>\n",
       "      <td>False</td>\n",
       "      <td>False</td>\n",
       "      <td>False</td>\n",
       "      <td>False</td>\n",
       "      <td>False</td>\n",
       "      <td>False</td>\n",
       "      <td>False</td>\n",
       "      <td>False</td>\n",
       "      <td>False</td>\n",
       "      <td>...</td>\n",
       "      <td>False</td>\n",
       "      <td>False</td>\n",
       "      <td>False</td>\n",
       "      <td>False</td>\n",
       "      <td>False</td>\n",
       "      <td>False</td>\n",
       "      <td>False</td>\n",
       "      <td>False</td>\n",
       "      <td>False</td>\n",
       "      <td>False</td>\n",
       "    </tr>\n",
       "  </tbody>\n",
       "</table>\n",
       "<p>5 rows × 77 columns</p>\n",
       "</div>"
      ],
      "text/plain": [
       "                   onpromotion                                              \\\n",
       "date                2017-05-31 2017-06-01 2017-06-02 2017-06-03 2017-06-04   \n",
       "store_nbr item_nbr                                                           \n",
       "1         96995          False      False      False      False      False   \n",
       "          99197          False      False      False      False      False   \n",
       "          103520         False      False      False      False      False   \n",
       "          103665         False      False      False      False      False   \n",
       "          105574         False      False      False      False      False   \n",
       "\n",
       "                                                                           \\\n",
       "date               2017-06-05 2017-06-06 2017-06-07 2017-06-08 2017-06-09   \n",
       "store_nbr item_nbr                                                          \n",
       "1         96995         False      False      False      False      False   \n",
       "          99197         False      False      False      False      False   \n",
       "          103520        False      False      False      False      False   \n",
       "          103665        False      False      False      False      False   \n",
       "          105574        False      False      False      False      False   \n",
       "\n",
       "                    ...                                              \\\n",
       "date                ... 2017-08-06 2017-08-07 2017-08-08 2017-08-09   \n",
       "store_nbr item_nbr  ...                                               \n",
       "1         96995     ...      False      False      False      False   \n",
       "          99197     ...      False      False      False      False   \n",
       "          103520    ...      False      False      False      False   \n",
       "          103665    ...      False      False      False      False   \n",
       "          105574    ...      False      False      False      False   \n",
       "\n",
       "                                                                           \\\n",
       "date               2017-08-10 2017-08-11 2017-08-12 2017-08-13 2017-08-14   \n",
       "store_nbr item_nbr                                                          \n",
       "1         96995         False      False      False      False      False   \n",
       "          99197         False      False      False      False      False   \n",
       "          103520        False      False      False      False      False   \n",
       "          103665        False      False      False      False      False   \n",
       "          105574        False      False      False      False      False   \n",
       "\n",
       "                               \n",
       "date               2017-08-15  \n",
       "store_nbr item_nbr             \n",
       "1         96995         False  \n",
       "          99197         False  \n",
       "          103520        False  \n",
       "          103665        False  \n",
       "          105574        False  \n",
       "\n",
       "[5 rows x 77 columns]"
      ]
     },
     "execution_count": 117,
     "metadata": {},
     "output_type": "execute_result"
    }
   ],
   "source": [
    "promo_2017_train.head()"
   ]
  },
  {
   "cell_type": "code",
   "execution_count": 118,
   "metadata": {},
   "outputs": [],
   "source": [
    "promo_2017_train.columns = promo_2017_train.columns.get_level_values(1)"
   ]
  },
  {
   "cell_type": "code",
   "execution_count": 119,
   "metadata": {},
   "outputs": [
    {
     "data": {
      "text/plain": [
       "DatetimeIndex(['2017-05-31', '2017-06-01', '2017-06-02', '2017-06-03',\n",
       "               '2017-06-04', '2017-06-05', '2017-06-06', '2017-06-07',\n",
       "               '2017-06-08', '2017-06-09', '2017-06-10', '2017-06-11',\n",
       "               '2017-06-12', '2017-06-13', '2017-06-14', '2017-06-15',\n",
       "               '2017-06-16', '2017-06-17', '2017-06-18', '2017-06-19',\n",
       "               '2017-06-20', '2017-06-21', '2017-06-22', '2017-06-23',\n",
       "               '2017-06-24', '2017-06-25', '2017-06-26', '2017-06-27',\n",
       "               '2017-06-28', '2017-06-29', '2017-06-30', '2017-07-01',\n",
       "               '2017-07-02', '2017-07-03', '2017-07-04', '2017-07-05',\n",
       "               '2017-07-06', '2017-07-07', '2017-07-08', '2017-07-09',\n",
       "               '2017-07-10', '2017-07-11', '2017-07-12', '2017-07-13',\n",
       "               '2017-07-14', '2017-07-15', '2017-07-16', '2017-07-17',\n",
       "               '2017-07-18', '2017-07-19', '2017-07-20', '2017-07-21',\n",
       "               '2017-07-22', '2017-07-23', '2017-07-24', '2017-07-25',\n",
       "               '2017-07-26', '2017-07-27', '2017-07-28', '2017-07-29',\n",
       "               '2017-07-30', '2017-07-31', '2017-08-01', '2017-08-02',\n",
       "               '2017-08-03', '2017-08-04', '2017-08-05', '2017-08-06',\n",
       "               '2017-08-07', '2017-08-08', '2017-08-09', '2017-08-10',\n",
       "               '2017-08-11', '2017-08-12', '2017-08-13', '2017-08-14',\n",
       "               '2017-08-15'],\n",
       "              dtype='datetime64[ns]', name='date', freq=None)"
      ]
     },
     "execution_count": 119,
     "metadata": {},
     "output_type": "execute_result"
    }
   ],
   "source": [
    "promo_2017_train.columns"
   ]
  },
  {
   "cell_type": "code",
   "execution_count": 120,
   "metadata": {},
   "outputs": [],
   "source": [
    "#Repeat same steps for test dataset\n",
    "promo_2017_test = df_test[[\"onpromotion\"]].unstack(level=-1).fillna(False)\n",
    "promo_2017_test.columns = promo_2017_test.columns.get_level_values(1)"
   ]
  },
  {
   "cell_type": "code",
   "execution_count": 121,
   "metadata": {},
   "outputs": [
    {
     "data": {
      "text/plain": [
       "(210654, 16)"
      ]
     },
     "execution_count": 121,
     "metadata": {},
     "output_type": "execute_result"
    }
   ],
   "source": [
    "promo_2017_test.head()\n",
    "promo_2017_test.shape"
   ]
  },
  {
   "cell_type": "code",
   "execution_count": 122,
   "metadata": {},
   "outputs": [],
   "source": [
    "promo_2017_test = promo_2017_test.reindex(promo_2017_train.index).fillna(False)\n",
    "#Reseting the index same as promo_2017_train\n",
    "promo_2017 = pd.concat([promo_2017_train, promo_2017_test], axis=1)"
   ]
  },
  {
   "cell_type": "code",
   "execution_count": 123,
   "metadata": {},
   "outputs": [],
   "source": [
    "del promo_2017_test,promo_2017_train"
   ]
  },
  {
   "cell_type": "code",
   "execution_count": 124,
   "metadata": {},
   "outputs": [],
   "source": [
    "df_2017 = df_2017.set_index(\n",
    "    [\"store_nbr\", \"item_nbr\", \"date\"])[[\"unit_sales\"]].unstack(\n",
    "        level=-1).fillna(0)\n",
    "df_2017.columns = df_2017.columns.get_level_values(1)"
   ]
  },
  {
   "cell_type": "code",
   "execution_count": 125,
   "metadata": {},
   "outputs": [
    {
     "data": {
      "text/html": [
       "<div>\n",
       "<style scoped>\n",
       "    .dataframe tbody tr th:only-of-type {\n",
       "        vertical-align: middle;\n",
       "    }\n",
       "\n",
       "    .dataframe tbody tr th {\n",
       "        vertical-align: top;\n",
       "    }\n",
       "\n",
       "    .dataframe thead th {\n",
       "        text-align: right;\n",
       "    }\n",
       "</style>\n",
       "<table border=\"1\" class=\"dataframe\">\n",
       "  <thead>\n",
       "    <tr style=\"text-align: right;\">\n",
       "      <th></th>\n",
       "      <th>date</th>\n",
       "      <th>2017-05-31</th>\n",
       "      <th>2017-06-01</th>\n",
       "      <th>2017-06-02</th>\n",
       "      <th>2017-06-03</th>\n",
       "      <th>2017-06-04</th>\n",
       "      <th>2017-06-05</th>\n",
       "      <th>2017-06-06</th>\n",
       "      <th>2017-06-07</th>\n",
       "      <th>2017-06-08</th>\n",
       "      <th>2017-06-09</th>\n",
       "      <th>...</th>\n",
       "      <th>2017-08-22</th>\n",
       "      <th>2017-08-23</th>\n",
       "      <th>2017-08-24</th>\n",
       "      <th>2017-08-25</th>\n",
       "      <th>2017-08-26</th>\n",
       "      <th>2017-08-27</th>\n",
       "      <th>2017-08-28</th>\n",
       "      <th>2017-08-29</th>\n",
       "      <th>2017-08-30</th>\n",
       "      <th>2017-08-31</th>\n",
       "    </tr>\n",
       "    <tr>\n",
       "      <th>store_nbr</th>\n",
       "      <th>item_nbr</th>\n",
       "      <th></th>\n",
       "      <th></th>\n",
       "      <th></th>\n",
       "      <th></th>\n",
       "      <th></th>\n",
       "      <th></th>\n",
       "      <th></th>\n",
       "      <th></th>\n",
       "      <th></th>\n",
       "      <th></th>\n",
       "      <th></th>\n",
       "      <th></th>\n",
       "      <th></th>\n",
       "      <th></th>\n",
       "      <th></th>\n",
       "      <th></th>\n",
       "      <th></th>\n",
       "      <th></th>\n",
       "      <th></th>\n",
       "      <th></th>\n",
       "      <th></th>\n",
       "    </tr>\n",
       "  </thead>\n",
       "  <tbody>\n",
       "    <tr>\n",
       "      <th rowspan=\"5\" valign=\"top\">1</th>\n",
       "      <th>96995</th>\n",
       "      <td>False</td>\n",
       "      <td>False</td>\n",
       "      <td>False</td>\n",
       "      <td>False</td>\n",
       "      <td>False</td>\n",
       "      <td>False</td>\n",
       "      <td>False</td>\n",
       "      <td>False</td>\n",
       "      <td>False</td>\n",
       "      <td>False</td>\n",
       "      <td>...</td>\n",
       "      <td>False</td>\n",
       "      <td>False</td>\n",
       "      <td>False</td>\n",
       "      <td>False</td>\n",
       "      <td>False</td>\n",
       "      <td>False</td>\n",
       "      <td>False</td>\n",
       "      <td>False</td>\n",
       "      <td>False</td>\n",
       "      <td>False</td>\n",
       "    </tr>\n",
       "    <tr>\n",
       "      <th>99197</th>\n",
       "      <td>False</td>\n",
       "      <td>False</td>\n",
       "      <td>False</td>\n",
       "      <td>False</td>\n",
       "      <td>False</td>\n",
       "      <td>False</td>\n",
       "      <td>False</td>\n",
       "      <td>False</td>\n",
       "      <td>False</td>\n",
       "      <td>False</td>\n",
       "      <td>...</td>\n",
       "      <td>False</td>\n",
       "      <td>False</td>\n",
       "      <td>False</td>\n",
       "      <td>False</td>\n",
       "      <td>False</td>\n",
       "      <td>False</td>\n",
       "      <td>False</td>\n",
       "      <td>False</td>\n",
       "      <td>False</td>\n",
       "      <td>False</td>\n",
       "    </tr>\n",
       "    <tr>\n",
       "      <th>103520</th>\n",
       "      <td>False</td>\n",
       "      <td>False</td>\n",
       "      <td>False</td>\n",
       "      <td>False</td>\n",
       "      <td>False</td>\n",
       "      <td>False</td>\n",
       "      <td>False</td>\n",
       "      <td>False</td>\n",
       "      <td>False</td>\n",
       "      <td>False</td>\n",
       "      <td>...</td>\n",
       "      <td>False</td>\n",
       "      <td>False</td>\n",
       "      <td>False</td>\n",
       "      <td>False</td>\n",
       "      <td>False</td>\n",
       "      <td>False</td>\n",
       "      <td>False</td>\n",
       "      <td>False</td>\n",
       "      <td>False</td>\n",
       "      <td>False</td>\n",
       "    </tr>\n",
       "    <tr>\n",
       "      <th>103665</th>\n",
       "      <td>False</td>\n",
       "      <td>False</td>\n",
       "      <td>False</td>\n",
       "      <td>False</td>\n",
       "      <td>False</td>\n",
       "      <td>False</td>\n",
       "      <td>False</td>\n",
       "      <td>False</td>\n",
       "      <td>False</td>\n",
       "      <td>False</td>\n",
       "      <td>...</td>\n",
       "      <td>False</td>\n",
       "      <td>False</td>\n",
       "      <td>False</td>\n",
       "      <td>False</td>\n",
       "      <td>False</td>\n",
       "      <td>False</td>\n",
       "      <td>False</td>\n",
       "      <td>False</td>\n",
       "      <td>False</td>\n",
       "      <td>False</td>\n",
       "    </tr>\n",
       "    <tr>\n",
       "      <th>105574</th>\n",
       "      <td>False</td>\n",
       "      <td>False</td>\n",
       "      <td>False</td>\n",
       "      <td>False</td>\n",
       "      <td>False</td>\n",
       "      <td>False</td>\n",
       "      <td>False</td>\n",
       "      <td>False</td>\n",
       "      <td>False</td>\n",
       "      <td>False</td>\n",
       "      <td>...</td>\n",
       "      <td>False</td>\n",
       "      <td>False</td>\n",
       "      <td>False</td>\n",
       "      <td>False</td>\n",
       "      <td>False</td>\n",
       "      <td>False</td>\n",
       "      <td>False</td>\n",
       "      <td>False</td>\n",
       "      <td>False</td>\n",
       "      <td>False</td>\n",
       "    </tr>\n",
       "  </tbody>\n",
       "</table>\n",
       "<p>5 rows × 93 columns</p>\n",
       "</div>"
      ],
      "text/plain": [
       "date                2017-05-31  2017-06-01  2017-06-02  2017-06-03  \\\n",
       "store_nbr item_nbr                                                   \n",
       "1         96995          False       False       False       False   \n",
       "          99197          False       False       False       False   \n",
       "          103520         False       False       False       False   \n",
       "          103665         False       False       False       False   \n",
       "          105574         False       False       False       False   \n",
       "\n",
       "date                2017-06-04  2017-06-05  2017-06-06  2017-06-07  \\\n",
       "store_nbr item_nbr                                                   \n",
       "1         96995          False       False       False       False   \n",
       "          99197          False       False       False       False   \n",
       "          103520         False       False       False       False   \n",
       "          103665         False       False       False       False   \n",
       "          105574         False       False       False       False   \n",
       "\n",
       "date                2017-06-08  2017-06-09  ...  2017-08-22  2017-08-23  \\\n",
       "store_nbr item_nbr                          ...                           \n",
       "1         96995          False       False  ...       False       False   \n",
       "          99197          False       False  ...       False       False   \n",
       "          103520         False       False  ...       False       False   \n",
       "          103665         False       False  ...       False       False   \n",
       "          105574         False       False  ...       False       False   \n",
       "\n",
       "date                2017-08-24  2017-08-25  2017-08-26  2017-08-27  \\\n",
       "store_nbr item_nbr                                                   \n",
       "1         96995          False       False       False       False   \n",
       "          99197          False       False       False       False   \n",
       "          103520         False       False       False       False   \n",
       "          103665         False       False       False       False   \n",
       "          105574         False       False       False       False   \n",
       "\n",
       "date                2017-08-28  2017-08-29  2017-08-30  2017-08-31  \n",
       "store_nbr item_nbr                                                  \n",
       "1         96995          False       False       False       False  \n",
       "          99197          False       False       False       False  \n",
       "          103520         False       False       False       False  \n",
       "          103665         False       False       False       False  \n",
       "          105574         False       False       False       False  \n",
       "\n",
       "[5 rows x 93 columns]"
      ]
     },
     "execution_count": 125,
     "metadata": {},
     "output_type": "execute_result"
    }
   ],
   "source": [
    "promo_2017.head()"
   ]
  },
  {
   "cell_type": "code",
   "execution_count": 126,
   "metadata": {},
   "outputs": [],
   "source": [
    "items = items.reindex(df_2017.index.get_level_values(1))"
   ]
  },
  {
   "cell_type": "code",
   "execution_count": 127,
   "metadata": {},
   "outputs": [
    {
     "data": {
      "text/html": [
       "<div>\n",
       "<style scoped>\n",
       "    .dataframe tbody tr th:only-of-type {\n",
       "        vertical-align: middle;\n",
       "    }\n",
       "\n",
       "    .dataframe tbody tr th {\n",
       "        vertical-align: top;\n",
       "    }\n",
       "\n",
       "    .dataframe thead th {\n",
       "        text-align: right;\n",
       "    }\n",
       "</style>\n",
       "<table border=\"1\" class=\"dataframe\">\n",
       "  <thead>\n",
       "    <tr style=\"text-align: right;\">\n",
       "      <th></th>\n",
       "      <th>family</th>\n",
       "      <th>class</th>\n",
       "      <th>perishable</th>\n",
       "    </tr>\n",
       "    <tr>\n",
       "      <th>item_nbr</th>\n",
       "      <th></th>\n",
       "      <th></th>\n",
       "      <th></th>\n",
       "    </tr>\n",
       "  </thead>\n",
       "  <tbody>\n",
       "    <tr>\n",
       "      <th>96995</th>\n",
       "      <td>GROCERY I</td>\n",
       "      <td>1093</td>\n",
       "      <td>0</td>\n",
       "    </tr>\n",
       "    <tr>\n",
       "      <th>99197</th>\n",
       "      <td>GROCERY I</td>\n",
       "      <td>1067</td>\n",
       "      <td>0</td>\n",
       "    </tr>\n",
       "    <tr>\n",
       "      <th>103520</th>\n",
       "      <td>GROCERY I</td>\n",
       "      <td>1028</td>\n",
       "      <td>0</td>\n",
       "    </tr>\n",
       "    <tr>\n",
       "      <th>103665</th>\n",
       "      <td>BREAD/BAKERY</td>\n",
       "      <td>2712</td>\n",
       "      <td>1</td>\n",
       "    </tr>\n",
       "    <tr>\n",
       "      <th>105574</th>\n",
       "      <td>GROCERY I</td>\n",
       "      <td>1045</td>\n",
       "      <td>0</td>\n",
       "    </tr>\n",
       "  </tbody>\n",
       "</table>\n",
       "</div>"
      ],
      "text/plain": [
       "                family  class  perishable\n",
       "item_nbr                                 \n",
       "96995        GROCERY I   1093           0\n",
       "99197        GROCERY I   1067           0\n",
       "103520       GROCERY I   1028           0\n",
       "103665    BREAD/BAKERY   2712           1\n",
       "105574       GROCERY I   1045           0"
      ]
     },
     "execution_count": 127,
     "metadata": {},
     "output_type": "execute_result"
    }
   ],
   "source": [
    "items.head()"
   ]
  },
  {
   "cell_type": "code",
   "execution_count": 128,
   "metadata": {},
   "outputs": [],
   "source": [
    "def get_timespan(df, dt, minus, periods):\n",
    "    return df[\n",
    "        pd.date_range(dt - timedelta(days=minus), periods=periods)\n",
    "    ]"
   ]
  },
  {
   "cell_type": "code",
   "execution_count": 129,
   "metadata": {},
   "outputs": [],
   "source": [
    "def prepare_dataset(t2017, is_train=True):\n",
    "    X = pd.DataFrame({\n",
    "        \"mean_3_2017\": get_timespan(df_2017, t2017, 3, 3).mean(axis=1).values,\n",
    "        \"mean_7_2017\": get_timespan(df_2017, t2017, 7, 7).mean(axis=1).values,\n",
    "        \"mean_14_2017\": get_timespan(df_2017, t2017, 14, 14).mean(axis=1).values,\n",
    "        \"promo_14_2017\": get_timespan(promo_2017, t2017, 14, 14).sum(axis=1).values\n",
    "    })\n",
    "    for i in range(16):\n",
    "        X[\"promo_{}\".format(i)] = promo_2017[\n",
    "            t2017 + timedelta(days=i)].values.astype(np.uint8)\n",
    "    if is_train:\n",
    "        y = df_2017[\n",
    "            pd.date_range(t2017, periods=16)\n",
    "        ].values\n",
    "        return X, y\n",
    "    return X"
   ]
  },
  {
   "cell_type": "code",
   "execution_count": 130,
   "metadata": {},
   "outputs": [
    {
     "name": "stdout",
     "output_type": "stream",
     "text": [
      "Preparing dataset...\n"
     ]
    }
   ],
   "source": [
    "print(\"Preparing dataset...\")\n",
    "t2017 = date(2017, 6, 21)\n",
    "X_l, y_l = [], []\n",
    "for i in range(4):\n",
    "    delta = timedelta(days=7 * i)\n",
    "    X_tmp, y_tmp = prepare_dataset(\n",
    "        t2017 + delta\n",
    "    )\n",
    "    X_l.append(X_tmp)\n",
    "    y_l.append(y_tmp)\n",
    "X_train = pd.concat(X_l, axis=0)\n",
    "y_train = np.concatenate(y_l, axis=0)\n",
    "del X_l, y_l\n",
    "X_val, y_val = prepare_dataset(date(2017, 7, 26))\n",
    "X_test = prepare_dataset(date(2017, 8, 16), is_train=False)"
   ]
  },
  {
   "cell_type": "code",
   "execution_count": 131,
   "metadata": {},
   "outputs": [
    {
     "name": "stdout",
     "output_type": "stream",
     "text": [
      "Training and predicting models...\n"
     ]
    }
   ],
   "source": [
    "print(\"Training and predicting models...\")\n",
    "params = {\n",
    "    'num_leaves': 2**5 - 1,\n",
    "    'objective': 'regression_l2',\n",
    "    'max_depth': 8,\n",
    "    'min_data_in_leaf': 50,\n",
    "    'learning_rate': 0.05,\n",
    "    'feature_fraction': 0.75,\n",
    "    'bagging_fraction': 0.75,\n",
    "    'bagging_freq': 1,\n",
    "    'metric': 'l2',\n",
    "    'num_threads': 4\n",
    "}\n"
   ]
  },
  {
   "cell_type": "code",
   "execution_count": 132,
   "metadata": {},
   "outputs": [],
   "source": [
    "MAX_ROUNDS = 1000\n",
    "val_pred = []\n",
    "test_pred = []\n",
    "cate_vars = []"
   ]
  },
  {
   "cell_type": "code",
   "execution_count": 133,
   "metadata": {
    "scrolled": true
   },
   "outputs": [
    {
     "name": "stdout",
     "output_type": "stream",
     "text": [
      "==================================================\n",
      "Step 1\n",
      "==================================================\n"
     ]
    },
    {
     "name": "stderr",
     "output_type": "stream",
     "text": [
      "c:\\users\\user\\appdata\\local\\programs\\python\\python37\\lib\\site-packages\\lightgbm\\basic.py:1291: UserWarning: Using categorical_feature in Dataset.\n",
      "  warnings.warn('Using categorical_feature in Dataset.')\n"
     ]
    },
    {
     "name": "stdout",
     "output_type": "stream",
     "text": [
      "Training until validation scores don't improve for 50 rounds\n",
      "[50]\ttraining's l2: 0.345309\tvalid_1's l2: 0.34144\n",
      "[100]\ttraining's l2: 0.333342\tvalid_1's l2: 0.329948\n",
      "[150]\ttraining's l2: 0.331335\tvalid_1's l2: 0.328626\n",
      "[200]\ttraining's l2: 0.33032\tvalid_1's l2: 0.328266\n",
      "[250]\ttraining's l2: 0.329484\tvalid_1's l2: 0.327836\n",
      "[300]\ttraining's l2: 0.328788\tvalid_1's l2: 0.327612\n",
      "[350]\ttraining's l2: 0.328236\tvalid_1's l2: 0.327447\n",
      "[400]\ttraining's l2: 0.327652\tvalid_1's l2: 0.327325\n",
      "[450]\ttraining's l2: 0.327154\tvalid_1's l2: 0.327256\n",
      "[500]\ttraining's l2: 0.326674\tvalid_1's l2: 0.327193\n",
      "[550]\ttraining's l2: 0.326248\tvalid_1's l2: 0.327183\n",
      "[600]\ttraining's l2: 0.325826\tvalid_1's l2: 0.327141\n",
      "[650]\ttraining's l2: 0.325417\tvalid_1's l2: 0.327065\n",
      "[700]\ttraining's l2: 0.325027\tvalid_1's l2: 0.327018\n",
      "[750]\ttraining's l2: 0.324684\tvalid_1's l2: 0.327011\n",
      "Early stopping, best iteration is:\n",
      "[736]\ttraining's l2: 0.324772\tvalid_1's l2: 0.326994\n",
      "mean_7_2017: 1838843.28\n",
      "mean_14_2017: 1795524.42\n",
      "promo_0: 138531.30\n",
      "mean_3_2017: 126693.72\n",
      "promo_14_2017: 55509.55\n",
      "promo_7: 20961.98\n",
      "promo_14: 8621.85\n",
      "promo_3: 5736.78\n",
      "promo_15: 4011.24\n",
      "promo_9: 2593.64\n",
      "promo_13: 2344.91\n",
      "promo_2: 2278.80\n",
      "promo_4: 1901.33\n",
      "promo_11: 1394.50\n",
      "promo_1: 1283.33\n",
      "promo_6: 1114.43\n",
      "promo_8: 1108.25\n",
      "promo_5: 1085.94\n",
      "promo_12: 790.26\n",
      "promo_10: 705.22\n",
      "==================================================\n",
      "Step 2\n",
      "==================================================\n",
      "Training until validation scores don't improve for 50 rounds\n",
      "[50]\ttraining's l2: 0.361779\tvalid_1's l2: 0.373472\n",
      "[100]\ttraining's l2: 0.352655\tvalid_1's l2: 0.36329\n",
      "[150]\ttraining's l2: 0.350654\tvalid_1's l2: 0.361759\n",
      "[200]\ttraining's l2: 0.349535\tvalid_1's l2: 0.360981\n",
      "[250]\ttraining's l2: 0.348612\tvalid_1's l2: 0.360573\n",
      "[300]\ttraining's l2: 0.347889\tvalid_1's l2: 0.360161\n",
      "[350]\ttraining's l2: 0.34725\tvalid_1's l2: 0.359961\n",
      "[400]\ttraining's l2: 0.346673\tvalid_1's l2: 0.359845\n",
      "[450]\ttraining's l2: 0.346122\tvalid_1's l2: 0.359852\n",
      "Early stopping, best iteration is:\n",
      "[408]\ttraining's l2: 0.346592\tvalid_1's l2: 0.359815\n",
      "mean_14_2017: 1738395.77\n",
      "mean_7_2017: 1289608.25\n",
      "promo_1: 99231.49\n",
      "mean_3_2017: 72138.09\n",
      "promo_14_2017: 44430.24\n",
      "promo_3: 12701.90\n",
      "promo_0: 7059.49\n",
      "promo_2: 6498.31\n",
      "promo_4: 5014.42\n",
      "promo_5: 4334.39\n",
      "promo_7: 2088.41\n",
      "promo_6: 1842.80\n",
      "promo_9: 1565.99\n",
      "promo_8: 1500.93\n",
      "promo_14: 1361.54\n",
      "promo_15: 815.72\n",
      "promo_11: 714.73\n",
      "promo_12: 617.89\n",
      "promo_13: 566.57\n",
      "promo_10: 425.27\n",
      "==================================================\n",
      "Step 3\n",
      "==================================================\n",
      "Training until validation scores don't improve for 50 rounds\n",
      "[50]\ttraining's l2: 0.380296\tvalid_1's l2: 0.401756\n",
      "[100]\ttraining's l2: 0.367271\tvalid_1's l2: 0.389975\n",
      "[150]\ttraining's l2: 0.364502\tvalid_1's l2: 0.389152\n",
      "[200]\ttraining's l2: 0.362992\tvalid_1's l2: 0.388529\n",
      "[250]\ttraining's l2: 0.361891\tvalid_1's l2: 0.388143\n",
      "[300]\ttraining's l2: 0.360995\tvalid_1's l2: 0.387963\n",
      "[350]\ttraining's l2: 0.360288\tvalid_1's l2: 0.387876\n",
      "[400]\ttraining's l2: 0.359639\tvalid_1's l2: 0.387841\n",
      "[450]\ttraining's l2: 0.359006\tvalid_1's l2: 0.387737\n",
      "[500]\ttraining's l2: 0.358422\tvalid_1's l2: 0.387646\n",
      "[550]\ttraining's l2: 0.357924\tvalid_1's l2: 0.387594\n",
      "Early stopping, best iteration is:\n",
      "[541]\ttraining's l2: 0.358021\tvalid_1's l2: 0.387578\n",
      "mean_14_2017: 2260973.06\n",
      "mean_7_2017: 1221042.41\n",
      "promo_2: 142295.66\n",
      "mean_3_2017: 75183.72\n",
      "promo_14_2017: 61577.16\n",
      "promo_9: 13640.14\n",
      "promo_3: 9805.28\n",
      "promo_0: 5789.04\n",
      "promo_5: 5586.53\n",
      "promo_4: 5333.84\n",
      "promo_1: 5054.66\n",
      "promo_7: 3666.43\n",
      "promo_14: 3496.89\n",
      "promo_6: 2453.13\n",
      "promo_13: 2421.44\n",
      "promo_10: 2203.78\n",
      "promo_11: 1702.48\n",
      "promo_15: 1688.54\n",
      "promo_12: 1213.14\n",
      "promo_8: 994.51\n",
      "==================================================\n",
      "Step 4\n",
      "==================================================\n",
      "Training until validation scores don't improve for 50 rounds\n",
      "[50]\ttraining's l2: 0.410492\tvalid_1's l2: 0.414102\n",
      "[100]\ttraining's l2: 0.398303\tvalid_1's l2: 0.402637\n",
      "[150]\ttraining's l2: 0.395298\tvalid_1's l2: 0.400703\n",
      "[200]\ttraining's l2: 0.393782\tvalid_1's l2: 0.39997\n",
      "[250]\ttraining's l2: 0.392597\tvalid_1's l2: 0.399371\n",
      "[300]\ttraining's l2: 0.39167\tvalid_1's l2: 0.398996\n",
      "[350]\ttraining's l2: 0.39091\tvalid_1's l2: 0.398794\n",
      "[400]\ttraining's l2: 0.390151\tvalid_1's l2: 0.398581\n",
      "[450]\ttraining's l2: 0.389525\tvalid_1's l2: 0.398458\n",
      "[500]\ttraining's l2: 0.388888\tvalid_1's l2: 0.398278\n",
      "[550]\ttraining's l2: 0.388353\tvalid_1's l2: 0.398184\n",
      "[600]\ttraining's l2: 0.387827\tvalid_1's l2: 0.398136\n",
      "[650]\ttraining's l2: 0.387357\tvalid_1's l2: 0.398002\n",
      "Early stopping, best iteration is:\n",
      "[628]\ttraining's l2: 0.38756\tvalid_1's l2: 0.397982\n",
      "mean_14_2017: 2975035.56\n",
      "mean_7_2017: 1051022.43\n",
      "mean_3_2017: 88418.68\n",
      "promo_3: 83988.98\n",
      "promo_14_2017: 47641.58\n",
      "promo_2: 11847.05\n",
      "promo_5: 9532.57\n",
      "promo_4: 8277.60\n",
      "promo_0: 7373.88\n",
      "promo_1: 7332.55\n",
      "promo_7: 6008.78\n",
      "promo_14: 3788.53\n",
      "promo_6: 3366.70\n",
      "promo_9: 3012.42\n",
      "promo_8: 2247.29\n",
      "promo_10: 2138.43\n",
      "promo_15: 1600.37\n",
      "promo_13: 1440.97\n",
      "promo_11: 1111.53\n",
      "promo_12: 959.77\n",
      "==================================================\n",
      "Step 5\n",
      "==================================================\n",
      "Training until validation scores don't improve for 50 rounds\n",
      "[50]\ttraining's l2: 0.439567\tvalid_1's l2: 0.437704\n",
      "[100]\ttraining's l2: 0.425813\tvalid_1's l2: 0.425354\n",
      "[150]\ttraining's l2: 0.4223\tvalid_1's l2: 0.422331\n",
      "[200]\ttraining's l2: 0.42044\tvalid_1's l2: 0.421231\n",
      "[250]\ttraining's l2: 0.419206\tvalid_1's l2: 0.420497\n",
      "[300]\ttraining's l2: 0.418162\tvalid_1's l2: 0.419925\n",
      "[350]\ttraining's l2: 0.417303\tvalid_1's l2: 0.419637\n",
      "[400]\ttraining's l2: 0.416506\tvalid_1's l2: 0.419405\n",
      "[450]\ttraining's l2: 0.415802\tvalid_1's l2: 0.419181\n",
      "[500]\ttraining's l2: 0.415141\tvalid_1's l2: 0.418981\n",
      "[550]\ttraining's l2: 0.414587\tvalid_1's l2: 0.418767\n",
      "[600]\ttraining's l2: 0.414024\tvalid_1's l2: 0.418642\n",
      "[650]\ttraining's l2: 0.413511\tvalid_1's l2: 0.418536\n",
      "[700]\ttraining's l2: 0.412986\tvalid_1's l2: 0.418505\n",
      "[750]\ttraining's l2: 0.412518\tvalid_1's l2: 0.418438\n",
      "Early stopping, best iteration is:\n",
      "[745]\ttraining's l2: 0.412552\tvalid_1's l2: 0.418437\n",
      "mean_14_2017: 3301930.53\n",
      "mean_7_2017: 679033.17\n",
      "mean_3_2017: 416291.65\n",
      "promo_4: 86883.98\n",
      "promo_14_2017: 45451.82\n",
      "promo_5: 11400.62\n",
      "promo_3: 11043.72\n",
      "promo_7: 8672.45\n",
      "promo_2: 7535.36\n",
      "promo_1: 6682.55\n",
      "promo_6: 6096.80\n",
      "promo_0: 5991.05\n",
      "promo_14: 4704.07\n",
      "promo_9: 4054.12\n",
      "promo_11: 3842.99\n",
      "promo_8: 2922.20\n",
      "promo_10: 2237.18\n",
      "promo_15: 2062.49\n",
      "promo_12: 2000.48\n",
      "promo_13: 1977.33\n",
      "==================================================\n",
      "Step 6\n",
      "==================================================\n",
      "Training until validation scores don't improve for 50 rounds\n",
      "[50]\ttraining's l2: 0.409426\tvalid_1's l2: 0.423761\n",
      "[100]\ttraining's l2: 0.398277\tvalid_1's l2: 0.410365\n",
      "[150]\ttraining's l2: 0.395266\tvalid_1's l2: 0.407828\n",
      "[200]\ttraining's l2: 0.393795\tvalid_1's l2: 0.406977\n",
      "[250]\ttraining's l2: 0.392682\tvalid_1's l2: 0.406343\n",
      "[300]\ttraining's l2: 0.391728\tvalid_1's l2: 0.40591\n",
      "[350]\ttraining's l2: 0.390978\tvalid_1's l2: 0.40576\n",
      "[400]\ttraining's l2: 0.390286\tvalid_1's l2: 0.405629\n",
      "[450]\ttraining's l2: 0.389657\tvalid_1's l2: 0.40549\n",
      "[500]\ttraining's l2: 0.389055\tvalid_1's l2: 0.405475\n",
      "[550]\ttraining's l2: 0.38845\tvalid_1's l2: 0.405395\n",
      "[600]\ttraining's l2: 0.387959\tvalid_1's l2: 0.405372\n",
      "[650]\ttraining's l2: 0.387424\tvalid_1's l2: 0.405394\n",
      "Early stopping, best iteration is:\n",
      "[634]\ttraining's l2: 0.387577\tvalid_1's l2: 0.405334\n",
      "mean_14_2017: 2667810.44\n",
      "mean_7_2017: 665774.16\n",
      "mean_3_2017: 254786.79\n",
      "promo_5: 92454.72\n",
      "promo_14_2017: 44609.12\n",
      "promo_3: 15620.87\n",
      "promo_6: 10605.80\n",
      "promo_7: 9706.25\n",
      "promo_2: 5341.85\n",
      "promo_0: 5053.33\n",
      "promo_1: 4754.08\n",
      "promo_4: 4702.00\n",
      "promo_9: 3456.29\n",
      "promo_8: 3441.96\n",
      "promo_14: 2917.12\n",
      "promo_12: 2346.60\n",
      "promo_11: 2093.64\n",
      "promo_13: 1884.53\n",
      "promo_10: 1633.56\n",
      "promo_15: 1172.21\n",
      "==================================================\n",
      "Step 7\n",
      "==================================================\n",
      "Training until validation scores don't improve for 50 rounds\n",
      "[50]\ttraining's l2: 0.398993\tvalid_1's l2: 0.499231\n",
      "[100]\ttraining's l2: 0.387329\tvalid_1's l2: 0.483961\n",
      "[150]\ttraining's l2: 0.384418\tvalid_1's l2: 0.483181\n",
      "[200]\ttraining's l2: 0.382891\tvalid_1's l2: 0.483022\n",
      "[250]\ttraining's l2: 0.381698\tvalid_1's l2: 0.482667\n",
      "[300]\ttraining's l2: 0.380815\tvalid_1's l2: 0.482907\n",
      "Early stopping, best iteration is:\n",
      "[263]\ttraining's l2: 0.38143\tvalid_1's l2: 0.482481\n",
      "mean_14_2017: 2390854.75\n",
      "mean_7_2017: 656628.74\n",
      "mean_3_2017: 226500.62\n",
      "promo_6: 154938.69\n",
      "promo_14_2017: 51028.25\n",
      "promo_3: 13951.67\n",
      "promo_7: 9870.05\n",
      "promo_13: 9357.89\n",
      "promo_5: 7813.08\n",
      "promo_0: 5213.41\n",
      "promo_1: 4803.58\n",
      "promo_4: 4361.77\n",
      "promo_9: 3462.80\n",
      "promo_2: 3361.05\n",
      "promo_14: 3186.22\n",
      "promo_8: 2187.95\n",
      "promo_15: 1323.62\n",
      "promo_11: 1242.64\n",
      "promo_10: 1206.04\n",
      "promo_12: 1079.03\n"
     ]
    },
    {
     "name": "stdout",
     "output_type": "stream",
     "text": [
      "==================================================\n",
      "Step 8\n",
      "==================================================\n",
      "Training until validation scores don't improve for 50 rounds\n",
      "[50]\ttraining's l2: 0.387423\tvalid_1's l2: 0.45965\n",
      "[100]\ttraining's l2: 0.375405\tvalid_1's l2: 0.44196\n",
      "[150]\ttraining's l2: 0.37285\tvalid_1's l2: 0.439204\n",
      "[200]\ttraining's l2: 0.371502\tvalid_1's l2: 0.438333\n",
      "[250]\ttraining's l2: 0.37032\tvalid_1's l2: 0.43779\n",
      "[300]\ttraining's l2: 0.369393\tvalid_1's l2: 0.437293\n",
      "[350]\ttraining's l2: 0.368622\tvalid_1's l2: 0.437012\n",
      "[400]\ttraining's l2: 0.367933\tvalid_1's l2: 0.436803\n",
      "[450]\ttraining's l2: 0.367334\tvalid_1's l2: 0.436641\n",
      "[500]\ttraining's l2: 0.366759\tvalid_1's l2: 0.436351\n",
      "[550]\ttraining's l2: 0.366245\tvalid_1's l2: 0.436251\n",
      "[600]\ttraining's l2: 0.365747\tvalid_1's l2: 0.436214\n",
      "[650]\ttraining's l2: 0.36528\tvalid_1's l2: 0.436136\n",
      "[700]\ttraining's l2: 0.364821\tvalid_1's l2: 0.436062\n",
      "[750]\ttraining's l2: 0.364363\tvalid_1's l2: 0.435923\n",
      "[800]\ttraining's l2: 0.36396\tvalid_1's l2: 0.435949\n",
      "Early stopping, best iteration is:\n",
      "[777]\ttraining's l2: 0.364128\tvalid_1's l2: 0.435883\n",
      "mean_14_2017: 2603407.57\n",
      "mean_7_2017: 776469.22\n",
      "promo_7: 198516.00\n",
      "mean_3_2017: 72438.79\n",
      "promo_14_2017: 44299.24\n",
      "promo_0: 40539.24\n",
      "promo_14: 24073.22\n",
      "promo_5: 8253.51\n",
      "promo_3: 6835.00\n",
      "promo_9: 6612.91\n",
      "promo_8: 5832.94\n",
      "promo_6: 5471.14\n",
      "promo_2: 3612.06\n",
      "promo_4: 3501.97\n",
      "promo_1: 3307.85\n",
      "promo_15: 3020.63\n",
      "promo_10: 2439.73\n",
      "promo_13: 2074.19\n",
      "promo_11: 1555.39\n",
      "promo_12: 1054.48\n",
      "==================================================\n",
      "Step 9\n",
      "==================================================\n",
      "Training until validation scores don't improve for 50 rounds\n",
      "[50]\ttraining's l2: 0.394454\tvalid_1's l2: 0.438839\n",
      "[100]\ttraining's l2: 0.384305\tvalid_1's l2: 0.426683\n",
      "[150]\ttraining's l2: 0.3816\tvalid_1's l2: 0.425346\n",
      "[200]\ttraining's l2: 0.380179\tvalid_1's l2: 0.425015\n",
      "[250]\ttraining's l2: 0.379102\tvalid_1's l2: 0.424726\n",
      "[300]\ttraining's l2: 0.378277\tvalid_1's l2: 0.424631\n",
      "[350]\ttraining's l2: 0.377531\tvalid_1's l2: 0.424626\n",
      "[400]\ttraining's l2: 0.376852\tvalid_1's l2: 0.424507\n",
      "Early stopping, best iteration is:\n",
      "[382]\ttraining's l2: 0.377079\tvalid_1's l2: 0.424402\n",
      "mean_14_2017: 2300573.21\n",
      "mean_7_2017: 597592.91\n",
      "promo_8: 133368.43\n",
      "mean_3_2017: 59024.86\n",
      "promo_14_2017: 50602.21\n",
      "promo_10: 15978.50\n",
      "promo_7: 8293.64\n",
      "promo_9: 8173.53\n",
      "promo_3: 6119.25\n",
      "promo_11: 4932.30\n",
      "promo_12: 4601.80\n",
      "promo_0: 4047.24\n",
      "promo_13: 3803.39\n",
      "promo_5: 3586.16\n",
      "promo_14: 3166.25\n",
      "promo_1: 2658.88\n",
      "promo_15: 2579.31\n",
      "promo_6: 2274.20\n",
      "promo_2: 2131.58\n",
      "promo_4: 1524.64\n",
      "==================================================\n",
      "Step 10\n",
      "==================================================\n",
      "Training until validation scores don't improve for 50 rounds\n",
      "[50]\ttraining's l2: 0.410268\tvalid_1's l2: 0.441386\n",
      "[100]\ttraining's l2: 0.397435\tvalid_1's l2: 0.428645\n",
      "[150]\ttraining's l2: 0.394007\tvalid_1's l2: 0.427161\n",
      "[200]\ttraining's l2: 0.392311\tvalid_1's l2: 0.426936\n",
      "[250]\ttraining's l2: 0.391059\tvalid_1's l2: 0.426797\n",
      "Early stopping, best iteration is:\n",
      "[233]\ttraining's l2: 0.39144\tvalid_1's l2: 0.426778\n",
      "mean_14_2017: 2548324.36\n",
      "mean_7_2017: 735232.27\n",
      "promo_9: 181136.91\n",
      "promo_14_2017: 64848.44\n",
      "mean_3_2017: 64770.10\n",
      "promo_2: 20262.04\n",
      "promo_10: 11335.77\n",
      "promo_7: 9002.29\n",
      "promo_14: 5787.83\n",
      "promo_8: 5624.83\n",
      "promo_12: 4797.61\n",
      "promo_11: 4222.07\n",
      "promo_0: 2668.51\n",
      "promo_13: 2376.88\n",
      "promo_6: 2277.20\n",
      "promo_1: 2202.77\n",
      "promo_15: 1583.12\n",
      "promo_4: 1506.77\n",
      "promo_5: 1429.57\n",
      "promo_3: 931.61\n",
      "==================================================\n",
      "Step 11\n",
      "==================================================\n",
      "Training until validation scores don't improve for 50 rounds\n",
      "[50]\ttraining's l2: 0.4461\tvalid_1's l2: 0.448817\n",
      "[100]\ttraining's l2: 0.433812\tvalid_1's l2: 0.439049\n",
      "[150]\ttraining's l2: 0.429859\tvalid_1's l2: 0.438256\n",
      "[200]\ttraining's l2: 0.428138\tvalid_1's l2: 0.438314\n",
      "Early stopping, best iteration is:\n",
      "[153]\ttraining's l2: 0.429725\tvalid_1's l2: 0.438209\n",
      "mean_14_2017: 2870848.13\n",
      "mean_7_2017: 878900.61\n",
      "promo_10: 116638.93\n",
      "mean_3_2017: 67315.27\n",
      "promo_14_2017: 51223.29\n",
      "promo_9: 13731.35\n",
      "promo_12: 10888.76\n",
      "promo_14: 9540.64\n",
      "promo_11: 9411.57\n",
      "promo_7: 8314.67\n",
      "promo_8: 7904.56\n",
      "promo_3: 4642.04\n",
      "promo_15: 4031.96\n",
      "promo_13: 3805.96\n",
      "promo_2: 2428.10\n",
      "promo_0: 2127.49\n",
      "promo_6: 1999.64\n",
      "promo_1: 1995.37\n",
      "promo_5: 1912.41\n",
      "promo_4: 1520.01\n",
      "==================================================\n",
      "Step 12\n",
      "==================================================\n",
      "Training until validation scores don't improve for 50 rounds\n",
      "[50]\ttraining's l2: 0.473525\tvalid_1's l2: 0.47784\n",
      "[100]\ttraining's l2: 0.459773\tvalid_1's l2: 0.467025\n",
      "[150]\ttraining's l2: 0.455786\tvalid_1's l2: 0.465538\n",
      "[200]\ttraining's l2: 0.453805\tvalid_1's l2: 0.464761\n",
      "[250]\ttraining's l2: 0.452295\tvalid_1's l2: 0.464488\n",
      "[300]\ttraining's l2: 0.45121\tvalid_1's l2: 0.464314\n",
      "[350]\ttraining's l2: 0.450268\tvalid_1's l2: 0.464118\n",
      "[400]\ttraining's l2: 0.449399\tvalid_1's l2: 0.464023\n",
      "[450]\ttraining's l2: 0.448695\tvalid_1's l2: 0.463998\n",
      "Early stopping, best iteration is:\n",
      "[424]\ttraining's l2: 0.449058\tvalid_1's l2: 0.463953\n",
      "mean_14_2017: 3166974.04\n",
      "mean_7_2017: 581726.89\n",
      "mean_3_2017: 355702.83\n",
      "promo_11: 121978.27\n",
      "promo_14_2017: 51586.55\n",
      "promo_14: 12745.90\n",
      "promo_10: 12035.30\n",
      "promo_12: 11972.31\n",
      "promo_9: 11770.36\n",
      "promo_4: 10828.92\n",
      "promo_13: 8839.08\n",
      "promo_7: 8275.79\n",
      "promo_8: 6249.59\n",
      "promo_15: 4164.23\n",
      "promo_0: 3211.73\n",
      "promo_6: 3035.23\n",
      "promo_1: 2423.42\n",
      "promo_2: 2389.92\n",
      "promo_5: 2075.31\n",
      "promo_3: 1883.77\n",
      "==================================================\n",
      "Step 13\n",
      "==================================================\n",
      "Training until validation scores don't improve for 50 rounds\n",
      "[50]\ttraining's l2: 0.43939\tvalid_1's l2: 0.441651\n",
      "[100]\ttraining's l2: 0.427453\tvalid_1's l2: 0.431391\n",
      "[150]\ttraining's l2: 0.424102\tvalid_1's l2: 0.430152\n",
      "[200]\ttraining's l2: 0.422408\tvalid_1's l2: 0.429731\n",
      "[250]\ttraining's l2: 0.421086\tvalid_1's l2: 0.42938\n",
      "[300]\ttraining's l2: 0.420064\tvalid_1's l2: 0.429288\n",
      "[350]\ttraining's l2: 0.419165\tvalid_1's l2: 0.42926\n",
      "[400]\ttraining's l2: 0.418355\tvalid_1's l2: 0.429223\n",
      "[450]\ttraining's l2: 0.417683\tvalid_1's l2: 0.429136\n",
      "[500]\ttraining's l2: 0.416992\tvalid_1's l2: 0.429184\n",
      "Early stopping, best iteration is:\n",
      "[457]\ttraining's l2: 0.417584\tvalid_1's l2: 0.429101\n",
      "mean_14_2017: 2634959.54\n",
      "mean_7_2017: 522299.59\n",
      "mean_3_2017: 268895.33\n",
      "promo_12: 109040.15\n",
      "promo_14_2017: 48007.63\n",
      "promo_13: 28165.73\n",
      "promo_10: 13683.82\n",
      "promo_14: 12164.88\n",
      "promo_9: 8795.94\n",
      "promo_5: 6199.28\n",
      "promo_15: 5962.59\n",
      "promo_7: 5958.43\n",
      "promo_11: 5685.42\n",
      "promo_8: 4162.82\n",
      "promo_0: 3288.87\n",
      "promo_6: 2733.61\n",
      "promo_3: 2284.94\n",
      "promo_2: 1853.25\n",
      "promo_1: 1637.26\n",
      "promo_4: 1579.07\n",
      "==================================================\n",
      "Step 14\n",
      "==================================================\n",
      "Training until validation scores don't improve for 50 rounds\n",
      "[50]\ttraining's l2: 0.424514\tvalid_1's l2: 0.424352\n",
      "[100]\ttraining's l2: 0.412206\tvalid_1's l2: 0.41491\n",
      "[150]\ttraining's l2: 0.408842\tvalid_1's l2: 0.414003\n",
      "[200]\ttraining's l2: 0.407256\tvalid_1's l2: 0.413826\n",
      "[250]\ttraining's l2: 0.406078\tvalid_1's l2: 0.413579\n",
      "[300]\ttraining's l2: 0.405165\tvalid_1's l2: 0.413391\n",
      "[350]\ttraining's l2: 0.404324\tvalid_1's l2: 0.413386\n",
      "Early stopping, best iteration is:\n",
      "[333]\ttraining's l2: 0.404601\tvalid_1's l2: 0.413343\n",
      "mean_14_2017: 2414178.80\n",
      "mean_7_2017: 533597.07\n",
      "mean_3_2017: 189933.29\n",
      "promo_13: 188021.71\n",
      "promo_14_2017: 49620.49\n",
      "promo_12: 16517.52\n",
      "promo_14: 14047.63\n",
      "promo_6: 13481.41\n",
      "promo_10: 10646.42\n",
      "promo_7: 6598.75\n",
      "promo_9: 6302.95\n",
      "promo_0: 5252.05\n",
      "promo_11: 4601.33\n",
      "promo_8: 3866.84\n",
      "promo_15: 3429.79\n",
      "promo_2: 2227.41\n",
      "promo_1: 1772.52\n",
      "promo_4: 1417.84\n",
      "promo_5: 1366.50\n",
      "promo_3: 951.63\n",
      "==================================================\n",
      "Step 15\n",
      "==================================================\n",
      "Training until validation scores don't improve for 50 rounds\n",
      "[50]\ttraining's l2: 0.410429\tvalid_1's l2: 0.409724\n",
      "[100]\ttraining's l2: 0.39681\tvalid_1's l2: 0.398224\n",
      "[150]\ttraining's l2: 0.394141\tvalid_1's l2: 0.397648\n",
      "[200]\ttraining's l2: 0.392699\tvalid_1's l2: 0.397546\n",
      "[250]\ttraining's l2: 0.391551\tvalid_1's l2: 0.397307\n",
      "[300]\ttraining's l2: 0.390614\tvalid_1's l2: 0.397169\n",
      "[350]\ttraining's l2: 0.38982\tvalid_1's l2: 0.396938\n",
      "[400]\ttraining's l2: 0.389119\tvalid_1's l2: 0.39673\n",
      "[450]\ttraining's l2: 0.388437\tvalid_1's l2: 0.39665\n"
     ]
    },
    {
     "name": "stdout",
     "output_type": "stream",
     "text": [
      "[500]\ttraining's l2: 0.387841\tvalid_1's l2: 0.396546\n",
      "[550]\ttraining's l2: 0.387289\tvalid_1's l2: 0.396527\n",
      "[600]\ttraining's l2: 0.386747\tvalid_1's l2: 0.396478\n",
      "Early stopping, best iteration is:\n",
      "[584]\ttraining's l2: 0.386893\tvalid_1's l2: 0.396448\n",
      "mean_14_2017: 2641862.19\n",
      "mean_7_2017: 565506.84\n",
      "promo_14: 234889.41\n",
      "mean_3_2017: 66075.23\n",
      "promo_14_2017: 51858.91\n",
      "promo_7: 29922.84\n",
      "promo_0: 29759.80\n",
      "promo_15: 19371.64\n",
      "promo_13: 11638.52\n",
      "promo_9: 10257.70\n",
      "promo_12: 8979.95\n",
      "promo_10: 6598.33\n",
      "promo_2: 4391.81\n",
      "promo_6: 4033.92\n",
      "promo_11: 3483.20\n",
      "promo_8: 3161.31\n",
      "promo_4: 2506.13\n",
      "promo_1: 2225.89\n",
      "promo_5: 1698.90\n",
      "promo_3: 1301.72\n",
      "==================================================\n",
      "Step 16\n",
      "==================================================\n",
      "Training until validation scores don't improve for 50 rounds\n",
      "[50]\ttraining's l2: 0.418699\tvalid_1's l2: 0.431334\n",
      "[100]\ttraining's l2: 0.408347\tvalid_1's l2: 0.423344\n",
      "[150]\ttraining's l2: 0.40537\tvalid_1's l2: 0.422401\n",
      "[200]\ttraining's l2: 0.403705\tvalid_1's l2: 0.421863\n",
      "[250]\ttraining's l2: 0.40255\tvalid_1's l2: 0.421625\n",
      "[300]\ttraining's l2: 0.401536\tvalid_1's l2: 0.421596\n",
      "[350]\ttraining's l2: 0.400745\tvalid_1's l2: 0.421497\n",
      "[400]\ttraining's l2: 0.39998\tvalid_1's l2: 0.421559\n",
      "Early stopping, best iteration is:\n",
      "[353]\ttraining's l2: 0.400672\tvalid_1's l2: 0.421472\n",
      "mean_14_2017: 2379556.00\n",
      "mean_7_2017: 394551.80\n",
      "promo_15: 183193.84\n",
      "mean_3_2017: 56006.92\n",
      "promo_14_2017: 51067.44\n",
      "promo_14: 9521.40\n",
      "promo_7: 5105.00\n",
      "promo_10: 4635.81\n",
      "promo_9: 4412.40\n",
      "promo_0: 4410.89\n",
      "promo_12: 3746.97\n",
      "promo_13: 3742.05\n",
      "promo_8: 2999.67\n",
      "promo_11: 2576.08\n",
      "promo_2: 2316.88\n",
      "promo_1: 1944.16\n",
      "promo_6: 1891.31\n",
      "promo_3: 1598.85\n",
      "promo_4: 1424.82\n",
      "promo_5: 1219.05\n"
     ]
    }
   ],
   "source": [
    "for i in range(16):\n",
    "    print(\"=\" * 50)\n",
    "    print(\"Step %d\" % (i+1))\n",
    "    print(\"=\" * 50)\n",
    "    dtrain = lgb.Dataset(\n",
    "        X_train, label=y_train[:, i],\n",
    "        categorical_feature=cate_vars,\n",
    "        weight=pd.concat([items[\"perishable\"]] * 4) * 0.25 + 1\n",
    "    )\n",
    "    dval = lgb.Dataset(\n",
    "        X_val, label=y_val[:, i], reference=dtrain,\n",
    "        weight=items[\"perishable\"] * 0.25 + 1,\n",
    "        categorical_feature=cate_vars)\n",
    "    bst = lgb.train(\n",
    "        params, dtrain, num_boost_round=MAX_ROUNDS,\n",
    "        valid_sets=[dtrain, dval], early_stopping_rounds=50, verbose_eval=50\n",
    "    )\n",
    "    print(\"\\n\".join((\"%s: %.2f\" % x) for x in sorted(\n",
    "        zip(X_train.columns, bst.feature_importance(\"gain\")),\n",
    "        key=lambda x: x[1], reverse=True\n",
    "    )))\n",
    "    val_pred.append(bst.predict(\n",
    "        X_val, num_iteration=bst.best_iteration or MAX_ROUNDS))\n",
    "    test_pred.append(bst.predict(\n",
    "        X_test, num_iteration=bst.best_iteration or MAX_ROUNDS))"
   ]
  },
  {
   "cell_type": "code",
   "execution_count": 134,
   "metadata": {},
   "outputs": [
    {
     "name": "stdout",
     "output_type": "stream",
     "text": [
      "Validation mse: 0.4139337633011243\n"
     ]
    }
   ],
   "source": [
    "print(\"Validation mse:\", mean_squared_error(\n",
    "    y_val, np.array(val_pred).transpose()))"
   ]
  },
  {
   "cell_type": "code",
   "execution_count": 135,
   "metadata": {},
   "outputs": [
    {
     "name": "stdout",
     "output_type": "stream",
     "text": [
      "Making submission...\n"
     ]
    }
   ],
   "source": [
    "print(\"Making submission...\")\n",
    "y_test = np.array(test_pred).transpose()\n",
    "df_preds = pd.DataFrame(\n",
    "    y_test, index=df_2017.index,\n",
    "    columns=pd.date_range(\"2017-08-16\", periods=16)\n",
    ").stack().to_frame(\"unit_sales\")\n",
    "df_preds.index.set_names([\"store_nbr\", \"item_nbr\", \"date\"], inplace=True)\n"
   ]
  },
  {
   "cell_type": "code",
   "execution_count": 136,
   "metadata": {},
   "outputs": [],
   "source": [
    "submission = df_test[[\"id\"]].join(df_preds, how=\"left\").fillna(0)"
   ]
  },
  {
   "cell_type": "code",
   "execution_count": 137,
   "metadata": {},
   "outputs": [],
   "source": [
    "submission[\"unit_sales\"] = np.clip(np.expm1(submission[\"unit_sales\"]), 0, 1000)\n",
    "submission.to_csv('lgb.csv', float_format='%.4f', index=None)"
   ]
  },
  {
   "cell_type": "markdown",
   "metadata": {},
   "source": [
    "# 12. Conclusion\n",
    "We are getting following results on applying data set on different models:\n",
    "\n",
    "Model                                    \n",
    "R2 Score\n",
    "\n",
    "Linear Regression                  \n",
    "0.354\n",
    "\n",
    "Decision Tree Regression           \n",
    "0.705\n",
    "\n",
    "Extra Tree Regression              \n",
    "0.825\n",
    "\n",
    "Random Forest Regression           \n",
    "0.836\n",
    "\n",
    "Gradient Boosting Regression       \n",
    "0.836\n",
    "\n",
    "XG Boost                           \n",
    "0.797\n",
    "\n",
    "LGBM                               \n",
    "0.759"
   ]
  },
  {
   "cell_type": "markdown",
   "metadata": {
    "collapsed": true
   },
   "source": [
    "# 13. References and Attributions\n",
    "\n",
    "[1] Cui, G., Wong, M. L., & Lui, H. K. (2006). Machine learning for direct marketing response models:\n",
    "Bayesian networks with evolutionary programming.Management Science, 52(4), 597-612\n",
    "\n",
    "[2] Taylor, E. L. (2014). Predicting Consumer Behavior. Research World, 2014(46), 67-68\n",
    "\n",
    "[3] Morwitz, V. G., Steckel, J. H., & Gupta, A. (2007). When do purchase intentions predict sales?.\n",
    "International Journal of Forecasting, 23(3), 347-364\n",
    "\n",
    "[4] https://www.kaggle.com/c/favorita-grocery-sales-forecasting/data\n",
    "\n",
    "[5] https://en.wikipedia.org/wiki/Xgboost\n",
    "\n",
    "[6] https://en.wikipedia.org/wiki/Random_forest\n",
    "\n",
    "[7] https://en.wikipedia.org/wiki/Decision_tree\n",
    "\n",
    "[8]https://www.analyticsvidhya.com/blog/2017/06/which-algorithm-takes-the-crown-light-gbm-vsxgboost/\n",
    "\n",
    "[9] https://www.tutorialspoint.com/sales_forecasting/sales_forecasting_discussion.html\n",
    "\n",
    "The text in the document by Source Wikipedia is licensed under CC BY 3.0 https://creativecommons.org/licenses/by/3.0/us/\n",
    "\n",
    "The text in the document by Analytics Vidhya is licensed under CC BY 3.0 https://creativecommons.org/licenses/by/3.0/us/\n",
    "\n",
    "The text in the document by towards data science is licensed under CC BY 3.0 https://creativecommons.org/licenses/by/3.0/us/\n",
    "\n",
    "The code in the document by Source Kaggle is licensed under the MIT License https://opensource.org/licenses/MIT"
   ]
  }
 ],
 "metadata": {
  "kernelspec": {
   "display_name": "Python 3",
   "language": "python",
   "name": "python3"
  },
  "language_info": {
   "codemirror_mode": {
    "name": "ipython",
    "version": 3
   },
   "file_extension": ".py",
   "mimetype": "text/x-python",
   "name": "python",
   "nbconvert_exporter": "python",
   "pygments_lexer": "ipython3",
   "version": "3.7.5"
  }
 },
 "nbformat": 4,
 "nbformat_minor": 2
}
